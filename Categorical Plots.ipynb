<!DOCTYPE html>
<html>
<head><meta charset="utf-8" />
<title>Categorical Plots</title><script src="https://cdnjs.cloudflare.com/ajax/libs/require.js/2.1.10/require.min.js"></script>
<script src="https://cdnjs.cloudflare.com/ajax/libs/jquery/2.0.3/jquery.min.js"></script>

<style type="text/css">
    /*!
*
* Twitter Bootstrap
*
*/
/*!
 * Bootstrap v3.3.7 (http://getbootstrap.com)
 * Copyright 2011-2016 Twitter, Inc.
 * Licensed under MIT (https://github.com/twbs/bootstrap/blob/master/LICENSE)
 */
/*! normalize.css v3.0.3 | MIT License | github.com/necolas/normalize.css */
html {
  font-family: sans-serif;
  -ms-text-size-adjust: 100%;
  -webkit-text-size-adjust: 100%;
}
body {
  margin: 0;
}
article,
aside,
details,
figcaption,
figure,
footer,
header,
hgroup,
main,
menu,
nav,
section,
summary {
  display: block;
}
audio,
canvas,
progress,
video {
  display: inline-block;
  vertical-align: baseline;
}
audio:not([controls]) {
  display: none;
  height: 0;
}
[hidden],
template {
  display: none;
}
a {
  background-color: transparent;
}
a:active,
a:hover {
  outline: 0;
}
abbr[title] {
  border-bottom: 1px dotted;
}
b,
strong {
  font-weight: bold;
}
dfn {
  font-style: italic;
}
h1 {
  font-size: 2em;
  margin: 0.67em 0;
}
mark {
  background: #ff0;
  color: #000;
}
small {
  font-size: 80%;
}
sub,
sup {
  font-size: 75%;
  line-height: 0;
  position: relative;
  vertical-align: baseline;
}
sup {
  top: -0.5em;
}
sub {
  bottom: -0.25em;
}
img {
  border: 0;
}
svg:not(:root) {
  overflow: hidden;
}
figure {
  margin: 1em 40px;
}
hr {
  box-sizing: content-box;
  height: 0;
}
pre {
  overflow: auto;
}
code,
kbd,
pre,
samp {
  font-family: monospace, monospace;
  font-size: 1em;
}
button,
input,
optgroup,
select,
textarea {
  color: inherit;
  font: inherit;
  margin: 0;
}
button {
  overflow: visible;
}
button,
select {
  text-transform: none;
}
button,
html input[type="button"],
input[type="reset"],
input[type="submit"] {
  -webkit-appearance: button;
  cursor: pointer;
}
button[disabled],
html input[disabled] {
  cursor: default;
}
button::-moz-focus-inner,
input::-moz-focus-inner {
  border: 0;
  padding: 0;
}
input {
  line-height: normal;
}
input[type="checkbox"],
input[type="radio"] {
  box-sizing: border-box;
  padding: 0;
}
input[type="number"]::-webkit-inner-spin-button,
input[type="number"]::-webkit-outer-spin-button {
  height: auto;
}
input[type="search"] {
  -webkit-appearance: textfield;
  box-sizing: content-box;
}
input[type="search"]::-webkit-search-cancel-button,
input[type="search"]::-webkit-search-decoration {
  -webkit-appearance: none;
}
fieldset {
  border: 1px solid #c0c0c0;
  margin: 0 2px;
  padding: 0.35em 0.625em 0.75em;
}
legend {
  border: 0;
  padding: 0;
}
textarea {
  overflow: auto;
}
optgroup {
  font-weight: bold;
}
table {
  border-collapse: collapse;
  border-spacing: 0;
}
td,
th {
  padding: 0;
}
/*! Source: https://github.com/h5bp/html5-boilerplate/blob/master/src/css/main.css */
@media print {
  *,
  *:before,
  *:after {
    background: transparent !important;
    color: #000 !important;
    box-shadow: none !important;
    text-shadow: none !important;
  }
  a,
  a:visited {
    text-decoration: underline;
  }
  a[href]:after {
    content: " (" attr(href) ")";
  }
  abbr[title]:after {
    content: " (" attr(title) ")";
  }
  a[href^="#"]:after,
  a[href^="javascript:"]:after {
    content: "";
  }
  pre,
  blockquote {
    border: 1px solid #999;
    page-break-inside: avoid;
  }
  thead {
    display: table-header-group;
  }
  tr,
  img {
    page-break-inside: avoid;
  }
  img {
    max-width: 100% !important;
  }
  p,
  h2,
  h3 {
    orphans: 3;
    widows: 3;
  }
  h2,
  h3 {
    page-break-after: avoid;
  }
  .navbar {
    display: none;
  }
  .btn > .caret,
  .dropup > .btn > .caret {
    border-top-color: #000 !important;
  }
  .label {
    border: 1px solid #000;
  }
  .table {
    border-collapse: collapse !important;
  }
  .table td,
  .table th {
    background-color: #fff !important;
  }
  .table-bordered th,
  .table-bordered td {
    border: 1px solid #ddd !important;
  }
}
@font-face {
  font-family: 'Glyphicons Halflings';
  src: url('../components/bootstrap/fonts/glyphicons-halflings-regular.eot');
  src: url('../components/bootstrap/fonts/glyphicons-halflings-regular.eot?#iefix') format('embedded-opentype'), url('../components/bootstrap/fonts/glyphicons-halflings-regular.woff2') format('woff2'), url('../components/bootstrap/fonts/glyphicons-halflings-regular.woff') format('woff'), url('../components/bootstrap/fonts/glyphicons-halflings-regular.ttf') format('truetype'), url('../components/bootstrap/fonts/glyphicons-halflings-regular.svg#glyphicons_halflingsregular') format('svg');
}
.glyphicon {
  position: relative;
  top: 1px;
  display: inline-block;
  font-family: 'Glyphicons Halflings';
  font-style: normal;
  font-weight: normal;
  line-height: 1;
  -webkit-font-smoothing: antialiased;
  -moz-osx-font-smoothing: grayscale;
}
.glyphicon-asterisk:before {
  content: "\002a";
}
.glyphicon-plus:before {
  content: "\002b";
}
.glyphicon-euro:before,
.glyphicon-eur:before {
  content: "\20ac";
}
.glyphicon-minus:before {
  content: "\2212";
}
.glyphicon-cloud:before {
  content: "\2601";
}
.glyphicon-envelope:before {
  content: "\2709";
}
.glyphicon-pencil:before {
  content: "\270f";
}
.glyphicon-glass:before {
  content: "\e001";
}
.glyphicon-music:before {
  content: "\e002";
}
.glyphicon-search:before {
  content: "\e003";
}
.glyphicon-heart:before {
  content: "\e005";
}
.glyphicon-star:before {
  content: "\e006";
}
.glyphicon-star-empty:before {
  content: "\e007";
}
.glyphicon-user:before {
  content: "\e008";
}
.glyphicon-film:before {
  content: "\e009";
}
.glyphicon-th-large:before {
  content: "\e010";
}
.glyphicon-th:before {
  content: "\e011";
}
.glyphicon-th-list:before {
  content: "\e012";
}
.glyphicon-ok:before {
  content: "\e013";
}
.glyphicon-remove:before {
  content: "\e014";
}
.glyphicon-zoom-in:before {
  content: "\e015";
}
.glyphicon-zoom-out:before {
  content: "\e016";
}
.glyphicon-off:before {
  content: "\e017";
}
.glyphicon-signal:before {
  content: "\e018";
}
.glyphicon-cog:before {
  content: "\e019";
}
.glyphicon-trash:before {
  content: "\e020";
}
.glyphicon-home:before {
  content: "\e021";
}
.glyphicon-file:before {
  content: "\e022";
}
.glyphicon-time:before {
  content: "\e023";
}
.glyphicon-road:before {
  content: "\e024";
}
.glyphicon-download-alt:before {
  content: "\e025";
}
.glyphicon-download:before {
  content: "\e026";
}
.glyphicon-upload:before {
  content: "\e027";
}
.glyphicon-inbox:before {
  content: "\e028";
}
.glyphicon-play-circle:before {
  content: "\e029";
}
.glyphicon-repeat:before {
  content: "\e030";
}
.glyphicon-refresh:before {
  content: "\e031";
}
.glyphicon-list-alt:before {
  content: "\e032";
}
.glyphicon-lock:before {
  content: "\e033";
}
.glyphicon-flag:before {
  content: "\e034";
}
.glyphicon-headphones:before {
  content: "\e035";
}
.glyphicon-volume-off:before {
  content: "\e036";
}
.glyphicon-volume-down:before {
  content: "\e037";
}
.glyphicon-volume-up:before {
  content: "\e038";
}
.glyphicon-qrcode:before {
  content: "\e039";
}
.glyphicon-barcode:before {
  content: "\e040";
}
.glyphicon-tag:before {
  content: "\e041";
}
.glyphicon-tags:before {
  content: "\e042";
}
.glyphicon-book:before {
  content: "\e043";
}
.glyphicon-bookmark:before {
  content: "\e044";
}
.glyphicon-print:before {
  content: "\e045";
}
.glyphicon-camera:before {
  content: "\e046";
}
.glyphicon-font:before {
  content: "\e047";
}
.glyphicon-bold:before {
  content: "\e048";
}
.glyphicon-italic:before {
  content: "\e049";
}
.glyphicon-text-height:before {
  content: "\e050";
}
.glyphicon-text-width:before {
  content: "\e051";
}
.glyphicon-align-left:before {
  content: "\e052";
}
.glyphicon-align-center:before {
  content: "\e053";
}
.glyphicon-align-right:before {
  content: "\e054";
}
.glyphicon-align-justify:before {
  content: "\e055";
}
.glyphicon-list:before {
  content: "\e056";
}
.glyphicon-indent-left:before {
  content: "\e057";
}
.glyphicon-indent-right:before {
  content: "\e058";
}
.glyphicon-facetime-video:before {
  content: "\e059";
}
.glyphicon-picture:before {
  content: "\e060";
}
.glyphicon-map-marker:before {
  content: "\e062";
}
.glyphicon-adjust:before {
  content: "\e063";
}
.glyphicon-tint:before {
  content: "\e064";
}
.glyphicon-edit:before {
  content: "\e065";
}
.glyphicon-share:before {
  content: "\e066";
}
.glyphicon-check:before {
  content: "\e067";
}
.glyphicon-move:before {
  content: "\e068";
}
.glyphicon-step-backward:before {
  content: "\e069";
}
.glyphicon-fast-backward:before {
  content: "\e070";
}
.glyphicon-backward:before {
  content: "\e071";
}
.glyphicon-play:before {
  content: "\e072";
}
.glyphicon-pause:before {
  content: "\e073";
}
.glyphicon-stop:before {
  content: "\e074";
}
.glyphicon-forward:before {
  content: "\e075";
}
.glyphicon-fast-forward:before {
  content: "\e076";
}
.glyphicon-step-forward:before {
  content: "\e077";
}
.glyphicon-eject:before {
  content: "\e078";
}
.glyphicon-chevron-left:before {
  content: "\e079";
}
.glyphicon-chevron-right:before {
  content: "\e080";
}
.glyphicon-plus-sign:before {
  content: "\e081";
}
.glyphicon-minus-sign:before {
  content: "\e082";
}
.glyphicon-remove-sign:before {
  content: "\e083";
}
.glyphicon-ok-sign:before {
  content: "\e084";
}
.glyphicon-question-sign:before {
  content: "\e085";
}
.glyphicon-info-sign:before {
  content: "\e086";
}
.glyphicon-screenshot:before {
  content: "\e087";
}
.glyphicon-remove-circle:before {
  content: "\e088";
}
.glyphicon-ok-circle:before {
  content: "\e089";
}
.glyphicon-ban-circle:before {
  content: "\e090";
}
.glyphicon-arrow-left:before {
  content: "\e091";
}
.glyphicon-arrow-right:before {
  content: "\e092";
}
.glyphicon-arrow-up:before {
  content: "\e093";
}
.glyphicon-arrow-down:before {
  content: "\e094";
}
.glyphicon-share-alt:before {
  content: "\e095";
}
.glyphicon-resize-full:before {
  content: "\e096";
}
.glyphicon-resize-small:before {
  content: "\e097";
}
.glyphicon-exclamation-sign:before {
  content: "\e101";
}
.glyphicon-gift:before {
  content: "\e102";
}
.glyphicon-leaf:before {
  content: "\e103";
}
.glyphicon-fire:before {
  content: "\e104";
}
.glyphicon-eye-open:before {
  content: "\e105";
}
.glyphicon-eye-close:before {
  content: "\e106";
}
.glyphicon-warning-sign:before {
  content: "\e107";
}
.glyphicon-plane:before {
  content: "\e108";
}
.glyphicon-calendar:before {
  content: "\e109";
}
.glyphicon-random:before {
  content: "\e110";
}
.glyphicon-comment:before {
  content: "\e111";
}
.glyphicon-magnet:before {
  content: "\e112";
}
.glyphicon-chevron-up:before {
  content: "\e113";
}
.glyphicon-chevron-down:before {
  content: "\e114";
}
.glyphicon-retweet:before {
  content: "\e115";
}
.glyphicon-shopping-cart:before {
  content: "\e116";
}
.glyphicon-folder-close:before {
  content: "\e117";
}
.glyphicon-folder-open:before {
  content: "\e118";
}
.glyphicon-resize-vertical:before {
  content: "\e119";
}
.glyphicon-resize-horizontal:before {
  content: "\e120";
}
.glyphicon-hdd:before {
  content: "\e121";
}
.glyphicon-bullhorn:before {
  content: "\e122";
}
.glyphicon-bell:before {
  content: "\e123";
}
.glyphicon-certificate:before {
  content: "\e124";
}
.glyphicon-thumbs-up:before {
  content: "\e125";
}
.glyphicon-thumbs-down:before {
  content: "\e126";
}
.glyphicon-hand-right:before {
  content: "\e127";
}
.glyphicon-hand-left:before {
  content: "\e128";
}
.glyphicon-hand-up:before {
  content: "\e129";
}
.glyphicon-hand-down:before {
  content: "\e130";
}
.glyphicon-circle-arrow-right:before {
  content: "\e131";
}
.glyphicon-circle-arrow-left:before {
  content: "\e132";
}
.glyphicon-circle-arrow-up:before {
  content: "\e133";
}
.glyphicon-circle-arrow-down:before {
  content: "\e134";
}
.glyphicon-globe:before {
  content: "\e135";
}
.glyphicon-wrench:before {
  content: "\e136";
}
.glyphicon-tasks:before {
  content: "\e137";
}
.glyphicon-filter:before {
  content: "\e138";
}
.glyphicon-briefcase:before {
  content: "\e139";
}
.glyphicon-fullscreen:before {
  content: "\e140";
}
.glyphicon-dashboard:before {
  content: "\e141";
}
.glyphicon-paperclip:before {
  content: "\e142";
}
.glyphicon-heart-empty:before {
  content: "\e143";
}
.glyphicon-link:before {
  content: "\e144";
}
.glyphicon-phone:before {
  content: "\e145";
}
.glyphicon-pushpin:before {
  content: "\e146";
}
.glyphicon-usd:before {
  content: "\e148";
}
.glyphicon-gbp:before {
  content: "\e149";
}
.glyphicon-sort:before {
  content: "\e150";
}
.glyphicon-sort-by-alphabet:before {
  content: "\e151";
}
.glyphicon-sort-by-alphabet-alt:before {
  content: "\e152";
}
.glyphicon-sort-by-order:before {
  content: "\e153";
}
.glyphicon-sort-by-order-alt:before {
  content: "\e154";
}
.glyphicon-sort-by-attributes:before {
  content: "\e155";
}
.glyphicon-sort-by-attributes-alt:before {
  content: "\e156";
}
.glyphicon-unchecked:before {
  content: "\e157";
}
.glyphicon-expand:before {
  content: "\e158";
}
.glyphicon-collapse-down:before {
  content: "\e159";
}
.glyphicon-collapse-up:before {
  content: "\e160";
}
.glyphicon-log-in:before {
  content: "\e161";
}
.glyphicon-flash:before {
  content: "\e162";
}
.glyphicon-log-out:before {
  content: "\e163";
}
.glyphicon-new-window:before {
  content: "\e164";
}
.glyphicon-record:before {
  content: "\e165";
}
.glyphicon-save:before {
  content: "\e166";
}
.glyphicon-open:before {
  content: "\e167";
}
.glyphicon-saved:before {
  content: "\e168";
}
.glyphicon-import:before {
  content: "\e169";
}
.glyphicon-export:before {
  content: "\e170";
}
.glyphicon-send:before {
  content: "\e171";
}
.glyphicon-floppy-disk:before {
  content: "\e172";
}
.glyphicon-floppy-saved:before {
  content: "\e173";
}
.glyphicon-floppy-remove:before {
  content: "\e174";
}
.glyphicon-floppy-save:before {
  content: "\e175";
}
.glyphicon-floppy-open:before {
  content: "\e176";
}
.glyphicon-credit-card:before {
  content: "\e177";
}
.glyphicon-transfer:before {
  content: "\e178";
}
.glyphicon-cutlery:before {
  content: "\e179";
}
.glyphicon-header:before {
  content: "\e180";
}
.glyphicon-compressed:before {
  content: "\e181";
}
.glyphicon-earphone:before {
  content: "\e182";
}
.glyphicon-phone-alt:before {
  content: "\e183";
}
.glyphicon-tower:before {
  content: "\e184";
}
.glyphicon-stats:before {
  content: "\e185";
}
.glyphicon-sd-video:before {
  content: "\e186";
}
.glyphicon-hd-video:before {
  content: "\e187";
}
.glyphicon-subtitles:before {
  content: "\e188";
}
.glyphicon-sound-stereo:before {
  content: "\e189";
}
.glyphicon-sound-dolby:before {
  content: "\e190";
}
.glyphicon-sound-5-1:before {
  content: "\e191";
}
.glyphicon-sound-6-1:before {
  content: "\e192";
}
.glyphicon-sound-7-1:before {
  content: "\e193";
}
.glyphicon-copyright-mark:before {
  content: "\e194";
}
.glyphicon-registration-mark:before {
  content: "\e195";
}
.glyphicon-cloud-download:before {
  content: "\e197";
}
.glyphicon-cloud-upload:before {
  content: "\e198";
}
.glyphicon-tree-conifer:before {
  content: "\e199";
}
.glyphicon-tree-deciduous:before {
  content: "\e200";
}
.glyphicon-cd:before {
  content: "\e201";
}
.glyphicon-save-file:before {
  content: "\e202";
}
.glyphicon-open-file:before {
  content: "\e203";
}
.glyphicon-level-up:before {
  content: "\e204";
}
.glyphicon-copy:before {
  content: "\e205";
}
.glyphicon-paste:before {
  content: "\e206";
}
.glyphicon-alert:before {
  content: "\e209";
}
.glyphicon-equalizer:before {
  content: "\e210";
}
.glyphicon-king:before {
  content: "\e211";
}
.glyphicon-queen:before {
  content: "\e212";
}
.glyphicon-pawn:before {
  content: "\e213";
}
.glyphicon-bishop:before {
  content: "\e214";
}
.glyphicon-knight:before {
  content: "\e215";
}
.glyphicon-baby-formula:before {
  content: "\e216";
}
.glyphicon-tent:before {
  content: "\26fa";
}
.glyphicon-blackboard:before {
  content: "\e218";
}
.glyphicon-bed:before {
  content: "\e219";
}
.glyphicon-apple:before {
  content: "\f8ff";
}
.glyphicon-erase:before {
  content: "\e221";
}
.glyphicon-hourglass:before {
  content: "\231b";
}
.glyphicon-lamp:before {
  content: "\e223";
}
.glyphicon-duplicate:before {
  content: "\e224";
}
.glyphicon-piggy-bank:before {
  content: "\e225";
}
.glyphicon-scissors:before {
  content: "\e226";
}
.glyphicon-bitcoin:before {
  content: "\e227";
}
.glyphicon-btc:before {
  content: "\e227";
}
.glyphicon-xbt:before {
  content: "\e227";
}
.glyphicon-yen:before {
  content: "\00a5";
}
.glyphicon-jpy:before {
  content: "\00a5";
}
.glyphicon-ruble:before {
  content: "\20bd";
}
.glyphicon-rub:before {
  content: "\20bd";
}
.glyphicon-scale:before {
  content: "\e230";
}
.glyphicon-ice-lolly:before {
  content: "\e231";
}
.glyphicon-ice-lolly-tasted:before {
  content: "\e232";
}
.glyphicon-education:before {
  content: "\e233";
}
.glyphicon-option-horizontal:before {
  content: "\e234";
}
.glyphicon-option-vertical:before {
  content: "\e235";
}
.glyphicon-menu-hamburger:before {
  content: "\e236";
}
.glyphicon-modal-window:before {
  content: "\e237";
}
.glyphicon-oil:before {
  content: "\e238";
}
.glyphicon-grain:before {
  content: "\e239";
}
.glyphicon-sunglasses:before {
  content: "\e240";
}
.glyphicon-text-size:before {
  content: "\e241";
}
.glyphicon-text-color:before {
  content: "\e242";
}
.glyphicon-text-background:before {
  content: "\e243";
}
.glyphicon-object-align-top:before {
  content: "\e244";
}
.glyphicon-object-align-bottom:before {
  content: "\e245";
}
.glyphicon-object-align-horizontal:before {
  content: "\e246";
}
.glyphicon-object-align-left:before {
  content: "\e247";
}
.glyphicon-object-align-vertical:before {
  content: "\e248";
}
.glyphicon-object-align-right:before {
  content: "\e249";
}
.glyphicon-triangle-right:before {
  content: "\e250";
}
.glyphicon-triangle-left:before {
  content: "\e251";
}
.glyphicon-triangle-bottom:before {
  content: "\e252";
}
.glyphicon-triangle-top:before {
  content: "\e253";
}
.glyphicon-console:before {
  content: "\e254";
}
.glyphicon-superscript:before {
  content: "\e255";
}
.glyphicon-subscript:before {
  content: "\e256";
}
.glyphicon-menu-left:before {
  content: "\e257";
}
.glyphicon-menu-right:before {
  content: "\e258";
}
.glyphicon-menu-down:before {
  content: "\e259";
}
.glyphicon-menu-up:before {
  content: "\e260";
}
* {
  -webkit-box-sizing: border-box;
  -moz-box-sizing: border-box;
  box-sizing: border-box;
}
*:before,
*:after {
  -webkit-box-sizing: border-box;
  -moz-box-sizing: border-box;
  box-sizing: border-box;
}
html {
  font-size: 10px;
  -webkit-tap-highlight-color: rgba(0, 0, 0, 0);
}
body {
  font-family: "Helvetica Neue", Helvetica, Arial, sans-serif;
  font-size: 13px;
  line-height: 1.42857143;
  color: #000;
  background-color: #fff;
}
input,
button,
select,
textarea {
  font-family: inherit;
  font-size: inherit;
  line-height: inherit;
}
a {
  color: #337ab7;
  text-decoration: none;
}
a:hover,
a:focus {
  color: #23527c;
  text-decoration: underline;
}
a:focus {
  outline: 5px auto -webkit-focus-ring-color;
  outline-offset: -2px;
}
figure {
  margin: 0;
}
img {
  vertical-align: middle;
}
.img-responsive,
.thumbnail > img,
.thumbnail a > img,
.carousel-inner > .item > img,
.carousel-inner > .item > a > img {
  display: block;
  max-width: 100%;
  height: auto;
}
.img-rounded {
  border-radius: 3px;
}
.img-thumbnail {
  padding: 4px;
  line-height: 1.42857143;
  background-color: #fff;
  border: 1px solid #ddd;
  border-radius: 2px;
  -webkit-transition: all 0.2s ease-in-out;
  -o-transition: all 0.2s ease-in-out;
  transition: all 0.2s ease-in-out;
  display: inline-block;
  max-width: 100%;
  height: auto;
}
.img-circle {
  border-radius: 50%;
}
hr {
  margin-top: 18px;
  margin-bottom: 18px;
  border: 0;
  border-top: 1px solid #eeeeee;
}
.sr-only {
  position: absolute;
  width: 1px;
  height: 1px;
  margin: -1px;
  padding: 0;
  overflow: hidden;
  clip: rect(0, 0, 0, 0);
  border: 0;
}
.sr-only-focusable:active,
.sr-only-focusable:focus {
  position: static;
  width: auto;
  height: auto;
  margin: 0;
  overflow: visible;
  clip: auto;
}
[role="button"] {
  cursor: pointer;
}
h1,
h2,
h3,
h4,
h5,
h6,
.h1,
.h2,
.h3,
.h4,
.h5,
.h6 {
  font-family: inherit;
  font-weight: 500;
  line-height: 1.1;
  color: inherit;
}
h1 small,
h2 small,
h3 small,
h4 small,
h5 small,
h6 small,
.h1 small,
.h2 small,
.h3 small,
.h4 small,
.h5 small,
.h6 small,
h1 .small,
h2 .small,
h3 .small,
h4 .small,
h5 .small,
h6 .small,
.h1 .small,
.h2 .small,
.h3 .small,
.h4 .small,
.h5 .small,
.h6 .small {
  font-weight: normal;
  line-height: 1;
  color: #777777;
}
h1,
.h1,
h2,
.h2,
h3,
.h3 {
  margin-top: 18px;
  margin-bottom: 9px;
}
h1 small,
.h1 small,
h2 small,
.h2 small,
h3 small,
.h3 small,
h1 .small,
.h1 .small,
h2 .small,
.h2 .small,
h3 .small,
.h3 .small {
  font-size: 65%;
}
h4,
.h4,
h5,
.h5,
h6,
.h6 {
  margin-top: 9px;
  margin-bottom: 9px;
}
h4 small,
.h4 small,
h5 small,
.h5 small,
h6 small,
.h6 small,
h4 .small,
.h4 .small,
h5 .small,
.h5 .small,
h6 .small,
.h6 .small {
  font-size: 75%;
}
h1,
.h1 {
  font-size: 33px;
}
h2,
.h2 {
  font-size: 27px;
}
h3,
.h3 {
  font-size: 23px;
}
h4,
.h4 {
  font-size: 17px;
}
h5,
.h5 {
  font-size: 13px;
}
h6,
.h6 {
  font-size: 12px;
}
p {
  margin: 0 0 9px;
}
.lead {
  margin-bottom: 18px;
  font-size: 14px;
  font-weight: 300;
  line-height: 1.4;
}
@media (min-width: 768px) {
  .lead {
    font-size: 19.5px;
  }
}
small,
.small {
  font-size: 92%;
}
mark,
.mark {
  background-color: #fcf8e3;
  padding: .2em;
}
.text-left {
  text-align: left;
}
.text-right {
  text-align: right;
}
.text-center {
  text-align: center;
}
.text-justify {
  text-align: justify;
}
.text-nowrap {
  white-space: nowrap;
}
.text-lowercase {
  text-transform: lowercase;
}
.text-uppercase {
  text-transform: uppercase;
}
.text-capitalize {
  text-transform: capitalize;
}
.text-muted {
  color: #777777;
}
.text-primary {
  color: #337ab7;
}
a.text-primary:hover,
a.text-primary:focus {
  color: #286090;
}
.text-success {
  color: #3c763d;
}
a.text-success:hover,
a.text-success:focus {
  color: #2b542c;
}
.text-info {
  color: #31708f;
}
a.text-info:hover,
a.text-info:focus {
  color: #245269;
}
.text-warning {
  color: #8a6d3b;
}
a.text-warning:hover,
a.text-warning:focus {
  color: #66512c;
}
.text-danger {
  color: #a94442;
}
a.text-danger:hover,
a.text-danger:focus {
  color: #843534;
}
.bg-primary {
  color: #fff;
  background-color: #337ab7;
}
a.bg-primary:hover,
a.bg-primary:focus {
  background-color: #286090;
}
.bg-success {
  background-color: #dff0d8;
}
a.bg-success:hover,
a.bg-success:focus {
  background-color: #c1e2b3;
}
.bg-info {
  background-color: #d9edf7;
}
a.bg-info:hover,
a.bg-info:focus {
  background-color: #afd9ee;
}
.bg-warning {
  background-color: #fcf8e3;
}
a.bg-warning:hover,
a.bg-warning:focus {
  background-color: #f7ecb5;
}
.bg-danger {
  background-color: #f2dede;
}
a.bg-danger:hover,
a.bg-danger:focus {
  background-color: #e4b9b9;
}
.page-header {
  padding-bottom: 8px;
  margin: 36px 0 18px;
  border-bottom: 1px solid #eeeeee;
}
ul,
ol {
  margin-top: 0;
  margin-bottom: 9px;
}
ul ul,
ol ul,
ul ol,
ol ol {
  margin-bottom: 0;
}
.list-unstyled {
  padding-left: 0;
  list-style: none;
}
.list-inline {
  padding-left: 0;
  list-style: none;
  margin-left: -5px;
}
.list-inline > li {
  display: inline-block;
  padding-left: 5px;
  padding-right: 5px;
}
dl {
  margin-top: 0;
  margin-bottom: 18px;
}
dt,
dd {
  line-height: 1.42857143;
}
dt {
  font-weight: bold;
}
dd {
  margin-left: 0;
}
@media (min-width: 541px) {
  .dl-horizontal dt {
    float: left;
    width: 160px;
    clear: left;
    text-align: right;
    overflow: hidden;
    text-overflow: ellipsis;
    white-space: nowrap;
  }
  .dl-horizontal dd {
    margin-left: 180px;
  }
}
abbr[title],
abbr[data-original-title] {
  cursor: help;
  border-bottom: 1px dotted #777777;
}
.initialism {
  font-size: 90%;
  text-transform: uppercase;
}
blockquote {
  padding: 9px 18px;
  margin: 0 0 18px;
  font-size: inherit;
  border-left: 5px solid #eeeeee;
}
blockquote p:last-child,
blockquote ul:last-child,
blockquote ol:last-child {
  margin-bottom: 0;
}
blockquote footer,
blockquote small,
blockquote .small {
  display: block;
  font-size: 80%;
  line-height: 1.42857143;
  color: #777777;
}
blockquote footer:before,
blockquote small:before,
blockquote .small:before {
  content: '\2014 \00A0';
}
.blockquote-reverse,
blockquote.pull-right {
  padding-right: 15px;
  padding-left: 0;
  border-right: 5px solid #eeeeee;
  border-left: 0;
  text-align: right;
}
.blockquote-reverse footer:before,
blockquote.pull-right footer:before,
.blockquote-reverse small:before,
blockquote.pull-right small:before,
.blockquote-reverse .small:before,
blockquote.pull-right .small:before {
  content: '';
}
.blockquote-reverse footer:after,
blockquote.pull-right footer:after,
.blockquote-reverse small:after,
blockquote.pull-right small:after,
.blockquote-reverse .small:after,
blockquote.pull-right .small:after {
  content: '\00A0 \2014';
}
address {
  margin-bottom: 18px;
  font-style: normal;
  line-height: 1.42857143;
}
code,
kbd,
pre,
samp {
  font-family: monospace;
}
code {
  padding: 2px 4px;
  font-size: 90%;
  color: #c7254e;
  background-color: #f9f2f4;
  border-radius: 2px;
}
kbd {
  padding: 2px 4px;
  font-size: 90%;
  color: #888;
  background-color: transparent;
  border-radius: 1px;
  box-shadow: inset 0 -1px 0 rgba(0, 0, 0, 0.25);
}
kbd kbd {
  padding: 0;
  font-size: 100%;
  font-weight: bold;
  box-shadow: none;
}
pre {
  display: block;
  padding: 8.5px;
  margin: 0 0 9px;
  font-size: 12px;
  line-height: 1.42857143;
  word-break: break-all;
  word-wrap: break-word;
  color: #333333;
  background-color: #f5f5f5;
  border: 1px solid #ccc;
  border-radius: 2px;
}
pre code {
  padding: 0;
  font-size: inherit;
  color: inherit;
  white-space: pre-wrap;
  background-color: transparent;
  border-radius: 0;
}
.pre-scrollable {
  max-height: 340px;
  overflow-y: scroll;
}
.container {
  margin-right: auto;
  margin-left: auto;
  padding-left: 0px;
  padding-right: 0px;
}
@media (min-width: 768px) {
  .container {
    width: 768px;
  }
}
@media (min-width: 992px) {
  .container {
    width: 940px;
  }
}
@media (min-width: 1200px) {
  .container {
    width: 1140px;
  }
}
.container-fluid {
  margin-right: auto;
  margin-left: auto;
  padding-left: 0px;
  padding-right: 0px;
}
.row {
  margin-left: 0px;
  margin-right: 0px;
}
.col-xs-1, .col-sm-1, .col-md-1, .col-lg-1, .col-xs-2, .col-sm-2, .col-md-2, .col-lg-2, .col-xs-3, .col-sm-3, .col-md-3, .col-lg-3, .col-xs-4, .col-sm-4, .col-md-4, .col-lg-4, .col-xs-5, .col-sm-5, .col-md-5, .col-lg-5, .col-xs-6, .col-sm-6, .col-md-6, .col-lg-6, .col-xs-7, .col-sm-7, .col-md-7, .col-lg-7, .col-xs-8, .col-sm-8, .col-md-8, .col-lg-8, .col-xs-9, .col-sm-9, .col-md-9, .col-lg-9, .col-xs-10, .col-sm-10, .col-md-10, .col-lg-10, .col-xs-11, .col-sm-11, .col-md-11, .col-lg-11, .col-xs-12, .col-sm-12, .col-md-12, .col-lg-12 {
  position: relative;
  min-height: 1px;
  padding-left: 0px;
  padding-right: 0px;
}
.col-xs-1, .col-xs-2, .col-xs-3, .col-xs-4, .col-xs-5, .col-xs-6, .col-xs-7, .col-xs-8, .col-xs-9, .col-xs-10, .col-xs-11, .col-xs-12 {
  float: left;
}
.col-xs-12 {
  width: 100%;
}
.col-xs-11 {
  width: 91.66666667%;
}
.col-xs-10 {
  width: 83.33333333%;
}
.col-xs-9 {
  width: 75%;
}
.col-xs-8 {
  width: 66.66666667%;
}
.col-xs-7 {
  width: 58.33333333%;
}
.col-xs-6 {
  width: 50%;
}
.col-xs-5 {
  width: 41.66666667%;
}
.col-xs-4 {
  width: 33.33333333%;
}
.col-xs-3 {
  width: 25%;
}
.col-xs-2 {
  width: 16.66666667%;
}
.col-xs-1 {
  width: 8.33333333%;
}
.col-xs-pull-12 {
  right: 100%;
}
.col-xs-pull-11 {
  right: 91.66666667%;
}
.col-xs-pull-10 {
  right: 83.33333333%;
}
.col-xs-pull-9 {
  right: 75%;
}
.col-xs-pull-8 {
  right: 66.66666667%;
}
.col-xs-pull-7 {
  right: 58.33333333%;
}
.col-xs-pull-6 {
  right: 50%;
}
.col-xs-pull-5 {
  right: 41.66666667%;
}
.col-xs-pull-4 {
  right: 33.33333333%;
}
.col-xs-pull-3 {
  right: 25%;
}
.col-xs-pull-2 {
  right: 16.66666667%;
}
.col-xs-pull-1 {
  right: 8.33333333%;
}
.col-xs-pull-0 {
  right: auto;
}
.col-xs-push-12 {
  left: 100%;
}
.col-xs-push-11 {
  left: 91.66666667%;
}
.col-xs-push-10 {
  left: 83.33333333%;
}
.col-xs-push-9 {
  left: 75%;
}
.col-xs-push-8 {
  left: 66.66666667%;
}
.col-xs-push-7 {
  left: 58.33333333%;
}
.col-xs-push-6 {
  left: 50%;
}
.col-xs-push-5 {
  left: 41.66666667%;
}
.col-xs-push-4 {
  left: 33.33333333%;
}
.col-xs-push-3 {
  left: 25%;
}
.col-xs-push-2 {
  left: 16.66666667%;
}
.col-xs-push-1 {
  left: 8.33333333%;
}
.col-xs-push-0 {
  left: auto;
}
.col-xs-offset-12 {
  margin-left: 100%;
}
.col-xs-offset-11 {
  margin-left: 91.66666667%;
}
.col-xs-offset-10 {
  margin-left: 83.33333333%;
}
.col-xs-offset-9 {
  margin-left: 75%;
}
.col-xs-offset-8 {
  margin-left: 66.66666667%;
}
.col-xs-offset-7 {
  margin-left: 58.33333333%;
}
.col-xs-offset-6 {
  margin-left: 50%;
}
.col-xs-offset-5 {
  margin-left: 41.66666667%;
}
.col-xs-offset-4 {
  margin-left: 33.33333333%;
}
.col-xs-offset-3 {
  margin-left: 25%;
}
.col-xs-offset-2 {
  margin-left: 16.66666667%;
}
.col-xs-offset-1 {
  margin-left: 8.33333333%;
}
.col-xs-offset-0 {
  margin-left: 0%;
}
@media (min-width: 768px) {
  .col-sm-1, .col-sm-2, .col-sm-3, .col-sm-4, .col-sm-5, .col-sm-6, .col-sm-7, .col-sm-8, .col-sm-9, .col-sm-10, .col-sm-11, .col-sm-12 {
    float: left;
  }
  .col-sm-12 {
    width: 100%;
  }
  .col-sm-11 {
    width: 91.66666667%;
  }
  .col-sm-10 {
    width: 83.33333333%;
  }
  .col-sm-9 {
    width: 75%;
  }
  .col-sm-8 {
    width: 66.66666667%;
  }
  .col-sm-7 {
    width: 58.33333333%;
  }
  .col-sm-6 {
    width: 50%;
  }
  .col-sm-5 {
    width: 41.66666667%;
  }
  .col-sm-4 {
    width: 33.33333333%;
  }
  .col-sm-3 {
    width: 25%;
  }
  .col-sm-2 {
    width: 16.66666667%;
  }
  .col-sm-1 {
    width: 8.33333333%;
  }
  .col-sm-pull-12 {
    right: 100%;
  }
  .col-sm-pull-11 {
    right: 91.66666667%;
  }
  .col-sm-pull-10 {
    right: 83.33333333%;
  }
  .col-sm-pull-9 {
    right: 75%;
  }
  .col-sm-pull-8 {
    right: 66.66666667%;
  }
  .col-sm-pull-7 {
    right: 58.33333333%;
  }
  .col-sm-pull-6 {
    right: 50%;
  }
  .col-sm-pull-5 {
    right: 41.66666667%;
  }
  .col-sm-pull-4 {
    right: 33.33333333%;
  }
  .col-sm-pull-3 {
    right: 25%;
  }
  .col-sm-pull-2 {
    right: 16.66666667%;
  }
  .col-sm-pull-1 {
    right: 8.33333333%;
  }
  .col-sm-pull-0 {
    right: auto;
  }
  .col-sm-push-12 {
    left: 100%;
  }
  .col-sm-push-11 {
    left: 91.66666667%;
  }
  .col-sm-push-10 {
    left: 83.33333333%;
  }
  .col-sm-push-9 {
    left: 75%;
  }
  .col-sm-push-8 {
    left: 66.66666667%;
  }
  .col-sm-push-7 {
    left: 58.33333333%;
  }
  .col-sm-push-6 {
    left: 50%;
  }
  .col-sm-push-5 {
    left: 41.66666667%;
  }
  .col-sm-push-4 {
    left: 33.33333333%;
  }
  .col-sm-push-3 {
    left: 25%;
  }
  .col-sm-push-2 {
    left: 16.66666667%;
  }
  .col-sm-push-1 {
    left: 8.33333333%;
  }
  .col-sm-push-0 {
    left: auto;
  }
  .col-sm-offset-12 {
    margin-left: 100%;
  }
  .col-sm-offset-11 {
    margin-left: 91.66666667%;
  }
  .col-sm-offset-10 {
    margin-left: 83.33333333%;
  }
  .col-sm-offset-9 {
    margin-left: 75%;
  }
  .col-sm-offset-8 {
    margin-left: 66.66666667%;
  }
  .col-sm-offset-7 {
    margin-left: 58.33333333%;
  }
  .col-sm-offset-6 {
    margin-left: 50%;
  }
  .col-sm-offset-5 {
    margin-left: 41.66666667%;
  }
  .col-sm-offset-4 {
    margin-left: 33.33333333%;
  }
  .col-sm-offset-3 {
    margin-left: 25%;
  }
  .col-sm-offset-2 {
    margin-left: 16.66666667%;
  }
  .col-sm-offset-1 {
    margin-left: 8.33333333%;
  }
  .col-sm-offset-0 {
    margin-left: 0%;
  }
}
@media (min-width: 992px) {
  .col-md-1, .col-md-2, .col-md-3, .col-md-4, .col-md-5, .col-md-6, .col-md-7, .col-md-8, .col-md-9, .col-md-10, .col-md-11, .col-md-12 {
    float: left;
  }
  .col-md-12 {
    width: 100%;
  }
  .col-md-11 {
    width: 91.66666667%;
  }
  .col-md-10 {
    width: 83.33333333%;
  }
  .col-md-9 {
    width: 75%;
  }
  .col-md-8 {
    width: 66.66666667%;
  }
  .col-md-7 {
    width: 58.33333333%;
  }
  .col-md-6 {
    width: 50%;
  }
  .col-md-5 {
    width: 41.66666667%;
  }
  .col-md-4 {
    width: 33.33333333%;
  }
  .col-md-3 {
    width: 25%;
  }
  .col-md-2 {
    width: 16.66666667%;
  }
  .col-md-1 {
    width: 8.33333333%;
  }
  .col-md-pull-12 {
    right: 100%;
  }
  .col-md-pull-11 {
    right: 91.66666667%;
  }
  .col-md-pull-10 {
    right: 83.33333333%;
  }
  .col-md-pull-9 {
    right: 75%;
  }
  .col-md-pull-8 {
    right: 66.66666667%;
  }
  .col-md-pull-7 {
    right: 58.33333333%;
  }
  .col-md-pull-6 {
    right: 50%;
  }
  .col-md-pull-5 {
    right: 41.66666667%;
  }
  .col-md-pull-4 {
    right: 33.33333333%;
  }
  .col-md-pull-3 {
    right: 25%;
  }
  .col-md-pull-2 {
    right: 16.66666667%;
  }
  .col-md-pull-1 {
    right: 8.33333333%;
  }
  .col-md-pull-0 {
    right: auto;
  }
  .col-md-push-12 {
    left: 100%;
  }
  .col-md-push-11 {
    left: 91.66666667%;
  }
  .col-md-push-10 {
    left: 83.33333333%;
  }
  .col-md-push-9 {
    left: 75%;
  }
  .col-md-push-8 {
    left: 66.66666667%;
  }
  .col-md-push-7 {
    left: 58.33333333%;
  }
  .col-md-push-6 {
    left: 50%;
  }
  .col-md-push-5 {
    left: 41.66666667%;
  }
  .col-md-push-4 {
    left: 33.33333333%;
  }
  .col-md-push-3 {
    left: 25%;
  }
  .col-md-push-2 {
    left: 16.66666667%;
  }
  .col-md-push-1 {
    left: 8.33333333%;
  }
  .col-md-push-0 {
    left: auto;
  }
  .col-md-offset-12 {
    margin-left: 100%;
  }
  .col-md-offset-11 {
    margin-left: 91.66666667%;
  }
  .col-md-offset-10 {
    margin-left: 83.33333333%;
  }
  .col-md-offset-9 {
    margin-left: 75%;
  }
  .col-md-offset-8 {
    margin-left: 66.66666667%;
  }
  .col-md-offset-7 {
    margin-left: 58.33333333%;
  }
  .col-md-offset-6 {
    margin-left: 50%;
  }
  .col-md-offset-5 {
    margin-left: 41.66666667%;
  }
  .col-md-offset-4 {
    margin-left: 33.33333333%;
  }
  .col-md-offset-3 {
    margin-left: 25%;
  }
  .col-md-offset-2 {
    margin-left: 16.66666667%;
  }
  .col-md-offset-1 {
    margin-left: 8.33333333%;
  }
  .col-md-offset-0 {
    margin-left: 0%;
  }
}
@media (min-width: 1200px) {
  .col-lg-1, .col-lg-2, .col-lg-3, .col-lg-4, .col-lg-5, .col-lg-6, .col-lg-7, .col-lg-8, .col-lg-9, .col-lg-10, .col-lg-11, .col-lg-12 {
    float: left;
  }
  .col-lg-12 {
    width: 100%;
  }
  .col-lg-11 {
    width: 91.66666667%;
  }
  .col-lg-10 {
    width: 83.33333333%;
  }
  .col-lg-9 {
    width: 75%;
  }
  .col-lg-8 {
    width: 66.66666667%;
  }
  .col-lg-7 {
    width: 58.33333333%;
  }
  .col-lg-6 {
    width: 50%;
  }
  .col-lg-5 {
    width: 41.66666667%;
  }
  .col-lg-4 {
    width: 33.33333333%;
  }
  .col-lg-3 {
    width: 25%;
  }
  .col-lg-2 {
    width: 16.66666667%;
  }
  .col-lg-1 {
    width: 8.33333333%;
  }
  .col-lg-pull-12 {
    right: 100%;
  }
  .col-lg-pull-11 {
    right: 91.66666667%;
  }
  .col-lg-pull-10 {
    right: 83.33333333%;
  }
  .col-lg-pull-9 {
    right: 75%;
  }
  .col-lg-pull-8 {
    right: 66.66666667%;
  }
  .col-lg-pull-7 {
    right: 58.33333333%;
  }
  .col-lg-pull-6 {
    right: 50%;
  }
  .col-lg-pull-5 {
    right: 41.66666667%;
  }
  .col-lg-pull-4 {
    right: 33.33333333%;
  }
  .col-lg-pull-3 {
    right: 25%;
  }
  .col-lg-pull-2 {
    right: 16.66666667%;
  }
  .col-lg-pull-1 {
    right: 8.33333333%;
  }
  .col-lg-pull-0 {
    right: auto;
  }
  .col-lg-push-12 {
    left: 100%;
  }
  .col-lg-push-11 {
    left: 91.66666667%;
  }
  .col-lg-push-10 {
    left: 83.33333333%;
  }
  .col-lg-push-9 {
    left: 75%;
  }
  .col-lg-push-8 {
    left: 66.66666667%;
  }
  .col-lg-push-7 {
    left: 58.33333333%;
  }
  .col-lg-push-6 {
    left: 50%;
  }
  .col-lg-push-5 {
    left: 41.66666667%;
  }
  .col-lg-push-4 {
    left: 33.33333333%;
  }
  .col-lg-push-3 {
    left: 25%;
  }
  .col-lg-push-2 {
    left: 16.66666667%;
  }
  .col-lg-push-1 {
    left: 8.33333333%;
  }
  .col-lg-push-0 {
    left: auto;
  }
  .col-lg-offset-12 {
    margin-left: 100%;
  }
  .col-lg-offset-11 {
    margin-left: 91.66666667%;
  }
  .col-lg-offset-10 {
    margin-left: 83.33333333%;
  }
  .col-lg-offset-9 {
    margin-left: 75%;
  }
  .col-lg-offset-8 {
    margin-left: 66.66666667%;
  }
  .col-lg-offset-7 {
    margin-left: 58.33333333%;
  }
  .col-lg-offset-6 {
    margin-left: 50%;
  }
  .col-lg-offset-5 {
    margin-left: 41.66666667%;
  }
  .col-lg-offset-4 {
    margin-left: 33.33333333%;
  }
  .col-lg-offset-3 {
    margin-left: 25%;
  }
  .col-lg-offset-2 {
    margin-left: 16.66666667%;
  }
  .col-lg-offset-1 {
    margin-left: 8.33333333%;
  }
  .col-lg-offset-0 {
    margin-left: 0%;
  }
}
table {
  background-color: transparent;
}
caption {
  padding-top: 8px;
  padding-bottom: 8px;
  color: #777777;
  text-align: left;
}
th {
  text-align: left;
}
.table {
  width: 100%;
  max-width: 100%;
  margin-bottom: 18px;
}
.table > thead > tr > th,
.table > tbody > tr > th,
.table > tfoot > tr > th,
.table > thead > tr > td,
.table > tbody > tr > td,
.table > tfoot > tr > td {
  padding: 8px;
  line-height: 1.42857143;
  vertical-align: top;
  border-top: 1px solid #ddd;
}
.table > thead > tr > th {
  vertical-align: bottom;
  border-bottom: 2px solid #ddd;
}
.table > caption + thead > tr:first-child > th,
.table > colgroup + thead > tr:first-child > th,
.table > thead:first-child > tr:first-child > th,
.table > caption + thead > tr:first-child > td,
.table > colgroup + thead > tr:first-child > td,
.table > thead:first-child > tr:first-child > td {
  border-top: 0;
}
.table > tbody + tbody {
  border-top: 2px solid #ddd;
}
.table .table {
  background-color: #fff;
}
.table-condensed > thead > tr > th,
.table-condensed > tbody > tr > th,
.table-condensed > tfoot > tr > th,
.table-condensed > thead > tr > td,
.table-condensed > tbody > tr > td,
.table-condensed > tfoot > tr > td {
  padding: 5px;
}
.table-bordered {
  border: 1px solid #ddd;
}
.table-bordered > thead > tr > th,
.table-bordered > tbody > tr > th,
.table-bordered > tfoot > tr > th,
.table-bordered > thead > tr > td,
.table-bordered > tbody > tr > td,
.table-bordered > tfoot > tr > td {
  border: 1px solid #ddd;
}
.table-bordered > thead > tr > th,
.table-bordered > thead > tr > td {
  border-bottom-width: 2px;
}
.table-striped > tbody > tr:nth-of-type(odd) {
  background-color: #f9f9f9;
}
.table-hover > tbody > tr:hover {
  background-color: #f5f5f5;
}
table col[class*="col-"] {
  position: static;
  float: none;
  display: table-column;
}
table td[class*="col-"],
table th[class*="col-"] {
  position: static;
  float: none;
  display: table-cell;
}
.table > thead > tr > td.active,
.table > tbody > tr > td.active,
.table > tfoot > tr > td.active,
.table > thead > tr > th.active,
.table > tbody > tr > th.active,
.table > tfoot > tr > th.active,
.table > thead > tr.active > td,
.table > tbody > tr.active > td,
.table > tfoot > tr.active > td,
.table > thead > tr.active > th,
.table > tbody > tr.active > th,
.table > tfoot > tr.active > th {
  background-color: #f5f5f5;
}
.table-hover > tbody > tr > td.active:hover,
.table-hover > tbody > tr > th.active:hover,
.table-hover > tbody > tr.active:hover > td,
.table-hover > tbody > tr:hover > .active,
.table-hover > tbody > tr.active:hover > th {
  background-color: #e8e8e8;
}
.table > thead > tr > td.success,
.table > tbody > tr > td.success,
.table > tfoot > tr > td.success,
.table > thead > tr > th.success,
.table > tbody > tr > th.success,
.table > tfoot > tr > th.success,
.table > thead > tr.success > td,
.table > tbody > tr.success > td,
.table > tfoot > tr.success > td,
.table > thead > tr.success > th,
.table > tbody > tr.success > th,
.table > tfoot > tr.success > th {
  background-color: #dff0d8;
}
.table-hover > tbody > tr > td.success:hover,
.table-hover > tbody > tr > th.success:hover,
.table-hover > tbody > tr.success:hover > td,
.table-hover > tbody > tr:hover > .success,
.table-hover > tbody > tr.success:hover > th {
  background-color: #d0e9c6;
}
.table > thead > tr > td.info,
.table > tbody > tr > td.info,
.table > tfoot > tr > td.info,
.table > thead > tr > th.info,
.table > tbody > tr > th.info,
.table > tfoot > tr > th.info,
.table > thead > tr.info > td,
.table > tbody > tr.info > td,
.table > tfoot > tr.info > td,
.table > thead > tr.info > th,
.table > tbody > tr.info > th,
.table > tfoot > tr.info > th {
  background-color: #d9edf7;
}
.table-hover > tbody > tr > td.info:hover,
.table-hover > tbody > tr > th.info:hover,
.table-hover > tbody > tr.info:hover > td,
.table-hover > tbody > tr:hover > .info,
.table-hover > tbody > tr.info:hover > th {
  background-color: #c4e3f3;
}
.table > thead > tr > td.warning,
.table > tbody > tr > td.warning,
.table > tfoot > tr > td.warning,
.table > thead > tr > th.warning,
.table > tbody > tr > th.warning,
.table > tfoot > tr > th.warning,
.table > thead > tr.warning > td,
.table > tbody > tr.warning > td,
.table > tfoot > tr.warning > td,
.table > thead > tr.warning > th,
.table > tbody > tr.warning > th,
.table > tfoot > tr.warning > th {
  background-color: #fcf8e3;
}
.table-hover > tbody > tr > td.warning:hover,
.table-hover > tbody > tr > th.warning:hover,
.table-hover > tbody > tr.warning:hover > td,
.table-hover > tbody > tr:hover > .warning,
.table-hover > tbody > tr.warning:hover > th {
  background-color: #faf2cc;
}
.table > thead > tr > td.danger,
.table > tbody > tr > td.danger,
.table > tfoot > tr > td.danger,
.table > thead > tr > th.danger,
.table > tbody > tr > th.danger,
.table > tfoot > tr > th.danger,
.table > thead > tr.danger > td,
.table > tbody > tr.danger > td,
.table > tfoot > tr.danger > td,
.table > thead > tr.danger > th,
.table > tbody > tr.danger > th,
.table > tfoot > tr.danger > th {
  background-color: #f2dede;
}
.table-hover > tbody > tr > td.danger:hover,
.table-hover > tbody > tr > th.danger:hover,
.table-hover > tbody > tr.danger:hover > td,
.table-hover > tbody > tr:hover > .danger,
.table-hover > tbody > tr.danger:hover > th {
  background-color: #ebcccc;
}
.table-responsive {
  overflow-x: auto;
  min-height: 0.01%;
}
@media screen and (max-width: 767px) {
  .table-responsive {
    width: 100%;
    margin-bottom: 13.5px;
    overflow-y: hidden;
    -ms-overflow-style: -ms-autohiding-scrollbar;
    border: 1px solid #ddd;
  }
  .table-responsive > .table {
    margin-bottom: 0;
  }
  .table-responsive > .table > thead > tr > th,
  .table-responsive > .table > tbody > tr > th,
  .table-responsive > .table > tfoot > tr > th,
  .table-responsive > .table > thead > tr > td,
  .table-responsive > .table > tbody > tr > td,
  .table-responsive > .table > tfoot > tr > td {
    white-space: nowrap;
  }
  .table-responsive > .table-bordered {
    border: 0;
  }
  .table-responsive > .table-bordered > thead > tr > th:first-child,
  .table-responsive > .table-bordered > tbody > tr > th:first-child,
  .table-responsive > .table-bordered > tfoot > tr > th:first-child,
  .table-responsive > .table-bordered > thead > tr > td:first-child,
  .table-responsive > .table-bordered > tbody > tr > td:first-child,
  .table-responsive > .table-bordered > tfoot > tr > td:first-child {
    border-left: 0;
  }
  .table-responsive > .table-bordered > thead > tr > th:last-child,
  .table-responsive > .table-bordered > tbody > tr > th:last-child,
  .table-responsive > .table-bordered > tfoot > tr > th:last-child,
  .table-responsive > .table-bordered > thead > tr > td:last-child,
  .table-responsive > .table-bordered > tbody > tr > td:last-child,
  .table-responsive > .table-bordered > tfoot > tr > td:last-child {
    border-right: 0;
  }
  .table-responsive > .table-bordered > tbody > tr:last-child > th,
  .table-responsive > .table-bordered > tfoot > tr:last-child > th,
  .table-responsive > .table-bordered > tbody > tr:last-child > td,
  .table-responsive > .table-bordered > tfoot > tr:last-child > td {
    border-bottom: 0;
  }
}
fieldset {
  padding: 0;
  margin: 0;
  border: 0;
  min-width: 0;
}
legend {
  display: block;
  width: 100%;
  padding: 0;
  margin-bottom: 18px;
  font-size: 19.5px;
  line-height: inherit;
  color: #333333;
  border: 0;
  border-bottom: 1px solid #e5e5e5;
}
label {
  display: inline-block;
  max-width: 100%;
  margin-bottom: 5px;
  font-weight: bold;
}
input[type="search"] {
  -webkit-box-sizing: border-box;
  -moz-box-sizing: border-box;
  box-sizing: border-box;
}
input[type="radio"],
input[type="checkbox"] {
  margin: 4px 0 0;
  margin-top: 1px \9;
  line-height: normal;
}
input[type="file"] {
  display: block;
}
input[type="range"] {
  display: block;
  width: 100%;
}
select[multiple],
select[size] {
  height: auto;
}
input[type="file"]:focus,
input[type="radio"]:focus,
input[type="checkbox"]:focus {
  outline: 5px auto -webkit-focus-ring-color;
  outline-offset: -2px;
}
output {
  display: block;
  padding-top: 7px;
  font-size: 13px;
  line-height: 1.42857143;
  color: #555555;
}
.form-control {
  display: block;
  width: 100%;
  height: 32px;
  padding: 6px 12px;
  font-size: 13px;
  line-height: 1.42857143;
  color: #555555;
  background-color: #fff;
  background-image: none;
  border: 1px solid #ccc;
  border-radius: 2px;
  -webkit-box-shadow: inset 0 1px 1px rgba(0, 0, 0, 0.075);
  box-shadow: inset 0 1px 1px rgba(0, 0, 0, 0.075);
  -webkit-transition: border-color ease-in-out .15s, box-shadow ease-in-out .15s;
  -o-transition: border-color ease-in-out .15s, box-shadow ease-in-out .15s;
  transition: border-color ease-in-out .15s, box-shadow ease-in-out .15s;
}
.form-control:focus {
  border-color: #66afe9;
  outline: 0;
  -webkit-box-shadow: inset 0 1px 1px rgba(0,0,0,.075), 0 0 8px rgba(102, 175, 233, 0.6);
  box-shadow: inset 0 1px 1px rgba(0,0,0,.075), 0 0 8px rgba(102, 175, 233, 0.6);
}
.form-control::-moz-placeholder {
  color: #999;
  opacity: 1;
}
.form-control:-ms-input-placeholder {
  color: #999;
}
.form-control::-webkit-input-placeholder {
  color: #999;
}
.form-control::-ms-expand {
  border: 0;
  background-color: transparent;
}
.form-control[disabled],
.form-control[readonly],
fieldset[disabled] .form-control {
  background-color: #eeeeee;
  opacity: 1;
}
.form-control[disabled],
fieldset[disabled] .form-control {
  cursor: not-allowed;
}
textarea.form-control {
  height: auto;
}
input[type="search"] {
  -webkit-appearance: none;
}
@media screen and (-webkit-min-device-pixel-ratio: 0) {
  input[type="date"].form-control,
  input[type="time"].form-control,
  input[type="datetime-local"].form-control,
  input[type="month"].form-control {
    line-height: 32px;
  }
  input[type="date"].input-sm,
  input[type="time"].input-sm,
  input[type="datetime-local"].input-sm,
  input[type="month"].input-sm,
  .input-group-sm input[type="date"],
  .input-group-sm input[type="time"],
  .input-group-sm input[type="datetime-local"],
  .input-group-sm input[type="month"] {
    line-height: 30px;
  }
  input[type="date"].input-lg,
  input[type="time"].input-lg,
  input[type="datetime-local"].input-lg,
  input[type="month"].input-lg,
  .input-group-lg input[type="date"],
  .input-group-lg input[type="time"],
  .input-group-lg input[type="datetime-local"],
  .input-group-lg input[type="month"] {
    line-height: 45px;
  }
}
.form-group {
  margin-bottom: 15px;
}
.radio,
.checkbox {
  position: relative;
  display: block;
  margin-top: 10px;
  margin-bottom: 10px;
}
.radio label,
.checkbox label {
  min-height: 18px;
  padding-left: 20px;
  margin-bottom: 0;
  font-weight: normal;
  cursor: pointer;
}
.radio input[type="radio"],
.radio-inline input[type="radio"],
.checkbox input[type="checkbox"],
.checkbox-inline input[type="checkbox"] {
  position: absolute;
  margin-left: -20px;
  margin-top: 4px \9;
}
.radio + .radio,
.checkbox + .checkbox {
  margin-top: -5px;
}
.radio-inline,
.checkbox-inline {
  position: relative;
  display: inline-block;
  padding-left: 20px;
  margin-bottom: 0;
  vertical-align: middle;
  font-weight: normal;
  cursor: pointer;
}
.radio-inline + .radio-inline,
.checkbox-inline + .checkbox-inline {
  margin-top: 0;
  margin-left: 10px;
}
input[type="radio"][disabled],
input[type="checkbox"][disabled],
input[type="radio"].disabled,
input[type="checkbox"].disabled,
fieldset[disabled] input[type="radio"],
fieldset[disabled] input[type="checkbox"] {
  cursor: not-allowed;
}
.radio-inline.disabled,
.checkbox-inline.disabled,
fieldset[disabled] .radio-inline,
fieldset[disabled] .checkbox-inline {
  cursor: not-allowed;
}
.radio.disabled label,
.checkbox.disabled label,
fieldset[disabled] .radio label,
fieldset[disabled] .checkbox label {
  cursor: not-allowed;
}
.form-control-static {
  padding-top: 7px;
  padding-bottom: 7px;
  margin-bottom: 0;
  min-height: 31px;
}
.form-control-static.input-lg,
.form-control-static.input-sm {
  padding-left: 0;
  padding-right: 0;
}
.input-sm {
  height: 30px;
  padding: 5px 10px;
  font-size: 12px;
  line-height: 1.5;
  border-radius: 1px;
}
select.input-sm {
  height: 30px;
  line-height: 30px;
}
textarea.input-sm,
select[multiple].input-sm {
  height: auto;
}
.form-group-sm .form-control {
  height: 30px;
  padding: 5px 10px;
  font-size: 12px;
  line-height: 1.5;
  border-radius: 1px;
}
.form-group-sm select.form-control {
  height: 30px;
  line-height: 30px;
}
.form-group-sm textarea.form-control,
.form-group-sm select[multiple].form-control {
  height: auto;
}
.form-group-sm .form-control-static {
  height: 30px;
  min-height: 30px;
  padding: 6px 10px;
  font-size: 12px;
  line-height: 1.5;
}
.input-lg {
  height: 45px;
  padding: 10px 16px;
  font-size: 17px;
  line-height: 1.3333333;
  border-radius: 3px;
}
select.input-lg {
  height: 45px;
  line-height: 45px;
}
textarea.input-lg,
select[multiple].input-lg {
  height: auto;
}
.form-group-lg .form-control {
  height: 45px;
  padding: 10px 16px;
  font-size: 17px;
  line-height: 1.3333333;
  border-radius: 3px;
}
.form-group-lg select.form-control {
  height: 45px;
  line-height: 45px;
}
.form-group-lg textarea.form-control,
.form-group-lg select[multiple].form-control {
  height: auto;
}
.form-group-lg .form-control-static {
  height: 45px;
  min-height: 35px;
  padding: 11px 16px;
  font-size: 17px;
  line-height: 1.3333333;
}
.has-feedback {
  position: relative;
}
.has-feedback .form-control {
  padding-right: 40px;
}
.form-control-feedback {
  position: absolute;
  top: 0;
  right: 0;
  z-index: 2;
  display: block;
  width: 32px;
  height: 32px;
  line-height: 32px;
  text-align: center;
  pointer-events: none;
}
.input-lg + .form-control-feedback,
.input-group-lg + .form-control-feedback,
.form-group-lg .form-control + .form-control-feedback {
  width: 45px;
  height: 45px;
  line-height: 45px;
}
.input-sm + .form-control-feedback,
.input-group-sm + .form-control-feedback,
.form-group-sm .form-control + .form-control-feedback {
  width: 30px;
  height: 30px;
  line-height: 30px;
}
.has-success .help-block,
.has-success .control-label,
.has-success .radio,
.has-success .checkbox,
.has-success .radio-inline,
.has-success .checkbox-inline,
.has-success.radio label,
.has-success.checkbox label,
.has-success.radio-inline label,
.has-success.checkbox-inline label {
  color: #3c763d;
}
.has-success .form-control {
  border-color: #3c763d;
  -webkit-box-shadow: inset 0 1px 1px rgba(0, 0, 0, 0.075);
  box-shadow: inset 0 1px 1px rgba(0, 0, 0, 0.075);
}
.has-success .form-control:focus {
  border-color: #2b542c;
  -webkit-box-shadow: inset 0 1px 1px rgba(0, 0, 0, 0.075), 0 0 6px #67b168;
  box-shadow: inset 0 1px 1px rgba(0, 0, 0, 0.075), 0 0 6px #67b168;
}
.has-success .input-group-addon {
  color: #3c763d;
  border-color: #3c763d;
  background-color: #dff0d8;
}
.has-success .form-control-feedback {
  color: #3c763d;
}
.has-warning .help-block,
.has-warning .control-label,
.has-warning .radio,
.has-warning .checkbox,
.has-warning .radio-inline,
.has-warning .checkbox-inline,
.has-warning.radio label,
.has-warning.checkbox label,
.has-warning.radio-inline label,
.has-warning.checkbox-inline label {
  color: #8a6d3b;
}
.has-warning .form-control {
  border-color: #8a6d3b;
  -webkit-box-shadow: inset 0 1px 1px rgba(0, 0, 0, 0.075);
  box-shadow: inset 0 1px 1px rgba(0, 0, 0, 0.075);
}
.has-warning .form-control:focus {
  border-color: #66512c;
  -webkit-box-shadow: inset 0 1px 1px rgba(0, 0, 0, 0.075), 0 0 6px #c0a16b;
  box-shadow: inset 0 1px 1px rgba(0, 0, 0, 0.075), 0 0 6px #c0a16b;
}
.has-warning .input-group-addon {
  color: #8a6d3b;
  border-color: #8a6d3b;
  background-color: #fcf8e3;
}
.has-warning .form-control-feedback {
  color: #8a6d3b;
}
.has-error .help-block,
.has-error .control-label,
.has-error .radio,
.has-error .checkbox,
.has-error .radio-inline,
.has-error .checkbox-inline,
.has-error.radio label,
.has-error.checkbox label,
.has-error.radio-inline label,
.has-error.checkbox-inline label {
  color: #a94442;
}
.has-error .form-control {
  border-color: #a94442;
  -webkit-box-shadow: inset 0 1px 1px rgba(0, 0, 0, 0.075);
  box-shadow: inset 0 1px 1px rgba(0, 0, 0, 0.075);
}
.has-error .form-control:focus {
  border-color: #843534;
  -webkit-box-shadow: inset 0 1px 1px rgba(0, 0, 0, 0.075), 0 0 6px #ce8483;
  box-shadow: inset 0 1px 1px rgba(0, 0, 0, 0.075), 0 0 6px #ce8483;
}
.has-error .input-group-addon {
  color: #a94442;
  border-color: #a94442;
  background-color: #f2dede;
}
.has-error .form-control-feedback {
  color: #a94442;
}
.has-feedback label ~ .form-control-feedback {
  top: 23px;
}
.has-feedback label.sr-only ~ .form-control-feedback {
  top: 0;
}
.help-block {
  display: block;
  margin-top: 5px;
  margin-bottom: 10px;
  color: #404040;
}
@media (min-width: 768px) {
  .form-inline .form-group {
    display: inline-block;
    margin-bottom: 0;
    vertical-align: middle;
  }
  .form-inline .form-control {
    display: inline-block;
    width: auto;
    vertical-align: middle;
  }
  .form-inline .form-control-static {
    display: inline-block;
  }
  .form-inline .input-group {
    display: inline-table;
    vertical-align: middle;
  }
  .form-inline .input-group .input-group-addon,
  .form-inline .input-group .input-group-btn,
  .form-inline .input-group .form-control {
    width: auto;
  }
  .form-inline .input-group > .form-control {
    width: 100%;
  }
  .form-inline .control-label {
    margin-bottom: 0;
    vertical-align: middle;
  }
  .form-inline .radio,
  .form-inline .checkbox {
    display: inline-block;
    margin-top: 0;
    margin-bottom: 0;
    vertical-align: middle;
  }
  .form-inline .radio label,
  .form-inline .checkbox label {
    padding-left: 0;
  }
  .form-inline .radio input[type="radio"],
  .form-inline .checkbox input[type="checkbox"] {
    position: relative;
    margin-left: 0;
  }
  .form-inline .has-feedback .form-control-feedback {
    top: 0;
  }
}
.form-horizontal .radio,
.form-horizontal .checkbox,
.form-horizontal .radio-inline,
.form-horizontal .checkbox-inline {
  margin-top: 0;
  margin-bottom: 0;
  padding-top: 7px;
}
.form-horizontal .radio,
.form-horizontal .checkbox {
  min-height: 25px;
}
.form-horizontal .form-group {
  margin-left: 0px;
  margin-right: 0px;
}
@media (min-width: 768px) {
  .form-horizontal .control-label {
    text-align: right;
    margin-bottom: 0;
    padding-top: 7px;
  }
}
.form-horizontal .has-feedback .form-control-feedback {
  right: 0px;
}
@media (min-width: 768px) {
  .form-horizontal .form-group-lg .control-label {
    padding-top: 11px;
    font-size: 17px;
  }
}
@media (min-width: 768px) {
  .form-horizontal .form-group-sm .control-label {
    padding-top: 6px;
    font-size: 12px;
  }
}
.btn {
  display: inline-block;
  margin-bottom: 0;
  font-weight: normal;
  text-align: center;
  vertical-align: middle;
  touch-action: manipulation;
  cursor: pointer;
  background-image: none;
  border: 1px solid transparent;
  white-space: nowrap;
  padding: 6px 12px;
  font-size: 13px;
  line-height: 1.42857143;
  border-radius: 2px;
  -webkit-user-select: none;
  -moz-user-select: none;
  -ms-user-select: none;
  user-select: none;
}
.btn:focus,
.btn:active:focus,
.btn.active:focus,
.btn.focus,
.btn:active.focus,
.btn.active.focus {
  outline: 5px auto -webkit-focus-ring-color;
  outline-offset: -2px;
}
.btn:hover,
.btn:focus,
.btn.focus {
  color: #333;
  text-decoration: none;
}
.btn:active,
.btn.active {
  outline: 0;
  background-image: none;
  -webkit-box-shadow: inset 0 3px 5px rgba(0, 0, 0, 0.125);
  box-shadow: inset 0 3px 5px rgba(0, 0, 0, 0.125);
}
.btn.disabled,
.btn[disabled],
fieldset[disabled] .btn {
  cursor: not-allowed;
  opacity: 0.65;
  filter: alpha(opacity=65);
  -webkit-box-shadow: none;
  box-shadow: none;
}
a.btn.disabled,
fieldset[disabled] a.btn {
  pointer-events: none;
}
.btn-default {
  color: #333;
  background-color: #fff;
  border-color: #ccc;
}
.btn-default:focus,
.btn-default.focus {
  color: #333;
  background-color: #e6e6e6;
  border-color: #8c8c8c;
}
.btn-default:hover {
  color: #333;
  background-color: #e6e6e6;
  border-color: #adadad;
}
.btn-default:active,
.btn-default.active,
.open > .dropdown-toggle.btn-default {
  color: #333;
  background-color: #e6e6e6;
  border-color: #adadad;
}
.btn-default:active:hover,
.btn-default.active:hover,
.open > .dropdown-toggle.btn-default:hover,
.btn-default:active:focus,
.btn-default.active:focus,
.open > .dropdown-toggle.btn-default:focus,
.btn-default:active.focus,
.btn-default.active.focus,
.open > .dropdown-toggle.btn-default.focus {
  color: #333;
  background-color: #d4d4d4;
  border-color: #8c8c8c;
}
.btn-default:active,
.btn-default.active,
.open > .dropdown-toggle.btn-default {
  background-image: none;
}
.btn-default.disabled:hover,
.btn-default[disabled]:hover,
fieldset[disabled] .btn-default:hover,
.btn-default.disabled:focus,
.btn-default[disabled]:focus,
fieldset[disabled] .btn-default:focus,
.btn-default.disabled.focus,
.btn-default[disabled].focus,
fieldset[disabled] .btn-default.focus {
  background-color: #fff;
  border-color: #ccc;
}
.btn-default .badge {
  color: #fff;
  background-color: #333;
}
.btn-primary {
  color: #fff;
  background-color: #337ab7;
  border-color: #2e6da4;
}
.btn-primary:focus,
.btn-primary.focus {
  color: #fff;
  background-color: #286090;
  border-color: #122b40;
}
.btn-primary:hover {
  color: #fff;
  background-color: #286090;
  border-color: #204d74;
}
.btn-primary:active,
.btn-primary.active,
.open > .dropdown-toggle.btn-primary {
  color: #fff;
  background-color: #286090;
  border-color: #204d74;
}
.btn-primary:active:hover,
.btn-primary.active:hover,
.open > .dropdown-toggle.btn-primary:hover,
.btn-primary:active:focus,
.btn-primary.active:focus,
.open > .dropdown-toggle.btn-primary:focus,
.btn-primary:active.focus,
.btn-primary.active.focus,
.open > .dropdown-toggle.btn-primary.focus {
  color: #fff;
  background-color: #204d74;
  border-color: #122b40;
}
.btn-primary:active,
.btn-primary.active,
.open > .dropdown-toggle.btn-primary {
  background-image: none;
}
.btn-primary.disabled:hover,
.btn-primary[disabled]:hover,
fieldset[disabled] .btn-primary:hover,
.btn-primary.disabled:focus,
.btn-primary[disabled]:focus,
fieldset[disabled] .btn-primary:focus,
.btn-primary.disabled.focus,
.btn-primary[disabled].focus,
fieldset[disabled] .btn-primary.focus {
  background-color: #337ab7;
  border-color: #2e6da4;
}
.btn-primary .badge {
  color: #337ab7;
  background-color: #fff;
}
.btn-success {
  color: #fff;
  background-color: #5cb85c;
  border-color: #4cae4c;
}
.btn-success:focus,
.btn-success.focus {
  color: #fff;
  background-color: #449d44;
  border-color: #255625;
}
.btn-success:hover {
  color: #fff;
  background-color: #449d44;
  border-color: #398439;
}
.btn-success:active,
.btn-success.active,
.open > .dropdown-toggle.btn-success {
  color: #fff;
  background-color: #449d44;
  border-color: #398439;
}
.btn-success:active:hover,
.btn-success.active:hover,
.open > .dropdown-toggle.btn-success:hover,
.btn-success:active:focus,
.btn-success.active:focus,
.open > .dropdown-toggle.btn-success:focus,
.btn-success:active.focus,
.btn-success.active.focus,
.open > .dropdown-toggle.btn-success.focus {
  color: #fff;
  background-color: #398439;
  border-color: #255625;
}
.btn-success:active,
.btn-success.active,
.open > .dropdown-toggle.btn-success {
  background-image: none;
}
.btn-success.disabled:hover,
.btn-success[disabled]:hover,
fieldset[disabled] .btn-success:hover,
.btn-success.disabled:focus,
.btn-success[disabled]:focus,
fieldset[disabled] .btn-success:focus,
.btn-success.disabled.focus,
.btn-success[disabled].focus,
fieldset[disabled] .btn-success.focus {
  background-color: #5cb85c;
  border-color: #4cae4c;
}
.btn-success .badge {
  color: #5cb85c;
  background-color: #fff;
}
.btn-info {
  color: #fff;
  background-color: #5bc0de;
  border-color: #46b8da;
}
.btn-info:focus,
.btn-info.focus {
  color: #fff;
  background-color: #31b0d5;
  border-color: #1b6d85;
}
.btn-info:hover {
  color: #fff;
  background-color: #31b0d5;
  border-color: #269abc;
}
.btn-info:active,
.btn-info.active,
.open > .dropdown-toggle.btn-info {
  color: #fff;
  background-color: #31b0d5;
  border-color: #269abc;
}
.btn-info:active:hover,
.btn-info.active:hover,
.open > .dropdown-toggle.btn-info:hover,
.btn-info:active:focus,
.btn-info.active:focus,
.open > .dropdown-toggle.btn-info:focus,
.btn-info:active.focus,
.btn-info.active.focus,
.open > .dropdown-toggle.btn-info.focus {
  color: #fff;
  background-color: #269abc;
  border-color: #1b6d85;
}
.btn-info:active,
.btn-info.active,
.open > .dropdown-toggle.btn-info {
  background-image: none;
}
.btn-info.disabled:hover,
.btn-info[disabled]:hover,
fieldset[disabled] .btn-info:hover,
.btn-info.disabled:focus,
.btn-info[disabled]:focus,
fieldset[disabled] .btn-info:focus,
.btn-info.disabled.focus,
.btn-info[disabled].focus,
fieldset[disabled] .btn-info.focus {
  background-color: #5bc0de;
  border-color: #46b8da;
}
.btn-info .badge {
  color: #5bc0de;
  background-color: #fff;
}
.btn-warning {
  color: #fff;
  background-color: #f0ad4e;
  border-color: #eea236;
}
.btn-warning:focus,
.btn-warning.focus {
  color: #fff;
  background-color: #ec971f;
  border-color: #985f0d;
}
.btn-warning:hover {
  color: #fff;
  background-color: #ec971f;
  border-color: #d58512;
}
.btn-warning:active,
.btn-warning.active,
.open > .dropdown-toggle.btn-warning {
  color: #fff;
  background-color: #ec971f;
  border-color: #d58512;
}
.btn-warning:active:hover,
.btn-warning.active:hover,
.open > .dropdown-toggle.btn-warning:hover,
.btn-warning:active:focus,
.btn-warning.active:focus,
.open > .dropdown-toggle.btn-warning:focus,
.btn-warning:active.focus,
.btn-warning.active.focus,
.open > .dropdown-toggle.btn-warning.focus {
  color: #fff;
  background-color: #d58512;
  border-color: #985f0d;
}
.btn-warning:active,
.btn-warning.active,
.open > .dropdown-toggle.btn-warning {
  background-image: none;
}
.btn-warning.disabled:hover,
.btn-warning[disabled]:hover,
fieldset[disabled] .btn-warning:hover,
.btn-warning.disabled:focus,
.btn-warning[disabled]:focus,
fieldset[disabled] .btn-warning:focus,
.btn-warning.disabled.focus,
.btn-warning[disabled].focus,
fieldset[disabled] .btn-warning.focus {
  background-color: #f0ad4e;
  border-color: #eea236;
}
.btn-warning .badge {
  color: #f0ad4e;
  background-color: #fff;
}
.btn-danger {
  color: #fff;
  background-color: #d9534f;
  border-color: #d43f3a;
}
.btn-danger:focus,
.btn-danger.focus {
  color: #fff;
  background-color: #c9302c;
  border-color: #761c19;
}
.btn-danger:hover {
  color: #fff;
  background-color: #c9302c;
  border-color: #ac2925;
}
.btn-danger:active,
.btn-danger.active,
.open > .dropdown-toggle.btn-danger {
  color: #fff;
  background-color: #c9302c;
  border-color: #ac2925;
}
.btn-danger:active:hover,
.btn-danger.active:hover,
.open > .dropdown-toggle.btn-danger:hover,
.btn-danger:active:focus,
.btn-danger.active:focus,
.open > .dropdown-toggle.btn-danger:focus,
.btn-danger:active.focus,
.btn-danger.active.focus,
.open > .dropdown-toggle.btn-danger.focus {
  color: #fff;
  background-color: #ac2925;
  border-color: #761c19;
}
.btn-danger:active,
.btn-danger.active,
.open > .dropdown-toggle.btn-danger {
  background-image: none;
}
.btn-danger.disabled:hover,
.btn-danger[disabled]:hover,
fieldset[disabled] .btn-danger:hover,
.btn-danger.disabled:focus,
.btn-danger[disabled]:focus,
fieldset[disabled] .btn-danger:focus,
.btn-danger.disabled.focus,
.btn-danger[disabled].focus,
fieldset[disabled] .btn-danger.focus {
  background-color: #d9534f;
  border-color: #d43f3a;
}
.btn-danger .badge {
  color: #d9534f;
  background-color: #fff;
}
.btn-link {
  color: #337ab7;
  font-weight: normal;
  border-radius: 0;
}
.btn-link,
.btn-link:active,
.btn-link.active,
.btn-link[disabled],
fieldset[disabled] .btn-link {
  background-color: transparent;
  -webkit-box-shadow: none;
  box-shadow: none;
}
.btn-link,
.btn-link:hover,
.btn-link:focus,
.btn-link:active {
  border-color: transparent;
}
.btn-link:hover,
.btn-link:focus {
  color: #23527c;
  text-decoration: underline;
  background-color: transparent;
}
.btn-link[disabled]:hover,
fieldset[disabled] .btn-link:hover,
.btn-link[disabled]:focus,
fieldset[disabled] .btn-link:focus {
  color: #777777;
  text-decoration: none;
}
.btn-lg,
.btn-group-lg > .btn {
  padding: 10px 16px;
  font-size: 17px;
  line-height: 1.3333333;
  border-radius: 3px;
}
.btn-sm,
.btn-group-sm > .btn {
  padding: 5px 10px;
  font-size: 12px;
  line-height: 1.5;
  border-radius: 1px;
}
.btn-xs,
.btn-group-xs > .btn {
  padding: 1px 5px;
  font-size: 12px;
  line-height: 1.5;
  border-radius: 1px;
}
.btn-block {
  display: block;
  width: 100%;
}
.btn-block + .btn-block {
  margin-top: 5px;
}
input[type="submit"].btn-block,
input[type="reset"].btn-block,
input[type="button"].btn-block {
  width: 100%;
}
.fade {
  opacity: 0;
  -webkit-transition: opacity 0.15s linear;
  -o-transition: opacity 0.15s linear;
  transition: opacity 0.15s linear;
}
.fade.in {
  opacity: 1;
}
.collapse {
  display: none;
}
.collapse.in {
  display: block;
}
tr.collapse.in {
  display: table-row;
}
tbody.collapse.in {
  display: table-row-group;
}
.collapsing {
  position: relative;
  height: 0;
  overflow: hidden;
  -webkit-transition-property: height, visibility;
  transition-property: height, visibility;
  -webkit-transition-duration: 0.35s;
  transition-duration: 0.35s;
  -webkit-transition-timing-function: ease;
  transition-timing-function: ease;
}
.caret {
  display: inline-block;
  width: 0;
  height: 0;
  margin-left: 2px;
  vertical-align: middle;
  border-top: 4px dashed;
  border-top: 4px solid \9;
  border-right: 4px solid transparent;
  border-left: 4px solid transparent;
}
.dropup,
.dropdown {
  position: relative;
}
.dropdown-toggle:focus {
  outline: 0;
}
.dropdown-menu {
  position: absolute;
  top: 100%;
  left: 0;
  z-index: 1000;
  display: none;
  float: left;
  min-width: 160px;
  padding: 5px 0;
  margin: 2px 0 0;
  list-style: none;
  font-size: 13px;
  text-align: left;
  background-color: #fff;
  border: 1px solid #ccc;
  border: 1px solid rgba(0, 0, 0, 0.15);
  border-radius: 2px;
  -webkit-box-shadow: 0 6px 12px rgba(0, 0, 0, 0.175);
  box-shadow: 0 6px 12px rgba(0, 0, 0, 0.175);
  background-clip: padding-box;
}
.dropdown-menu.pull-right {
  right: 0;
  left: auto;
}
.dropdown-menu .divider {
  height: 1px;
  margin: 8px 0;
  overflow: hidden;
  background-color: #e5e5e5;
}
.dropdown-menu > li > a {
  display: block;
  padding: 3px 20px;
  clear: both;
  font-weight: normal;
  line-height: 1.42857143;
  color: #333333;
  white-space: nowrap;
}
.dropdown-menu > li > a:hover,
.dropdown-menu > li > a:focus {
  text-decoration: none;
  color: #262626;
  background-color: #f5f5f5;
}
.dropdown-menu > .active > a,
.dropdown-menu > .active > a:hover,
.dropdown-menu > .active > a:focus {
  color: #fff;
  text-decoration: none;
  outline: 0;
  background-color: #337ab7;
}
.dropdown-menu > .disabled > a,
.dropdown-menu > .disabled > a:hover,
.dropdown-menu > .disabled > a:focus {
  color: #777777;
}
.dropdown-menu > .disabled > a:hover,
.dropdown-menu > .disabled > a:focus {
  text-decoration: none;
  background-color: transparent;
  background-image: none;
  filter: progid:DXImageTransform.Microsoft.gradient(enabled = false);
  cursor: not-allowed;
}
.open > .dropdown-menu {
  display: block;
}
.open > a {
  outline: 0;
}
.dropdown-menu-right {
  left: auto;
  right: 0;
}
.dropdown-menu-left {
  left: 0;
  right: auto;
}
.dropdown-header {
  display: block;
  padding: 3px 20px;
  font-size: 12px;
  line-height: 1.42857143;
  color: #777777;
  white-space: nowrap;
}
.dropdown-backdrop {
  position: fixed;
  left: 0;
  right: 0;
  bottom: 0;
  top: 0;
  z-index: 990;
}
.pull-right > .dropdown-menu {
  right: 0;
  left: auto;
}
.dropup .caret,
.navbar-fixed-bottom .dropdown .caret {
  border-top: 0;
  border-bottom: 4px dashed;
  border-bottom: 4px solid \9;
  content: "";
}
.dropup .dropdown-menu,
.navbar-fixed-bottom .dropdown .dropdown-menu {
  top: auto;
  bottom: 100%;
  margin-bottom: 2px;
}
@media (min-width: 541px) {
  .navbar-right .dropdown-menu {
    left: auto;
    right: 0;
  }
  .navbar-right .dropdown-menu-left {
    left: 0;
    right: auto;
  }
}
.btn-group,
.btn-group-vertical {
  position: relative;
  display: inline-block;
  vertical-align: middle;
}
.btn-group > .btn,
.btn-group-vertical > .btn {
  position: relative;
  float: left;
}
.btn-group > .btn:hover,
.btn-group-vertical > .btn:hover,
.btn-group > .btn:focus,
.btn-group-vertical > .btn:focus,
.btn-group > .btn:active,
.btn-group-vertical > .btn:active,
.btn-group > .btn.active,
.btn-group-vertical > .btn.active {
  z-index: 2;
}
.btn-group .btn + .btn,
.btn-group .btn + .btn-group,
.btn-group .btn-group + .btn,
.btn-group .btn-group + .btn-group {
  margin-left: -1px;
}
.btn-toolbar {
  margin-left: -5px;
}
.btn-toolbar .btn,
.btn-toolbar .btn-group,
.btn-toolbar .input-group {
  float: left;
}
.btn-toolbar > .btn,
.btn-toolbar > .btn-group,
.btn-toolbar > .input-group {
  margin-left: 5px;
}
.btn-group > .btn:not(:first-child):not(:last-child):not(.dropdown-toggle) {
  border-radius: 0;
}
.btn-group > .btn:first-child {
  margin-left: 0;
}
.btn-group > .btn:first-child:not(:last-child):not(.dropdown-toggle) {
  border-bottom-right-radius: 0;
  border-top-right-radius: 0;
}
.btn-group > .btn:last-child:not(:first-child),
.btn-group > .dropdown-toggle:not(:first-child) {
  border-bottom-left-radius: 0;
  border-top-left-radius: 0;
}
.btn-group > .btn-group {
  float: left;
}
.btn-group > .btn-group:not(:first-child):not(:last-child) > .btn {
  border-radius: 0;
}
.btn-group > .btn-group:first-child:not(:last-child) > .btn:last-child,
.btn-group > .btn-group:first-child:not(:last-child) > .dropdown-toggle {
  border-bottom-right-radius: 0;
  border-top-right-radius: 0;
}
.btn-group > .btn-group:last-child:not(:first-child) > .btn:first-child {
  border-bottom-left-radius: 0;
  border-top-left-radius: 0;
}
.btn-group .dropdown-toggle:active,
.btn-group.open .dropdown-toggle {
  outline: 0;
}
.btn-group > .btn + .dropdown-toggle {
  padding-left: 8px;
  padding-right: 8px;
}
.btn-group > .btn-lg + .dropdown-toggle {
  padding-left: 12px;
  padding-right: 12px;
}
.btn-group.open .dropdown-toggle {
  -webkit-box-shadow: inset 0 3px 5px rgba(0, 0, 0, 0.125);
  box-shadow: inset 0 3px 5px rgba(0, 0, 0, 0.125);
}
.btn-group.open .dropdown-toggle.btn-link {
  -webkit-box-shadow: none;
  box-shadow: none;
}
.btn .caret {
  margin-left: 0;
}
.btn-lg .caret {
  border-width: 5px 5px 0;
  border-bottom-width: 0;
}
.dropup .btn-lg .caret {
  border-width: 0 5px 5px;
}
.btn-group-vertical > .btn,
.btn-group-vertical > .btn-group,
.btn-group-vertical > .btn-group > .btn {
  display: block;
  float: none;
  width: 100%;
  max-width: 100%;
}
.btn-group-vertical > .btn-group > .btn {
  float: none;
}
.btn-group-vertical > .btn + .btn,
.btn-group-vertical > .btn + .btn-group,
.btn-group-vertical > .btn-group + .btn,
.btn-group-vertical > .btn-group + .btn-group {
  margin-top: -1px;
  margin-left: 0;
}
.btn-group-vertical > .btn:not(:first-child):not(:last-child) {
  border-radius: 0;
}
.btn-group-vertical > .btn:first-child:not(:last-child) {
  border-top-right-radius: 2px;
  border-top-left-radius: 2px;
  border-bottom-right-radius: 0;
  border-bottom-left-radius: 0;
}
.btn-group-vertical > .btn:last-child:not(:first-child) {
  border-top-right-radius: 0;
  border-top-left-radius: 0;
  border-bottom-right-radius: 2px;
  border-bottom-left-radius: 2px;
}
.btn-group-vertical > .btn-group:not(:first-child):not(:last-child) > .btn {
  border-radius: 0;
}
.btn-group-vertical > .btn-group:first-child:not(:last-child) > .btn:last-child,
.btn-group-vertical > .btn-group:first-child:not(:last-child) > .dropdown-toggle {
  border-bottom-right-radius: 0;
  border-bottom-left-radius: 0;
}
.btn-group-vertical > .btn-group:last-child:not(:first-child) > .btn:first-child {
  border-top-right-radius: 0;
  border-top-left-radius: 0;
}
.btn-group-justified {
  display: table;
  width: 100%;
  table-layout: fixed;
  border-collapse: separate;
}
.btn-group-justified > .btn,
.btn-group-justified > .btn-group {
  float: none;
  display: table-cell;
  width: 1%;
}
.btn-group-justified > .btn-group .btn {
  width: 100%;
}
.btn-group-justified > .btn-group .dropdown-menu {
  left: auto;
}
[data-toggle="buttons"] > .btn input[type="radio"],
[data-toggle="buttons"] > .btn-group > .btn input[type="radio"],
[data-toggle="buttons"] > .btn input[type="checkbox"],
[data-toggle="buttons"] > .btn-group > .btn input[type="checkbox"] {
  position: absolute;
  clip: rect(0, 0, 0, 0);
  pointer-events: none;
}
.input-group {
  position: relative;
  display: table;
  border-collapse: separate;
}
.input-group[class*="col-"] {
  float: none;
  padding-left: 0;
  padding-right: 0;
}
.input-group .form-control {
  position: relative;
  z-index: 2;
  float: left;
  width: 100%;
  margin-bottom: 0;
}
.input-group .form-control:focus {
  z-index: 3;
}
.input-group-lg > .form-control,
.input-group-lg > .input-group-addon,
.input-group-lg > .input-group-btn > .btn {
  height: 45px;
  padding: 10px 16px;
  font-size: 17px;
  line-height: 1.3333333;
  border-radius: 3px;
}
select.input-group-lg > .form-control,
select.input-group-lg > .input-group-addon,
select.input-group-lg > .input-group-btn > .btn {
  height: 45px;
  line-height: 45px;
}
textarea.input-group-lg > .form-control,
textarea.input-group-lg > .input-group-addon,
textarea.input-group-lg > .input-group-btn > .btn,
select[multiple].input-group-lg > .form-control,
select[multiple].input-group-lg > .input-group-addon,
select[multiple].input-group-lg > .input-group-btn > .btn {
  height: auto;
}
.input-group-sm > .form-control,
.input-group-sm > .input-group-addon,
.input-group-sm > .input-group-btn > .btn {
  height: 30px;
  padding: 5px 10px;
  font-size: 12px;
  line-height: 1.5;
  border-radius: 1px;
}
select.input-group-sm > .form-control,
select.input-group-sm > .input-group-addon,
select.input-group-sm > .input-group-btn > .btn {
  height: 30px;
  line-height: 30px;
}
textarea.input-group-sm > .form-control,
textarea.input-group-sm > .input-group-addon,
textarea.input-group-sm > .input-group-btn > .btn,
select[multiple].input-group-sm > .form-control,
select[multiple].input-group-sm > .input-group-addon,
select[multiple].input-group-sm > .input-group-btn > .btn {
  height: auto;
}
.input-group-addon,
.input-group-btn,
.input-group .form-control {
  display: table-cell;
}
.input-group-addon:not(:first-child):not(:last-child),
.input-group-btn:not(:first-child):not(:last-child),
.input-group .form-control:not(:first-child):not(:last-child) {
  border-radius: 0;
}
.input-group-addon,
.input-group-btn {
  width: 1%;
  white-space: nowrap;
  vertical-align: middle;
}
.input-group-addon {
  padding: 6px 12px;
  font-size: 13px;
  font-weight: normal;
  line-height: 1;
  color: #555555;
  text-align: center;
  background-color: #eeeeee;
  border: 1px solid #ccc;
  border-radius: 2px;
}
.input-group-addon.input-sm {
  padding: 5px 10px;
  font-size: 12px;
  border-radius: 1px;
}
.input-group-addon.input-lg {
  padding: 10px 16px;
  font-size: 17px;
  border-radius: 3px;
}
.input-group-addon input[type="radio"],
.input-group-addon input[type="checkbox"] {
  margin-top: 0;
}
.input-group .form-control:first-child,
.input-group-addon:first-child,
.input-group-btn:first-child > .btn,
.input-group-btn:first-child > .btn-group > .btn,
.input-group-btn:first-child > .dropdown-toggle,
.input-group-btn:last-child > .btn:not(:last-child):not(.dropdown-toggle),
.input-group-btn:last-child > .btn-group:not(:last-child) > .btn {
  border-bottom-right-radius: 0;
  border-top-right-radius: 0;
}
.input-group-addon:first-child {
  border-right: 0;
}
.input-group .form-control:last-child,
.input-group-addon:last-child,
.input-group-btn:last-child > .btn,
.input-group-btn:last-child > .btn-group > .btn,
.input-group-btn:last-child > .dropdown-toggle,
.input-group-btn:first-child > .btn:not(:first-child),
.input-group-btn:first-child > .btn-group:not(:first-child) > .btn {
  border-bottom-left-radius: 0;
  border-top-left-radius: 0;
}
.input-group-addon:last-child {
  border-left: 0;
}
.input-group-btn {
  position: relative;
  font-size: 0;
  white-space: nowrap;
}
.input-group-btn > .btn {
  position: relative;
}
.input-group-btn > .btn + .btn {
  margin-left: -1px;
}
.input-group-btn > .btn:hover,
.input-group-btn > .btn:focus,
.input-group-btn > .btn:active {
  z-index: 2;
}
.input-group-btn:first-child > .btn,
.input-group-btn:first-child > .btn-group {
  margin-right: -1px;
}
.input-group-btn:last-child > .btn,
.input-group-btn:last-child > .btn-group {
  z-index: 2;
  margin-left: -1px;
}
.nav {
  margin-bottom: 0;
  padding-left: 0;
  list-style: none;
}
.nav > li {
  position: relative;
  display: block;
}
.nav > li > a {
  position: relative;
  display: block;
  padding: 10px 15px;
}
.nav > li > a:hover,
.nav > li > a:focus {
  text-decoration: none;
  background-color: #eeeeee;
}
.nav > li.disabled > a {
  color: #777777;
}
.nav > li.disabled > a:hover,
.nav > li.disabled > a:focus {
  color: #777777;
  text-decoration: none;
  background-color: transparent;
  cursor: not-allowed;
}
.nav .open > a,
.nav .open > a:hover,
.nav .open > a:focus {
  background-color: #eeeeee;
  border-color: #337ab7;
}
.nav .nav-divider {
  height: 1px;
  margin: 8px 0;
  overflow: hidden;
  background-color: #e5e5e5;
}
.nav > li > a > img {
  max-width: none;
}
.nav-tabs {
  border-bottom: 1px solid #ddd;
}
.nav-tabs > li {
  float: left;
  margin-bottom: -1px;
}
.nav-tabs > li > a {
  margin-right: 2px;
  line-height: 1.42857143;
  border: 1px solid transparent;
  border-radius: 2px 2px 0 0;
}
.nav-tabs > li > a:hover {
  border-color: #eeeeee #eeeeee #ddd;
}
.nav-tabs > li.active > a,
.nav-tabs > li.active > a:hover,
.nav-tabs > li.active > a:focus {
  color: #555555;
  background-color: #fff;
  border: 1px solid #ddd;
  border-bottom-color: transparent;
  cursor: default;
}
.nav-tabs.nav-justified {
  width: 100%;
  border-bottom: 0;
}
.nav-tabs.nav-justified > li {
  float: none;
}
.nav-tabs.nav-justified > li > a {
  text-align: center;
  margin-bottom: 5px;
}
.nav-tabs.nav-justified > .dropdown .dropdown-menu {
  top: auto;
  left: auto;
}
@media (min-width: 768px) {
  .nav-tabs.nav-justified > li {
    display: table-cell;
    width: 1%;
  }
  .nav-tabs.nav-justified > li > a {
    margin-bottom: 0;
  }
}
.nav-tabs.nav-justified > li > a {
  margin-right: 0;
  border-radius: 2px;
}
.nav-tabs.nav-justified > .active > a,
.nav-tabs.nav-justified > .active > a:hover,
.nav-tabs.nav-justified > .active > a:focus {
  border: 1px solid #ddd;
}
@media (min-width: 768px) {
  .nav-tabs.nav-justified > li > a {
    border-bottom: 1px solid #ddd;
    border-radius: 2px 2px 0 0;
  }
  .nav-tabs.nav-justified > .active > a,
  .nav-tabs.nav-justified > .active > a:hover,
  .nav-tabs.nav-justified > .active > a:focus {
    border-bottom-color: #fff;
  }
}
.nav-pills > li {
  float: left;
}
.nav-pills > li > a {
  border-radius: 2px;
}
.nav-pills > li + li {
  margin-left: 2px;
}
.nav-pills > li.active > a,
.nav-pills > li.active > a:hover,
.nav-pills > li.active > a:focus {
  color: #fff;
  background-color: #337ab7;
}
.nav-stacked > li {
  float: none;
}
.nav-stacked > li + li {
  margin-top: 2px;
  margin-left: 0;
}
.nav-justified {
  width: 100%;
}
.nav-justified > li {
  float: none;
}
.nav-justified > li > a {
  text-align: center;
  margin-bottom: 5px;
}
.nav-justified > .dropdown .dropdown-menu {
  top: auto;
  left: auto;
}
@media (min-width: 768px) {
  .nav-justified > li {
    display: table-cell;
    width: 1%;
  }
  .nav-justified > li > a {
    margin-bottom: 0;
  }
}
.nav-tabs-justified {
  border-bottom: 0;
}
.nav-tabs-justified > li > a {
  margin-right: 0;
  border-radius: 2px;
}
.nav-tabs-justified > .active > a,
.nav-tabs-justified > .active > a:hover,
.nav-tabs-justified > .active > a:focus {
  border: 1px solid #ddd;
}
@media (min-width: 768px) {
  .nav-tabs-justified > li > a {
    border-bottom: 1px solid #ddd;
    border-radius: 2px 2px 0 0;
  }
  .nav-tabs-justified > .active > a,
  .nav-tabs-justified > .active > a:hover,
  .nav-tabs-justified > .active > a:focus {
    border-bottom-color: #fff;
  }
}
.tab-content > .tab-pane {
  display: none;
}
.tab-content > .active {
  display: block;
}
.nav-tabs .dropdown-menu {
  margin-top: -1px;
  border-top-right-radius: 0;
  border-top-left-radius: 0;
}
.navbar {
  position: relative;
  min-height: 30px;
  margin-bottom: 18px;
  border: 1px solid transparent;
}
@media (min-width: 541px) {
  .navbar {
    border-radius: 2px;
  }
}
@media (min-width: 541px) {
  .navbar-header {
    float: left;
  }
}
.navbar-collapse {
  overflow-x: visible;
  padding-right: 0px;
  padding-left: 0px;
  border-top: 1px solid transparent;
  box-shadow: inset 0 1px 0 rgba(255, 255, 255, 0.1);
  -webkit-overflow-scrolling: touch;
}
.navbar-collapse.in {
  overflow-y: auto;
}
@media (min-width: 541px) {
  .navbar-collapse {
    width: auto;
    border-top: 0;
    box-shadow: none;
  }
  .navbar-collapse.collapse {
    display: block !important;
    height: auto !important;
    padding-bottom: 0;
    overflow: visible !important;
  }
  .navbar-collapse.in {
    overflow-y: visible;
  }
  .navbar-fixed-top .navbar-collapse,
  .navbar-static-top .navbar-collapse,
  .navbar-fixed-bottom .navbar-collapse {
    padding-left: 0;
    padding-right: 0;
  }
}
.navbar-fixed-top .navbar-collapse,
.navbar-fixed-bottom .navbar-collapse {
  max-height: 340px;
}
@media (max-device-width: 540px) and (orientation: landscape) {
  .navbar-fixed-top .navbar-collapse,
  .navbar-fixed-bottom .navbar-collapse {
    max-height: 200px;
  }
}
.container > .navbar-header,
.container-fluid > .navbar-header,
.container > .navbar-collapse,
.container-fluid > .navbar-collapse {
  margin-right: 0px;
  margin-left: 0px;
}
@media (min-width: 541px) {
  .container > .navbar-header,
  .container-fluid > .navbar-header,
  .container > .navbar-collapse,
  .container-fluid > .navbar-collapse {
    margin-right: 0;
    margin-left: 0;
  }
}
.navbar-static-top {
  z-index: 1000;
  border-width: 0 0 1px;
}
@media (min-width: 541px) {
  .navbar-static-top {
    border-radius: 0;
  }
}
.navbar-fixed-top,
.navbar-fixed-bottom {
  position: fixed;
  right: 0;
  left: 0;
  z-index: 1030;
}
@media (min-width: 541px) {
  .navbar-fixed-top,
  .navbar-fixed-bottom {
    border-radius: 0;
  }
}
.navbar-fixed-top {
  top: 0;
  border-width: 0 0 1px;
}
.navbar-fixed-bottom {
  bottom: 0;
  margin-bottom: 0;
  border-width: 1px 0 0;
}
.navbar-brand {
  float: left;
  padding: 6px 0px;
  font-size: 17px;
  line-height: 18px;
  height: 30px;
}
.navbar-brand:hover,
.navbar-brand:focus {
  text-decoration: none;
}
.navbar-brand > img {
  display: block;
}
@media (min-width: 541px) {
  .navbar > .container .navbar-brand,
  .navbar > .container-fluid .navbar-brand {
    margin-left: 0px;
  }
}
.navbar-toggle {
  position: relative;
  float: right;
  margin-right: 0px;
  padding: 9px 10px;
  margin-top: -2px;
  margin-bottom: -2px;
  background-color: transparent;
  background-image: none;
  border: 1px solid transparent;
  border-radius: 2px;
}
.navbar-toggle:focus {
  outline: 0;
}
.navbar-toggle .icon-bar {
  display: block;
  width: 22px;
  height: 2px;
  border-radius: 1px;
}
.navbar-toggle .icon-bar + .icon-bar {
  margin-top: 4px;
}
@media (min-width: 541px) {
  .navbar-toggle {
    display: none;
  }
}
.navbar-nav {
  margin: 3px 0px;
}
.navbar-nav > li > a {
  padding-top: 10px;
  padding-bottom: 10px;
  line-height: 18px;
}
@media (max-width: 540px) {
  .navbar-nav .open .dropdown-menu {
    position: static;
    float: none;
    width: auto;
    margin-top: 0;
    background-color: transparent;
    border: 0;
    box-shadow: none;
  }
  .navbar-nav .open .dropdown-menu > li > a,
  .navbar-nav .open .dropdown-menu .dropdown-header {
    padding: 5px 15px 5px 25px;
  }
  .navbar-nav .open .dropdown-menu > li > a {
    line-height: 18px;
  }
  .navbar-nav .open .dropdown-menu > li > a:hover,
  .navbar-nav .open .dropdown-menu > li > a:focus {
    background-image: none;
  }
}
@media (min-width: 541px) {
  .navbar-nav {
    float: left;
    margin: 0;
  }
  .navbar-nav > li {
    float: left;
  }
  .navbar-nav > li > a {
    padding-top: 6px;
    padding-bottom: 6px;
  }
}
.navbar-form {
  margin-left: 0px;
  margin-right: 0px;
  padding: 10px 0px;
  border-top: 1px solid transparent;
  border-bottom: 1px solid transparent;
  -webkit-box-shadow: inset 0 1px 0 rgba(255, 255, 255, 0.1), 0 1px 0 rgba(255, 255, 255, 0.1);
  box-shadow: inset 0 1px 0 rgba(255, 255, 255, 0.1), 0 1px 0 rgba(255, 255, 255, 0.1);
  margin-top: -1px;
  margin-bottom: -1px;
}
@media (min-width: 768px) {
  .navbar-form .form-group {
    display: inline-block;
    margin-bottom: 0;
    vertical-align: middle;
  }
  .navbar-form .form-control {
    display: inline-block;
    width: auto;
    vertical-align: middle;
  }
  .navbar-form .form-control-static {
    display: inline-block;
  }
  .navbar-form .input-group {
    display: inline-table;
    vertical-align: middle;
  }
  .navbar-form .input-group .input-group-addon,
  .navbar-form .input-group .input-group-btn,
  .navbar-form .input-group .form-control {
    width: auto;
  }
  .navbar-form .input-group > .form-control {
    width: 100%;
  }
  .navbar-form .control-label {
    margin-bottom: 0;
    vertical-align: middle;
  }
  .navbar-form .radio,
  .navbar-form .checkbox {
    display: inline-block;
    margin-top: 0;
    margin-bottom: 0;
    vertical-align: middle;
  }
  .navbar-form .radio label,
  .navbar-form .checkbox label {
    padding-left: 0;
  }
  .navbar-form .radio input[type="radio"],
  .navbar-form .checkbox input[type="checkbox"] {
    position: relative;
    margin-left: 0;
  }
  .navbar-form .has-feedback .form-control-feedback {
    top: 0;
  }
}
@media (max-width: 540px) {
  .navbar-form .form-group {
    margin-bottom: 5px;
  }
  .navbar-form .form-group:last-child {
    margin-bottom: 0;
  }
}
@media (min-width: 541px) {
  .navbar-form {
    width: auto;
    border: 0;
    margin-left: 0;
    margin-right: 0;
    padding-top: 0;
    padding-bottom: 0;
    -webkit-box-shadow: none;
    box-shadow: none;
  }
}
.navbar-nav > li > .dropdown-menu {
  margin-top: 0;
  border-top-right-radius: 0;
  border-top-left-radius: 0;
}
.navbar-fixed-bottom .navbar-nav > li > .dropdown-menu {
  margin-bottom: 0;
  border-top-right-radius: 2px;
  border-top-left-radius: 2px;
  border-bottom-right-radius: 0;
  border-bottom-left-radius: 0;
}
.navbar-btn {
  margin-top: -1px;
  margin-bottom: -1px;
}
.navbar-btn.btn-sm {
  margin-top: 0px;
  margin-bottom: 0px;
}
.navbar-btn.btn-xs {
  margin-top: 4px;
  margin-bottom: 4px;
}
.navbar-text {
  margin-top: 6px;
  margin-bottom: 6px;
}
@media (min-width: 541px) {
  .navbar-text {
    float: left;
    margin-left: 0px;
    margin-right: 0px;
  }
}
@media (min-width: 541px) {
  .navbar-left {
    float: left !important;
    float: left;
  }
  .navbar-right {
    float: right !important;
    float: right;
    margin-right: 0px;
  }
  .navbar-right ~ .navbar-right {
    margin-right: 0;
  }
}
.navbar-default {
  background-color: #f8f8f8;
  border-color: #e7e7e7;
}
.navbar-default .navbar-brand {
  color: #777;
}
.navbar-default .navbar-brand:hover,
.navbar-default .navbar-brand:focus {
  color: #5e5e5e;
  background-color: transparent;
}
.navbar-default .navbar-text {
  color: #777;
}
.navbar-default .navbar-nav > li > a {
  color: #777;
}
.navbar-default .navbar-nav > li > a:hover,
.navbar-default .navbar-nav > li > a:focus {
  color: #333;
  background-color: transparent;
}
.navbar-default .navbar-nav > .active > a,
.navbar-default .navbar-nav > .active > a:hover,
.navbar-default .navbar-nav > .active > a:focus {
  color: #555;
  background-color: #e7e7e7;
}
.navbar-default .navbar-nav > .disabled > a,
.navbar-default .navbar-nav > .disabled > a:hover,
.navbar-default .navbar-nav > .disabled > a:focus {
  color: #ccc;
  background-color: transparent;
}
.navbar-default .navbar-toggle {
  border-color: #ddd;
}
.navbar-default .navbar-toggle:hover,
.navbar-default .navbar-toggle:focus {
  background-color: #ddd;
}
.navbar-default .navbar-toggle .icon-bar {
  background-color: #888;
}
.navbar-default .navbar-collapse,
.navbar-default .navbar-form {
  border-color: #e7e7e7;
}
.navbar-default .navbar-nav > .open > a,
.navbar-default .navbar-nav > .open > a:hover,
.navbar-default .navbar-nav > .open > a:focus {
  background-color: #e7e7e7;
  color: #555;
}
@media (max-width: 540px) {
  .navbar-default .navbar-nav .open .dropdown-menu > li > a {
    color: #777;
  }
  .navbar-default .navbar-nav .open .dropdown-menu > li > a:hover,
  .navbar-default .navbar-nav .open .dropdown-menu > li > a:focus {
    color: #333;
    background-color: transparent;
  }
  .navbar-default .navbar-nav .open .dropdown-menu > .active > a,
  .navbar-default .navbar-nav .open .dropdown-menu > .active > a:hover,
  .navbar-default .navbar-nav .open .dropdown-menu > .active > a:focus {
    color: #555;
    background-color: #e7e7e7;
  }
  .navbar-default .navbar-nav .open .dropdown-menu > .disabled > a,
  .navbar-default .navbar-nav .open .dropdown-menu > .disabled > a:hover,
  .navbar-default .navbar-nav .open .dropdown-menu > .disabled > a:focus {
    color: #ccc;
    background-color: transparent;
  }
}
.navbar-default .navbar-link {
  color: #777;
}
.navbar-default .navbar-link:hover {
  color: #333;
}
.navbar-default .btn-link {
  color: #777;
}
.navbar-default .btn-link:hover,
.navbar-default .btn-link:focus {
  color: #333;
}
.navbar-default .btn-link[disabled]:hover,
fieldset[disabled] .navbar-default .btn-link:hover,
.navbar-default .btn-link[disabled]:focus,
fieldset[disabled] .navbar-default .btn-link:focus {
  color: #ccc;
}
.navbar-inverse {
  background-color: #222;
  border-color: #080808;
}
.navbar-inverse .navbar-brand {
  color: #9d9d9d;
}
.navbar-inverse .navbar-brand:hover,
.navbar-inverse .navbar-brand:focus {
  color: #fff;
  background-color: transparent;
}
.navbar-inverse .navbar-text {
  color: #9d9d9d;
}
.navbar-inverse .navbar-nav > li > a {
  color: #9d9d9d;
}
.navbar-inverse .navbar-nav > li > a:hover,
.navbar-inverse .navbar-nav > li > a:focus {
  color: #fff;
  background-color: transparent;
}
.navbar-inverse .navbar-nav > .active > a,
.navbar-inverse .navbar-nav > .active > a:hover,
.navbar-inverse .navbar-nav > .active > a:focus {
  color: #fff;
  background-color: #080808;
}
.navbar-inverse .navbar-nav > .disabled > a,
.navbar-inverse .navbar-nav > .disabled > a:hover,
.navbar-inverse .navbar-nav > .disabled > a:focus {
  color: #444;
  background-color: transparent;
}
.navbar-inverse .navbar-toggle {
  border-color: #333;
}
.navbar-inverse .navbar-toggle:hover,
.navbar-inverse .navbar-toggle:focus {
  background-color: #333;
}
.navbar-inverse .navbar-toggle .icon-bar {
  background-color: #fff;
}
.navbar-inverse .navbar-collapse,
.navbar-inverse .navbar-form {
  border-color: #101010;
}
.navbar-inverse .navbar-nav > .open > a,
.navbar-inverse .navbar-nav > .open > a:hover,
.navbar-inverse .navbar-nav > .open > a:focus {
  background-color: #080808;
  color: #fff;
}
@media (max-width: 540px) {
  .navbar-inverse .navbar-nav .open .dropdown-menu > .dropdown-header {
    border-color: #080808;
  }
  .navbar-inverse .navbar-nav .open .dropdown-menu .divider {
    background-color: #080808;
  }
  .navbar-inverse .navbar-nav .open .dropdown-menu > li > a {
    color: #9d9d9d;
  }
  .navbar-inverse .navbar-nav .open .dropdown-menu > li > a:hover,
  .navbar-inverse .navbar-nav .open .dropdown-menu > li > a:focus {
    color: #fff;
    background-color: transparent;
  }
  .navbar-inverse .navbar-nav .open .dropdown-menu > .active > a,
  .navbar-inverse .navbar-nav .open .dropdown-menu > .active > a:hover,
  .navbar-inverse .navbar-nav .open .dropdown-menu > .active > a:focus {
    color: #fff;
    background-color: #080808;
  }
  .navbar-inverse .navbar-nav .open .dropdown-menu > .disabled > a,
  .navbar-inverse .navbar-nav .open .dropdown-menu > .disabled > a:hover,
  .navbar-inverse .navbar-nav .open .dropdown-menu > .disabled > a:focus {
    color: #444;
    background-color: transparent;
  }
}
.navbar-inverse .navbar-link {
  color: #9d9d9d;
}
.navbar-inverse .navbar-link:hover {
  color: #fff;
}
.navbar-inverse .btn-link {
  color: #9d9d9d;
}
.navbar-inverse .btn-link:hover,
.navbar-inverse .btn-link:focus {
  color: #fff;
}
.navbar-inverse .btn-link[disabled]:hover,
fieldset[disabled] .navbar-inverse .btn-link:hover,
.navbar-inverse .btn-link[disabled]:focus,
fieldset[disabled] .navbar-inverse .btn-link:focus {
  color: #444;
}
.breadcrumb {
  padding: 8px 15px;
  margin-bottom: 18px;
  list-style: none;
  background-color: #f5f5f5;
  border-radius: 2px;
}
.breadcrumb > li {
  display: inline-block;
}
.breadcrumb > li + li:before {
  content: "/\00a0";
  padding: 0 5px;
  color: #5e5e5e;
}
.breadcrumb > .active {
  color: #777777;
}
.pagination {
  display: inline-block;
  padding-left: 0;
  margin: 18px 0;
  border-radius: 2px;
}
.pagination > li {
  display: inline;
}
.pagination > li > a,
.pagination > li > span {
  position: relative;
  float: left;
  padding: 6px 12px;
  line-height: 1.42857143;
  text-decoration: none;
  color: #337ab7;
  background-color: #fff;
  border: 1px solid #ddd;
  margin-left: -1px;
}
.pagination > li:first-child > a,
.pagination > li:first-child > span {
  margin-left: 0;
  border-bottom-left-radius: 2px;
  border-top-left-radius: 2px;
}
.pagination > li:last-child > a,
.pagination > li:last-child > span {
  border-bottom-right-radius: 2px;
  border-top-right-radius: 2px;
}
.pagination > li > a:hover,
.pagination > li > span:hover,
.pagination > li > a:focus,
.pagination > li > span:focus {
  z-index: 2;
  color: #23527c;
  background-color: #eeeeee;
  border-color: #ddd;
}
.pagination > .active > a,
.pagination > .active > span,
.pagination > .active > a:hover,
.pagination > .active > span:hover,
.pagination > .active > a:focus,
.pagination > .active > span:focus {
  z-index: 3;
  color: #fff;
  background-color: #337ab7;
  border-color: #337ab7;
  cursor: default;
}
.pagination > .disabled > span,
.pagination > .disabled > span:hover,
.pagination > .disabled > span:focus,
.pagination > .disabled > a,
.pagination > .disabled > a:hover,
.pagination > .disabled > a:focus {
  color: #777777;
  background-color: #fff;
  border-color: #ddd;
  cursor: not-allowed;
}
.pagination-lg > li > a,
.pagination-lg > li > span {
  padding: 10px 16px;
  font-size: 17px;
  line-height: 1.3333333;
}
.pagination-lg > li:first-child > a,
.pagination-lg > li:first-child > span {
  border-bottom-left-radius: 3px;
  border-top-left-radius: 3px;
}
.pagination-lg > li:last-child > a,
.pagination-lg > li:last-child > span {
  border-bottom-right-radius: 3px;
  border-top-right-radius: 3px;
}
.pagination-sm > li > a,
.pagination-sm > li > span {
  padding: 5px 10px;
  font-size: 12px;
  line-height: 1.5;
}
.pagination-sm > li:first-child > a,
.pagination-sm > li:first-child > span {
  border-bottom-left-radius: 1px;
  border-top-left-radius: 1px;
}
.pagination-sm > li:last-child > a,
.pagination-sm > li:last-child > span {
  border-bottom-right-radius: 1px;
  border-top-right-radius: 1px;
}
.pager {
  padding-left: 0;
  margin: 18px 0;
  list-style: none;
  text-align: center;
}
.pager li {
  display: inline;
}
.pager li > a,
.pager li > span {
  display: inline-block;
  padding: 5px 14px;
  background-color: #fff;
  border: 1px solid #ddd;
  border-radius: 15px;
}
.pager li > a:hover,
.pager li > a:focus {
  text-decoration: none;
  background-color: #eeeeee;
}
.pager .next > a,
.pager .next > span {
  float: right;
}
.pager .previous > a,
.pager .previous > span {
  float: left;
}
.pager .disabled > a,
.pager .disabled > a:hover,
.pager .disabled > a:focus,
.pager .disabled > span {
  color: #777777;
  background-color: #fff;
  cursor: not-allowed;
}
.label {
  display: inline;
  padding: .2em .6em .3em;
  font-size: 75%;
  font-weight: bold;
  line-height: 1;
  color: #fff;
  text-align: center;
  white-space: nowrap;
  vertical-align: baseline;
  border-radius: .25em;
}
a.label:hover,
a.label:focus {
  color: #fff;
  text-decoration: none;
  cursor: pointer;
}
.label:empty {
  display: none;
}
.btn .label {
  position: relative;
  top: -1px;
}
.label-default {
  background-color: #777777;
}
.label-default[href]:hover,
.label-default[href]:focus {
  background-color: #5e5e5e;
}
.label-primary {
  background-color: #337ab7;
}
.label-primary[href]:hover,
.label-primary[href]:focus {
  background-color: #286090;
}
.label-success {
  background-color: #5cb85c;
}
.label-success[href]:hover,
.label-success[href]:focus {
  background-color: #449d44;
}
.label-info {
  background-color: #5bc0de;
}
.label-info[href]:hover,
.label-info[href]:focus {
  background-color: #31b0d5;
}
.label-warning {
  background-color: #f0ad4e;
}
.label-warning[href]:hover,
.label-warning[href]:focus {
  background-color: #ec971f;
}
.label-danger {
  background-color: #d9534f;
}
.label-danger[href]:hover,
.label-danger[href]:focus {
  background-color: #c9302c;
}
.badge {
  display: inline-block;
  min-width: 10px;
  padding: 3px 7px;
  font-size: 12px;
  font-weight: bold;
  color: #fff;
  line-height: 1;
  vertical-align: middle;
  white-space: nowrap;
  text-align: center;
  background-color: #777777;
  border-radius: 10px;
}
.badge:empty {
  display: none;
}
.btn .badge {
  position: relative;
  top: -1px;
}
.btn-xs .badge,
.btn-group-xs > .btn .badge {
  top: 0;
  padding: 1px 5px;
}
a.badge:hover,
a.badge:focus {
  color: #fff;
  text-decoration: none;
  cursor: pointer;
}
.list-group-item.active > .badge,
.nav-pills > .active > a > .badge {
  color: #337ab7;
  background-color: #fff;
}
.list-group-item > .badge {
  float: right;
}
.list-group-item > .badge + .badge {
  margin-right: 5px;
}
.nav-pills > li > a > .badge {
  margin-left: 3px;
}
.jumbotron {
  padding-top: 30px;
  padding-bottom: 30px;
  margin-bottom: 30px;
  color: inherit;
  background-color: #eeeeee;
}
.jumbotron h1,
.jumbotron .h1 {
  color: inherit;
}
.jumbotron p {
  margin-bottom: 15px;
  font-size: 20px;
  font-weight: 200;
}
.jumbotron > hr {
  border-top-color: #d5d5d5;
}
.container .jumbotron,
.container-fluid .jumbotron {
  border-radius: 3px;
  padding-left: 0px;
  padding-right: 0px;
}
.jumbotron .container {
  max-width: 100%;
}
@media screen and (min-width: 768px) {
  .jumbotron {
    padding-top: 48px;
    padding-bottom: 48px;
  }
  .container .jumbotron,
  .container-fluid .jumbotron {
    padding-left: 60px;
    padding-right: 60px;
  }
  .jumbotron h1,
  .jumbotron .h1 {
    font-size: 59px;
  }
}
.thumbnail {
  display: block;
  padding: 4px;
  margin-bottom: 18px;
  line-height: 1.42857143;
  background-color: #fff;
  border: 1px solid #ddd;
  border-radius: 2px;
  -webkit-transition: border 0.2s ease-in-out;
  -o-transition: border 0.2s ease-in-out;
  transition: border 0.2s ease-in-out;
}
.thumbnail > img,
.thumbnail a > img {
  margin-left: auto;
  margin-right: auto;
}
a.thumbnail:hover,
a.thumbnail:focus,
a.thumbnail.active {
  border-color: #337ab7;
}
.thumbnail .caption {
  padding: 9px;
  color: #000;
}
.alert {
  padding: 15px;
  margin-bottom: 18px;
  border: 1px solid transparent;
  border-radius: 2px;
}
.alert h4 {
  margin-top: 0;
  color: inherit;
}
.alert .alert-link {
  font-weight: bold;
}
.alert > p,
.alert > ul {
  margin-bottom: 0;
}
.alert > p + p {
  margin-top: 5px;
}
.alert-dismissable,
.alert-dismissible {
  padding-right: 35px;
}
.alert-dismissable .close,
.alert-dismissible .close {
  position: relative;
  top: -2px;
  right: -21px;
  color: inherit;
}
.alert-success {
  background-color: #dff0d8;
  border-color: #d6e9c6;
  color: #3c763d;
}
.alert-success hr {
  border-top-color: #c9e2b3;
}
.alert-success .alert-link {
  color: #2b542c;
}
.alert-info {
  background-color: #d9edf7;
  border-color: #bce8f1;
  color: #31708f;
}
.alert-info hr {
  border-top-color: #a6e1ec;
}
.alert-info .alert-link {
  color: #245269;
}
.alert-warning {
  background-color: #fcf8e3;
  border-color: #faebcc;
  color: #8a6d3b;
}
.alert-warning hr {
  border-top-color: #f7e1b5;
}
.alert-warning .alert-link {
  color: #66512c;
}
.alert-danger {
  background-color: #f2dede;
  border-color: #ebccd1;
  color: #a94442;
}
.alert-danger hr {
  border-top-color: #e4b9c0;
}
.alert-danger .alert-link {
  color: #843534;
}
@-webkit-keyframes progress-bar-stripes {
  from {
    background-position: 40px 0;
  }
  to {
    background-position: 0 0;
  }
}
@keyframes progress-bar-stripes {
  from {
    background-position: 40px 0;
  }
  to {
    background-position: 0 0;
  }
}
.progress {
  overflow: hidden;
  height: 18px;
  margin-bottom: 18px;
  background-color: #f5f5f5;
  border-radius: 2px;
  -webkit-box-shadow: inset 0 1px 2px rgba(0, 0, 0, 0.1);
  box-shadow: inset 0 1px 2px rgba(0, 0, 0, 0.1);
}
.progress-bar {
  float: left;
  width: 0%;
  height: 100%;
  font-size: 12px;
  line-height: 18px;
  color: #fff;
  text-align: center;
  background-color: #337ab7;
  -webkit-box-shadow: inset 0 -1px 0 rgba(0, 0, 0, 0.15);
  box-shadow: inset 0 -1px 0 rgba(0, 0, 0, 0.15);
  -webkit-transition: width 0.6s ease;
  -o-transition: width 0.6s ease;
  transition: width 0.6s ease;
}
.progress-striped .progress-bar,
.progress-bar-striped {
  background-image: -webkit-linear-gradient(45deg, rgba(255, 255, 255, 0.15) 25%, transparent 25%, transparent 50%, rgba(255, 255, 255, 0.15) 50%, rgba(255, 255, 255, 0.15) 75%, transparent 75%, transparent);
  background-image: -o-linear-gradient(45deg, rgba(255, 255, 255, 0.15) 25%, transparent 25%, transparent 50%, rgba(255, 255, 255, 0.15) 50%, rgba(255, 255, 255, 0.15) 75%, transparent 75%, transparent);
  background-image: linear-gradient(45deg, rgba(255, 255, 255, 0.15) 25%, transparent 25%, transparent 50%, rgba(255, 255, 255, 0.15) 50%, rgba(255, 255, 255, 0.15) 75%, transparent 75%, transparent);
  background-size: 40px 40px;
}
.progress.active .progress-bar,
.progress-bar.active {
  -webkit-animation: progress-bar-stripes 2s linear infinite;
  -o-animation: progress-bar-stripes 2s linear infinite;
  animation: progress-bar-stripes 2s linear infinite;
}
.progress-bar-success {
  background-color: #5cb85c;
}
.progress-striped .progress-bar-success {
  background-image: -webkit-linear-gradient(45deg, rgba(255, 255, 255, 0.15) 25%, transparent 25%, transparent 50%, rgba(255, 255, 255, 0.15) 50%, rgba(255, 255, 255, 0.15) 75%, transparent 75%, transparent);
  background-image: -o-linear-gradient(45deg, rgba(255, 255, 255, 0.15) 25%, transparent 25%, transparent 50%, rgba(255, 255, 255, 0.15) 50%, rgba(255, 255, 255, 0.15) 75%, transparent 75%, transparent);
  background-image: linear-gradient(45deg, rgba(255, 255, 255, 0.15) 25%, transparent 25%, transparent 50%, rgba(255, 255, 255, 0.15) 50%, rgba(255, 255, 255, 0.15) 75%, transparent 75%, transparent);
}
.progress-bar-info {
  background-color: #5bc0de;
}
.progress-striped .progress-bar-info {
  background-image: -webkit-linear-gradient(45deg, rgba(255, 255, 255, 0.15) 25%, transparent 25%, transparent 50%, rgba(255, 255, 255, 0.15) 50%, rgba(255, 255, 255, 0.15) 75%, transparent 75%, transparent);
  background-image: -o-linear-gradient(45deg, rgba(255, 255, 255, 0.15) 25%, transparent 25%, transparent 50%, rgba(255, 255, 255, 0.15) 50%, rgba(255, 255, 255, 0.15) 75%, transparent 75%, transparent);
  background-image: linear-gradient(45deg, rgba(255, 255, 255, 0.15) 25%, transparent 25%, transparent 50%, rgba(255, 255, 255, 0.15) 50%, rgba(255, 255, 255, 0.15) 75%, transparent 75%, transparent);
}
.progress-bar-warning {
  background-color: #f0ad4e;
}
.progress-striped .progress-bar-warning {
  background-image: -webkit-linear-gradient(45deg, rgba(255, 255, 255, 0.15) 25%, transparent 25%, transparent 50%, rgba(255, 255, 255, 0.15) 50%, rgba(255, 255, 255, 0.15) 75%, transparent 75%, transparent);
  background-image: -o-linear-gradient(45deg, rgba(255, 255, 255, 0.15) 25%, transparent 25%, transparent 50%, rgba(255, 255, 255, 0.15) 50%, rgba(255, 255, 255, 0.15) 75%, transparent 75%, transparent);
  background-image: linear-gradient(45deg, rgba(255, 255, 255, 0.15) 25%, transparent 25%, transparent 50%, rgba(255, 255, 255, 0.15) 50%, rgba(255, 255, 255, 0.15) 75%, transparent 75%, transparent);
}
.progress-bar-danger {
  background-color: #d9534f;
}
.progress-striped .progress-bar-danger {
  background-image: -webkit-linear-gradient(45deg, rgba(255, 255, 255, 0.15) 25%, transparent 25%, transparent 50%, rgba(255, 255, 255, 0.15) 50%, rgba(255, 255, 255, 0.15) 75%, transparent 75%, transparent);
  background-image: -o-linear-gradient(45deg, rgba(255, 255, 255, 0.15) 25%, transparent 25%, transparent 50%, rgba(255, 255, 255, 0.15) 50%, rgba(255, 255, 255, 0.15) 75%, transparent 75%, transparent);
  background-image: linear-gradient(45deg, rgba(255, 255, 255, 0.15) 25%, transparent 25%, transparent 50%, rgba(255, 255, 255, 0.15) 50%, rgba(255, 255, 255, 0.15) 75%, transparent 75%, transparent);
}
.media {
  margin-top: 15px;
}
.media:first-child {
  margin-top: 0;
}
.media,
.media-body {
  zoom: 1;
  overflow: hidden;
}
.media-body {
  width: 10000px;
}
.media-object {
  display: block;
}
.media-object.img-thumbnail {
  max-width: none;
}
.media-right,
.media > .pull-right {
  padding-left: 10px;
}
.media-left,
.media > .pull-left {
  padding-right: 10px;
}
.media-left,
.media-right,
.media-body {
  display: table-cell;
  vertical-align: top;
}
.media-middle {
  vertical-align: middle;
}
.media-bottom {
  vertical-align: bottom;
}
.media-heading {
  margin-top: 0;
  margin-bottom: 5px;
}
.media-list {
  padding-left: 0;
  list-style: none;
}
.list-group {
  margin-bottom: 20px;
  padding-left: 0;
}
.list-group-item {
  position: relative;
  display: block;
  padding: 10px 15px;
  margin-bottom: -1px;
  background-color: #fff;
  border: 1px solid #ddd;
}
.list-group-item:first-child {
  border-top-right-radius: 2px;
  border-top-left-radius: 2px;
}
.list-group-item:last-child {
  margin-bottom: 0;
  border-bottom-right-radius: 2px;
  border-bottom-left-radius: 2px;
}
a.list-group-item,
button.list-group-item {
  color: #555;
}
a.list-group-item .list-group-item-heading,
button.list-group-item .list-group-item-heading {
  color: #333;
}
a.list-group-item:hover,
button.list-group-item:hover,
a.list-group-item:focus,
button.list-group-item:focus {
  text-decoration: none;
  color: #555;
  background-color: #f5f5f5;
}
button.list-group-item {
  width: 100%;
  text-align: left;
}
.list-group-item.disabled,
.list-group-item.disabled:hover,
.list-group-item.disabled:focus {
  background-color: #eeeeee;
  color: #777777;
  cursor: not-allowed;
}
.list-group-item.disabled .list-group-item-heading,
.list-group-item.disabled:hover .list-group-item-heading,
.list-group-item.disabled:focus .list-group-item-heading {
  color: inherit;
}
.list-group-item.disabled .list-group-item-text,
.list-group-item.disabled:hover .list-group-item-text,
.list-group-item.disabled:focus .list-group-item-text {
  color: #777777;
}
.list-group-item.active,
.list-group-item.active:hover,
.list-group-item.active:focus {
  z-index: 2;
  color: #fff;
  background-color: #337ab7;
  border-color: #337ab7;
}
.list-group-item.active .list-group-item-heading,
.list-group-item.active:hover .list-group-item-heading,
.list-group-item.active:focus .list-group-item-heading,
.list-group-item.active .list-group-item-heading > small,
.list-group-item.active:hover .list-group-item-heading > small,
.list-group-item.active:focus .list-group-item-heading > small,
.list-group-item.active .list-group-item-heading > .small,
.list-group-item.active:hover .list-group-item-heading > .small,
.list-group-item.active:focus .list-group-item-heading > .small {
  color: inherit;
}
.list-group-item.active .list-group-item-text,
.list-group-item.active:hover .list-group-item-text,
.list-group-item.active:focus .list-group-item-text {
  color: #c7ddef;
}
.list-group-item-success {
  color: #3c763d;
  background-color: #dff0d8;
}
a.list-group-item-success,
button.list-group-item-success {
  color: #3c763d;
}
a.list-group-item-success .list-group-item-heading,
button.list-group-item-success .list-group-item-heading {
  color: inherit;
}
a.list-group-item-success:hover,
button.list-group-item-success:hover,
a.list-group-item-success:focus,
button.list-group-item-success:focus {
  color: #3c763d;
  background-color: #d0e9c6;
}
a.list-group-item-success.active,
button.list-group-item-success.active,
a.list-group-item-success.active:hover,
button.list-group-item-success.active:hover,
a.list-group-item-success.active:focus,
button.list-group-item-success.active:focus {
  color: #fff;
  background-color: #3c763d;
  border-color: #3c763d;
}
.list-group-item-info {
  color: #31708f;
  background-color: #d9edf7;
}
a.list-group-item-info,
button.list-group-item-info {
  color: #31708f;
}
a.list-group-item-info .list-group-item-heading,
button.list-group-item-info .list-group-item-heading {
  color: inherit;
}
a.list-group-item-info:hover,
button.list-group-item-info:hover,
a.list-group-item-info:focus,
button.list-group-item-info:focus {
  color: #31708f;
  background-color: #c4e3f3;
}
a.list-group-item-info.active,
button.list-group-item-info.active,
a.list-group-item-info.active:hover,
button.list-group-item-info.active:hover,
a.list-group-item-info.active:focus,
button.list-group-item-info.active:focus {
  color: #fff;
  background-color: #31708f;
  border-color: #31708f;
}
.list-group-item-warning {
  color: #8a6d3b;
  background-color: #fcf8e3;
}
a.list-group-item-warning,
button.list-group-item-warning {
  color: #8a6d3b;
}
a.list-group-item-warning .list-group-item-heading,
button.list-group-item-warning .list-group-item-heading {
  color: inherit;
}
a.list-group-item-warning:hover,
button.list-group-item-warning:hover,
a.list-group-item-warning:focus,
button.list-group-item-warning:focus {
  color: #8a6d3b;
  background-color: #faf2cc;
}
a.list-group-item-warning.active,
button.list-group-item-warning.active,
a.list-group-item-warning.active:hover,
button.list-group-item-warning.active:hover,
a.list-group-item-warning.active:focus,
button.list-group-item-warning.active:focus {
  color: #fff;
  background-color: #8a6d3b;
  border-color: #8a6d3b;
}
.list-group-item-danger {
  color: #a94442;
  background-color: #f2dede;
}
a.list-group-item-danger,
button.list-group-item-danger {
  color: #a94442;
}
a.list-group-item-danger .list-group-item-heading,
button.list-group-item-danger .list-group-item-heading {
  color: inherit;
}
a.list-group-item-danger:hover,
button.list-group-item-danger:hover,
a.list-group-item-danger:focus,
button.list-group-item-danger:focus {
  color: #a94442;
  background-color: #ebcccc;
}
a.list-group-item-danger.active,
button.list-group-item-danger.active,
a.list-group-item-danger.active:hover,
button.list-group-item-danger.active:hover,
a.list-group-item-danger.active:focus,
button.list-group-item-danger.active:focus {
  color: #fff;
  background-color: #a94442;
  border-color: #a94442;
}
.list-group-item-heading {
  margin-top: 0;
  margin-bottom: 5px;
}
.list-group-item-text {
  margin-bottom: 0;
  line-height: 1.3;
}
.panel {
  margin-bottom: 18px;
  background-color: #fff;
  border: 1px solid transparent;
  border-radius: 2px;
  -webkit-box-shadow: 0 1px 1px rgba(0, 0, 0, 0.05);
  box-shadow: 0 1px 1px rgba(0, 0, 0, 0.05);
}
.panel-body {
  padding: 15px;
}
.panel-heading {
  padding: 10px 15px;
  border-bottom: 1px solid transparent;
  border-top-right-radius: 1px;
  border-top-left-radius: 1px;
}
.panel-heading > .dropdown .dropdown-toggle {
  color: inherit;
}
.panel-title {
  margin-top: 0;
  margin-bottom: 0;
  font-size: 15px;
  color: inherit;
}
.panel-title > a,
.panel-title > small,
.panel-title > .small,
.panel-title > small > a,
.panel-title > .small > a {
  color: inherit;
}
.panel-footer {
  padding: 10px 15px;
  background-color: #f5f5f5;
  border-top: 1px solid #ddd;
  border-bottom-right-radius: 1px;
  border-bottom-left-radius: 1px;
}
.panel > .list-group,
.panel > .panel-collapse > .list-group {
  margin-bottom: 0;
}
.panel > .list-group .list-group-item,
.panel > .panel-collapse > .list-group .list-group-item {
  border-width: 1px 0;
  border-radius: 0;
}
.panel > .list-group:first-child .list-group-item:first-child,
.panel > .panel-collapse > .list-group:first-child .list-group-item:first-child {
  border-top: 0;
  border-top-right-radius: 1px;
  border-top-left-radius: 1px;
}
.panel > .list-group:last-child .list-group-item:last-child,
.panel > .panel-collapse > .list-group:last-child .list-group-item:last-child {
  border-bottom: 0;
  border-bottom-right-radius: 1px;
  border-bottom-left-radius: 1px;
}
.panel > .panel-heading + .panel-collapse > .list-group .list-group-item:first-child {
  border-top-right-radius: 0;
  border-top-left-radius: 0;
}
.panel-heading + .list-group .list-group-item:first-child {
  border-top-width: 0;
}
.list-group + .panel-footer {
  border-top-width: 0;
}
.panel > .table,
.panel > .table-responsive > .table,
.panel > .panel-collapse > .table {
  margin-bottom: 0;
}
.panel > .table caption,
.panel > .table-responsive > .table caption,
.panel > .panel-collapse > .table caption {
  padding-left: 15px;
  padding-right: 15px;
}
.panel > .table:first-child,
.panel > .table-responsive:first-child > .table:first-child {
  border-top-right-radius: 1px;
  border-top-left-radius: 1px;
}
.panel > .table:first-child > thead:first-child > tr:first-child,
.panel > .table-responsive:first-child > .table:first-child > thead:first-child > tr:first-child,
.panel > .table:first-child > tbody:first-child > tr:first-child,
.panel > .table-responsive:first-child > .table:first-child > tbody:first-child > tr:first-child {
  border-top-left-radius: 1px;
  border-top-right-radius: 1px;
}
.panel > .table:first-child > thead:first-child > tr:first-child td:first-child,
.panel > .table-responsive:first-child > .table:first-child > thead:first-child > tr:first-child td:first-child,
.panel > .table:first-child > tbody:first-child > tr:first-child td:first-child,
.panel > .table-responsive:first-child > .table:first-child > tbody:first-child > tr:first-child td:first-child,
.panel > .table:first-child > thead:first-child > tr:first-child th:first-child,
.panel > .table-responsive:first-child > .table:first-child > thead:first-child > tr:first-child th:first-child,
.panel > .table:first-child > tbody:first-child > tr:first-child th:first-child,
.panel > .table-responsive:first-child > .table:first-child > tbody:first-child > tr:first-child th:first-child {
  border-top-left-radius: 1px;
}
.panel > .table:first-child > thead:first-child > tr:first-child td:last-child,
.panel > .table-responsive:first-child > .table:first-child > thead:first-child > tr:first-child td:last-child,
.panel > .table:first-child > tbody:first-child > tr:first-child td:last-child,
.panel > .table-responsive:first-child > .table:first-child > tbody:first-child > tr:first-child td:last-child,
.panel > .table:first-child > thead:first-child > tr:first-child th:last-child,
.panel > .table-responsive:first-child > .table:first-child > thead:first-child > tr:first-child th:last-child,
.panel > .table:first-child > tbody:first-child > tr:first-child th:last-child,
.panel > .table-responsive:first-child > .table:first-child > tbody:first-child > tr:first-child th:last-child {
  border-top-right-radius: 1px;
}
.panel > .table:last-child,
.panel > .table-responsive:last-child > .table:last-child {
  border-bottom-right-radius: 1px;
  border-bottom-left-radius: 1px;
}
.panel > .table:last-child > tbody:last-child > tr:last-child,
.panel > .table-responsive:last-child > .table:last-child > tbody:last-child > tr:last-child,
.panel > .table:last-child > tfoot:last-child > tr:last-child,
.panel > .table-responsive:last-child > .table:last-child > tfoot:last-child > tr:last-child {
  border-bottom-left-radius: 1px;
  border-bottom-right-radius: 1px;
}
.panel > .table:last-child > tbody:last-child > tr:last-child td:first-child,
.panel > .table-responsive:last-child > .table:last-child > tbody:last-child > tr:last-child td:first-child,
.panel > .table:last-child > tfoot:last-child > tr:last-child td:first-child,
.panel > .table-responsive:last-child > .table:last-child > tfoot:last-child > tr:last-child td:first-child,
.panel > .table:last-child > tbody:last-child > tr:last-child th:first-child,
.panel > .table-responsive:last-child > .table:last-child > tbody:last-child > tr:last-child th:first-child,
.panel > .table:last-child > tfoot:last-child > tr:last-child th:first-child,
.panel > .table-responsive:last-child > .table:last-child > tfoot:last-child > tr:last-child th:first-child {
  border-bottom-left-radius: 1px;
}
.panel > .table:last-child > tbody:last-child > tr:last-child td:last-child,
.panel > .table-responsive:last-child > .table:last-child > tbody:last-child > tr:last-child td:last-child,
.panel > .table:last-child > tfoot:last-child > tr:last-child td:last-child,
.panel > .table-responsive:last-child > .table:last-child > tfoot:last-child > tr:last-child td:last-child,
.panel > .table:last-child > tbody:last-child > tr:last-child th:last-child,
.panel > .table-responsive:last-child > .table:last-child > tbody:last-child > tr:last-child th:last-child,
.panel > .table:last-child > tfoot:last-child > tr:last-child th:last-child,
.panel > .table-responsive:last-child > .table:last-child > tfoot:last-child > tr:last-child th:last-child {
  border-bottom-right-radius: 1px;
}
.panel > .panel-body + .table,
.panel > .panel-body + .table-responsive,
.panel > .table + .panel-body,
.panel > .table-responsive + .panel-body {
  border-top: 1px solid #ddd;
}
.panel > .table > tbody:first-child > tr:first-child th,
.panel > .table > tbody:first-child > tr:first-child td {
  border-top: 0;
}
.panel > .table-bordered,
.panel > .table-responsive > .table-bordered {
  border: 0;
}
.panel > .table-bordered > thead > tr > th:first-child,
.panel > .table-responsive > .table-bordered > thead > tr > th:first-child,
.panel > .table-bordered > tbody > tr > th:first-child,
.panel > .table-responsive > .table-bordered > tbody > tr > th:first-child,
.panel > .table-bordered > tfoot > tr > th:first-child,
.panel > .table-responsive > .table-bordered > tfoot > tr > th:first-child,
.panel > .table-bordered > thead > tr > td:first-child,
.panel > .table-responsive > .table-bordered > thead > tr > td:first-child,
.panel > .table-bordered > tbody > tr > td:first-child,
.panel > .table-responsive > .table-bordered > tbody > tr > td:first-child,
.panel > .table-bordered > tfoot > tr > td:first-child,
.panel > .table-responsive > .table-bordered > tfoot > tr > td:first-child {
  border-left: 0;
}
.panel > .table-bordered > thead > tr > th:last-child,
.panel > .table-responsive > .table-bordered > thead > tr > th:last-child,
.panel > .table-bordered > tbody > tr > th:last-child,
.panel > .table-responsive > .table-bordered > tbody > tr > th:last-child,
.panel > .table-bordered > tfoot > tr > th:last-child,
.panel > .table-responsive > .table-bordered > tfoot > tr > th:last-child,
.panel > .table-bordered > thead > tr > td:last-child,
.panel > .table-responsive > .table-bordered > thead > tr > td:last-child,
.panel > .table-bordered > tbody > tr > td:last-child,
.panel > .table-responsive > .table-bordered > tbody > tr > td:last-child,
.panel > .table-bordered > tfoot > tr > td:last-child,
.panel > .table-responsive > .table-bordered > tfoot > tr > td:last-child {
  border-right: 0;
}
.panel > .table-bordered > thead > tr:first-child > td,
.panel > .table-responsive > .table-bordered > thead > tr:first-child > td,
.panel > .table-bordered > tbody > tr:first-child > td,
.panel > .table-responsive > .table-bordered > tbody > tr:first-child > td,
.panel > .table-bordered > thead > tr:first-child > th,
.panel > .table-responsive > .table-bordered > thead > tr:first-child > th,
.panel > .table-bordered > tbody > tr:first-child > th,
.panel > .table-responsive > .table-bordered > tbody > tr:first-child > th {
  border-bottom: 0;
}
.panel > .table-bordered > tbody > tr:last-child > td,
.panel > .table-responsive > .table-bordered > tbody > tr:last-child > td,
.panel > .table-bordered > tfoot > tr:last-child > td,
.panel > .table-responsive > .table-bordered > tfoot > tr:last-child > td,
.panel > .table-bordered > tbody > tr:last-child > th,
.panel > .table-responsive > .table-bordered > tbody > tr:last-child > th,
.panel > .table-bordered > tfoot > tr:last-child > th,
.panel > .table-responsive > .table-bordered > tfoot > tr:last-child > th {
  border-bottom: 0;
}
.panel > .table-responsive {
  border: 0;
  margin-bottom: 0;
}
.panel-group {
  margin-bottom: 18px;
}
.panel-group .panel {
  margin-bottom: 0;
  border-radius: 2px;
}
.panel-group .panel + .panel {
  margin-top: 5px;
}
.panel-group .panel-heading {
  border-bottom: 0;
}
.panel-group .panel-heading + .panel-collapse > .panel-body,
.panel-group .panel-heading + .panel-collapse > .list-group {
  border-top: 1px solid #ddd;
}
.panel-group .panel-footer {
  border-top: 0;
}
.panel-group .panel-footer + .panel-collapse .panel-body {
  border-bottom: 1px solid #ddd;
}
.panel-default {
  border-color: #ddd;
}
.panel-default > .panel-heading {
  color: #333333;
  background-color: #f5f5f5;
  border-color: #ddd;
}
.panel-default > .panel-heading + .panel-collapse > .panel-body {
  border-top-color: #ddd;
}
.panel-default > .panel-heading .badge {
  color: #f5f5f5;
  background-color: #333333;
}
.panel-default > .panel-footer + .panel-collapse > .panel-body {
  border-bottom-color: #ddd;
}
.panel-primary {
  border-color: #337ab7;
}
.panel-primary > .panel-heading {
  color: #fff;
  background-color: #337ab7;
  border-color: #337ab7;
}
.panel-primary > .panel-heading + .panel-collapse > .panel-body {
  border-top-color: #337ab7;
}
.panel-primary > .panel-heading .badge {
  color: #337ab7;
  background-color: #fff;
}
.panel-primary > .panel-footer + .panel-collapse > .panel-body {
  border-bottom-color: #337ab7;
}
.panel-success {
  border-color: #d6e9c6;
}
.panel-success > .panel-heading {
  color: #3c763d;
  background-color: #dff0d8;
  border-color: #d6e9c6;
}
.panel-success > .panel-heading + .panel-collapse > .panel-body {
  border-top-color: #d6e9c6;
}
.panel-success > .panel-heading .badge {
  color: #dff0d8;
  background-color: #3c763d;
}
.panel-success > .panel-footer + .panel-collapse > .panel-body {
  border-bottom-color: #d6e9c6;
}
.panel-info {
  border-color: #bce8f1;
}
.panel-info > .panel-heading {
  color: #31708f;
  background-color: #d9edf7;
  border-color: #bce8f1;
}
.panel-info > .panel-heading + .panel-collapse > .panel-body {
  border-top-color: #bce8f1;
}
.panel-info > .panel-heading .badge {
  color: #d9edf7;
  background-color: #31708f;
}
.panel-info > .panel-footer + .panel-collapse > .panel-body {
  border-bottom-color: #bce8f1;
}
.panel-warning {
  border-color: #faebcc;
}
.panel-warning > .panel-heading {
  color: #8a6d3b;
  background-color: #fcf8e3;
  border-color: #faebcc;
}
.panel-warning > .panel-heading + .panel-collapse > .panel-body {
  border-top-color: #faebcc;
}
.panel-warning > .panel-heading .badge {
  color: #fcf8e3;
  background-color: #8a6d3b;
}
.panel-warning > .panel-footer + .panel-collapse > .panel-body {
  border-bottom-color: #faebcc;
}
.panel-danger {
  border-color: #ebccd1;
}
.panel-danger > .panel-heading {
  color: #a94442;
  background-color: #f2dede;
  border-color: #ebccd1;
}
.panel-danger > .panel-heading + .panel-collapse > .panel-body {
  border-top-color: #ebccd1;
}
.panel-danger > .panel-heading .badge {
  color: #f2dede;
  background-color: #a94442;
}
.panel-danger > .panel-footer + .panel-collapse > .panel-body {
  border-bottom-color: #ebccd1;
}
.embed-responsive {
  position: relative;
  display: block;
  height: 0;
  padding: 0;
  overflow: hidden;
}
.embed-responsive .embed-responsive-item,
.embed-responsive iframe,
.embed-responsive embed,
.embed-responsive object,
.embed-responsive video {
  position: absolute;
  top: 0;
  left: 0;
  bottom: 0;
  height: 100%;
  width: 100%;
  border: 0;
}
.embed-responsive-16by9 {
  padding-bottom: 56.25%;
}
.embed-responsive-4by3 {
  padding-bottom: 75%;
}
.well {
  min-height: 20px;
  padding: 19px;
  margin-bottom: 20px;
  background-color: #f5f5f5;
  border: 1px solid #e3e3e3;
  border-radius: 2px;
  -webkit-box-shadow: inset 0 1px 1px rgba(0, 0, 0, 0.05);
  box-shadow: inset 0 1px 1px rgba(0, 0, 0, 0.05);
}
.well blockquote {
  border-color: #ddd;
  border-color: rgba(0, 0, 0, 0.15);
}
.well-lg {
  padding: 24px;
  border-radius: 3px;
}
.well-sm {
  padding: 9px;
  border-radius: 1px;
}
.close {
  float: right;
  font-size: 19.5px;
  font-weight: bold;
  line-height: 1;
  color: #000;
  text-shadow: 0 1px 0 #fff;
  opacity: 0.2;
  filter: alpha(opacity=20);
}
.close:hover,
.close:focus {
  color: #000;
  text-decoration: none;
  cursor: pointer;
  opacity: 0.5;
  filter: alpha(opacity=50);
}
button.close {
  padding: 0;
  cursor: pointer;
  background: transparent;
  border: 0;
  -webkit-appearance: none;
}
.modal-open {
  overflow: hidden;
}
.modal {
  display: none;
  overflow: hidden;
  position: fixed;
  top: 0;
  right: 0;
  bottom: 0;
  left: 0;
  z-index: 1050;
  -webkit-overflow-scrolling: touch;
  outline: 0;
}
.modal.fade .modal-dialog {
  -webkit-transform: translate(0, -25%);
  -ms-transform: translate(0, -25%);
  -o-transform: translate(0, -25%);
  transform: translate(0, -25%);
  -webkit-transition: -webkit-transform 0.3s ease-out;
  -moz-transition: -moz-transform 0.3s ease-out;
  -o-transition: -o-transform 0.3s ease-out;
  transition: transform 0.3s ease-out;
}
.modal.in .modal-dialog {
  -webkit-transform: translate(0, 0);
  -ms-transform: translate(0, 0);
  -o-transform: translate(0, 0);
  transform: translate(0, 0);
}
.modal-open .modal {
  overflow-x: hidden;
  overflow-y: auto;
}
.modal-dialog {
  position: relative;
  width: auto;
  margin: 10px;
}
.modal-content {
  position: relative;
  background-color: #fff;
  border: 1px solid #999;
  border: 1px solid rgba(0, 0, 0, 0.2);
  border-radius: 3px;
  -webkit-box-shadow: 0 3px 9px rgba(0, 0, 0, 0.5);
  box-shadow: 0 3px 9px rgba(0, 0, 0, 0.5);
  background-clip: padding-box;
  outline: 0;
}
.modal-backdrop {
  position: fixed;
  top: 0;
  right: 0;
  bottom: 0;
  left: 0;
  z-index: 1040;
  background-color: #000;
}
.modal-backdrop.fade {
  opacity: 0;
  filter: alpha(opacity=0);
}
.modal-backdrop.in {
  opacity: 0.5;
  filter: alpha(opacity=50);
}
.modal-header {
  padding: 15px;
  border-bottom: 1px solid #e5e5e5;
}
.modal-header .close {
  margin-top: -2px;
}
.modal-title {
  margin: 0;
  line-height: 1.42857143;
}
.modal-body {
  position: relative;
  padding: 15px;
}
.modal-footer {
  padding: 15px;
  text-align: right;
  border-top: 1px solid #e5e5e5;
}
.modal-footer .btn + .btn {
  margin-left: 5px;
  margin-bottom: 0;
}
.modal-footer .btn-group .btn + .btn {
  margin-left: -1px;
}
.modal-footer .btn-block + .btn-block {
  margin-left: 0;
}
.modal-scrollbar-measure {
  position: absolute;
  top: -9999px;
  width: 50px;
  height: 50px;
  overflow: scroll;
}
@media (min-width: 768px) {
  .modal-dialog {
    width: 600px;
    margin: 30px auto;
  }
  .modal-content {
    -webkit-box-shadow: 0 5px 15px rgba(0, 0, 0, 0.5);
    box-shadow: 0 5px 15px rgba(0, 0, 0, 0.5);
  }
  .modal-sm {
    width: 300px;
  }
}
@media (min-width: 992px) {
  .modal-lg {
    width: 900px;
  }
}
.tooltip {
  position: absolute;
  z-index: 1070;
  display: block;
  font-family: "Helvetica Neue", Helvetica, Arial, sans-serif;
  font-style: normal;
  font-weight: normal;
  letter-spacing: normal;
  line-break: auto;
  line-height: 1.42857143;
  text-align: left;
  text-align: start;
  text-decoration: none;
  text-shadow: none;
  text-transform: none;
  white-space: normal;
  word-break: normal;
  word-spacing: normal;
  word-wrap: normal;
  font-size: 12px;
  opacity: 0;
  filter: alpha(opacity=0);
}
.tooltip.in {
  opacity: 0.9;
  filter: alpha(opacity=90);
}
.tooltip.top {
  margin-top: -3px;
  padding: 5px 0;
}
.tooltip.right {
  margin-left: 3px;
  padding: 0 5px;
}
.tooltip.bottom {
  margin-top: 3px;
  padding: 5px 0;
}
.tooltip.left {
  margin-left: -3px;
  padding: 0 5px;
}
.tooltip-inner {
  max-width: 200px;
  padding: 3px 8px;
  color: #fff;
  text-align: center;
  background-color: #000;
  border-radius: 2px;
}
.tooltip-arrow {
  position: absolute;
  width: 0;
  height: 0;
  border-color: transparent;
  border-style: solid;
}
.tooltip.top .tooltip-arrow {
  bottom: 0;
  left: 50%;
  margin-left: -5px;
  border-width: 5px 5px 0;
  border-top-color: #000;
}
.tooltip.top-left .tooltip-arrow {
  bottom: 0;
  right: 5px;
  margin-bottom: -5px;
  border-width: 5px 5px 0;
  border-top-color: #000;
}
.tooltip.top-right .tooltip-arrow {
  bottom: 0;
  left: 5px;
  margin-bottom: -5px;
  border-width: 5px 5px 0;
  border-top-color: #000;
}
.tooltip.right .tooltip-arrow {
  top: 50%;
  left: 0;
  margin-top: -5px;
  border-width: 5px 5px 5px 0;
  border-right-color: #000;
}
.tooltip.left .tooltip-arrow {
  top: 50%;
  right: 0;
  margin-top: -5px;
  border-width: 5px 0 5px 5px;
  border-left-color: #000;
}
.tooltip.bottom .tooltip-arrow {
  top: 0;
  left: 50%;
  margin-left: -5px;
  border-width: 0 5px 5px;
  border-bottom-color: #000;
}
.tooltip.bottom-left .tooltip-arrow {
  top: 0;
  right: 5px;
  margin-top: -5px;
  border-width: 0 5px 5px;
  border-bottom-color: #000;
}
.tooltip.bottom-right .tooltip-arrow {
  top: 0;
  left: 5px;
  margin-top: -5px;
  border-width: 0 5px 5px;
  border-bottom-color: #000;
}
.popover {
  position: absolute;
  top: 0;
  left: 0;
  z-index: 1060;
  display: none;
  max-width: 276px;
  padding: 1px;
  font-family: "Helvetica Neue", Helvetica, Arial, sans-serif;
  font-style: normal;
  font-weight: normal;
  letter-spacing: normal;
  line-break: auto;
  line-height: 1.42857143;
  text-align: left;
  text-align: start;
  text-decoration: none;
  text-shadow: none;
  text-transform: none;
  white-space: normal;
  word-break: normal;
  word-spacing: normal;
  word-wrap: normal;
  font-size: 13px;
  background-color: #fff;
  background-clip: padding-box;
  border: 1px solid #ccc;
  border: 1px solid rgba(0, 0, 0, 0.2);
  border-radius: 3px;
  -webkit-box-shadow: 0 5px 10px rgba(0, 0, 0, 0.2);
  box-shadow: 0 5px 10px rgba(0, 0, 0, 0.2);
}
.popover.top {
  margin-top: -10px;
}
.popover.right {
  margin-left: 10px;
}
.popover.bottom {
  margin-top: 10px;
}
.popover.left {
  margin-left: -10px;
}
.popover-title {
  margin: 0;
  padding: 8px 14px;
  font-size: 13px;
  background-color: #f7f7f7;
  border-bottom: 1px solid #ebebeb;
  border-radius: 2px 2px 0 0;
}
.popover-content {
  padding: 9px 14px;
}
.popover > .arrow,
.popover > .arrow:after {
  position: absolute;
  display: block;
  width: 0;
  height: 0;
  border-color: transparent;
  border-style: solid;
}
.popover > .arrow {
  border-width: 11px;
}
.popover > .arrow:after {
  border-width: 10px;
  content: "";
}
.popover.top > .arrow {
  left: 50%;
  margin-left: -11px;
  border-bottom-width: 0;
  border-top-color: #999999;
  border-top-color: rgba(0, 0, 0, 0.25);
  bottom: -11px;
}
.popover.top > .arrow:after {
  content: " ";
  bottom: 1px;
  margin-left: -10px;
  border-bottom-width: 0;
  border-top-color: #fff;
}
.popover.right > .arrow {
  top: 50%;
  left: -11px;
  margin-top: -11px;
  border-left-width: 0;
  border-right-color: #999999;
  border-right-color: rgba(0, 0, 0, 0.25);
}
.popover.right > .arrow:after {
  content: " ";
  left: 1px;
  bottom: -10px;
  border-left-width: 0;
  border-right-color: #fff;
}
.popover.bottom > .arrow {
  left: 50%;
  margin-left: -11px;
  border-top-width: 0;
  border-bottom-color: #999999;
  border-bottom-color: rgba(0, 0, 0, 0.25);
  top: -11px;
}
.popover.bottom > .arrow:after {
  content: " ";
  top: 1px;
  margin-left: -10px;
  border-top-width: 0;
  border-bottom-color: #fff;
}
.popover.left > .arrow {
  top: 50%;
  right: -11px;
  margin-top: -11px;
  border-right-width: 0;
  border-left-color: #999999;
  border-left-color: rgba(0, 0, 0, 0.25);
}
.popover.left > .arrow:after {
  content: " ";
  right: 1px;
  border-right-width: 0;
  border-left-color: #fff;
  bottom: -10px;
}
.carousel {
  position: relative;
}
.carousel-inner {
  position: relative;
  overflow: hidden;
  width: 100%;
}
.carousel-inner > .item {
  display: none;
  position: relative;
  -webkit-transition: 0.6s ease-in-out left;
  -o-transition: 0.6s ease-in-out left;
  transition: 0.6s ease-in-out left;
}
.carousel-inner > .item > img,
.carousel-inner > .item > a > img {
  line-height: 1;
}
@media all and (transform-3d), (-webkit-transform-3d) {
  .carousel-inner > .item {
    -webkit-transition: -webkit-transform 0.6s ease-in-out;
    -moz-transition: -moz-transform 0.6s ease-in-out;
    -o-transition: -o-transform 0.6s ease-in-out;
    transition: transform 0.6s ease-in-out;
    -webkit-backface-visibility: hidden;
    -moz-backface-visibility: hidden;
    backface-visibility: hidden;
    -webkit-perspective: 1000px;
    -moz-perspective: 1000px;
    perspective: 1000px;
  }
  .carousel-inner > .item.next,
  .carousel-inner > .item.active.right {
    -webkit-transform: translate3d(100%, 0, 0);
    transform: translate3d(100%, 0, 0);
    left: 0;
  }
  .carousel-inner > .item.prev,
  .carousel-inner > .item.active.left {
    -webkit-transform: translate3d(-100%, 0, 0);
    transform: translate3d(-100%, 0, 0);
    left: 0;
  }
  .carousel-inner > .item.next.left,
  .carousel-inner > .item.prev.right,
  .carousel-inner > .item.active {
    -webkit-transform: translate3d(0, 0, 0);
    transform: translate3d(0, 0, 0);
    left: 0;
  }
}
.carousel-inner > .active,
.carousel-inner > .next,
.carousel-inner > .prev {
  display: block;
}
.carousel-inner > .active {
  left: 0;
}
.carousel-inner > .next,
.carousel-inner > .prev {
  position: absolute;
  top: 0;
  width: 100%;
}
.carousel-inner > .next {
  left: 100%;
}
.carousel-inner > .prev {
  left: -100%;
}
.carousel-inner > .next.left,
.carousel-inner > .prev.right {
  left: 0;
}
.carousel-inner > .active.left {
  left: -100%;
}
.carousel-inner > .active.right {
  left: 100%;
}
.carousel-control {
  position: absolute;
  top: 0;
  left: 0;
  bottom: 0;
  width: 15%;
  opacity: 0.5;
  filter: alpha(opacity=50);
  font-size: 20px;
  color: #fff;
  text-align: center;
  text-shadow: 0 1px 2px rgba(0, 0, 0, 0.6);
  background-color: rgba(0, 0, 0, 0);
}
.carousel-control.left {
  background-image: -webkit-linear-gradient(left, rgba(0, 0, 0, 0.5) 0%, rgba(0, 0, 0, 0.0001) 100%);
  background-image: -o-linear-gradient(left, rgba(0, 0, 0, 0.5) 0%, rgba(0, 0, 0, 0.0001) 100%);
  background-image: linear-gradient(to right, rgba(0, 0, 0, 0.5) 0%, rgba(0, 0, 0, 0.0001) 100%);
  background-repeat: repeat-x;
  filter: progid:DXImageTransform.Microsoft.gradient(startColorstr='#80000000', endColorstr='#00000000', GradientType=1);
}
.carousel-control.right {
  left: auto;
  right: 0;
  background-image: -webkit-linear-gradient(left, rgba(0, 0, 0, 0.0001) 0%, rgba(0, 0, 0, 0.5) 100%);
  background-image: -o-linear-gradient(left, rgba(0, 0, 0, 0.0001) 0%, rgba(0, 0, 0, 0.5) 100%);
  background-image: linear-gradient(to right, rgba(0, 0, 0, 0.0001) 0%, rgba(0, 0, 0, 0.5) 100%);
  background-repeat: repeat-x;
  filter: progid:DXImageTransform.Microsoft.gradient(startColorstr='#00000000', endColorstr='#80000000', GradientType=1);
}
.carousel-control:hover,
.carousel-control:focus {
  outline: 0;
  color: #fff;
  text-decoration: none;
  opacity: 0.9;
  filter: alpha(opacity=90);
}
.carousel-control .icon-prev,
.carousel-control .icon-next,
.carousel-control .glyphicon-chevron-left,
.carousel-control .glyphicon-chevron-right {
  position: absolute;
  top: 50%;
  margin-top: -10px;
  z-index: 5;
  display: inline-block;
}
.carousel-control .icon-prev,
.carousel-control .glyphicon-chevron-left {
  left: 50%;
  margin-left: -10px;
}
.carousel-control .icon-next,
.carousel-control .glyphicon-chevron-right {
  right: 50%;
  margin-right: -10px;
}
.carousel-control .icon-prev,
.carousel-control .icon-next {
  width: 20px;
  height: 20px;
  line-height: 1;
  font-family: serif;
}
.carousel-control .icon-prev:before {
  content: '\2039';
}
.carousel-control .icon-next:before {
  content: '\203a';
}
.carousel-indicators {
  position: absolute;
  bottom: 10px;
  left: 50%;
  z-index: 15;
  width: 60%;
  margin-left: -30%;
  padding-left: 0;
  list-style: none;
  text-align: center;
}
.carousel-indicators li {
  display: inline-block;
  width: 10px;
  height: 10px;
  margin: 1px;
  text-indent: -999px;
  border: 1px solid #fff;
  border-radius: 10px;
  cursor: pointer;
  background-color: #000 \9;
  background-color: rgba(0, 0, 0, 0);
}
.carousel-indicators .active {
  margin: 0;
  width: 12px;
  height: 12px;
  background-color: #fff;
}
.carousel-caption {
  position: absolute;
  left: 15%;
  right: 15%;
  bottom: 20px;
  z-index: 10;
  padding-top: 20px;
  padding-bottom: 20px;
  color: #fff;
  text-align: center;
  text-shadow: 0 1px 2px rgba(0, 0, 0, 0.6);
}
.carousel-caption .btn {
  text-shadow: none;
}
@media screen and (min-width: 768px) {
  .carousel-control .glyphicon-chevron-left,
  .carousel-control .glyphicon-chevron-right,
  .carousel-control .icon-prev,
  .carousel-control .icon-next {
    width: 30px;
    height: 30px;
    margin-top: -10px;
    font-size: 30px;
  }
  .carousel-control .glyphicon-chevron-left,
  .carousel-control .icon-prev {
    margin-left: -10px;
  }
  .carousel-control .glyphicon-chevron-right,
  .carousel-control .icon-next {
    margin-right: -10px;
  }
  .carousel-caption {
    left: 20%;
    right: 20%;
    padding-bottom: 30px;
  }
  .carousel-indicators {
    bottom: 20px;
  }
}
.clearfix:before,
.clearfix:after,
.dl-horizontal dd:before,
.dl-horizontal dd:after,
.container:before,
.container:after,
.container-fluid:before,
.container-fluid:after,
.row:before,
.row:after,
.form-horizontal .form-group:before,
.form-horizontal .form-group:after,
.btn-toolbar:before,
.btn-toolbar:after,
.btn-group-vertical > .btn-group:before,
.btn-group-vertical > .btn-group:after,
.nav:before,
.nav:after,
.navbar:before,
.navbar:after,
.navbar-header:before,
.navbar-header:after,
.navbar-collapse:before,
.navbar-collapse:after,
.pager:before,
.pager:after,
.panel-body:before,
.panel-body:after,
.modal-header:before,
.modal-header:after,
.modal-footer:before,
.modal-footer:after,
.item_buttons:before,
.item_buttons:after {
  content: " ";
  display: table;
}
.clearfix:after,
.dl-horizontal dd:after,
.container:after,
.container-fluid:after,
.row:after,
.form-horizontal .form-group:after,
.btn-toolbar:after,
.btn-group-vertical > .btn-group:after,
.nav:after,
.navbar:after,
.navbar-header:after,
.navbar-collapse:after,
.pager:after,
.panel-body:after,
.modal-header:after,
.modal-footer:after,
.item_buttons:after {
  clear: both;
}
.center-block {
  display: block;
  margin-left: auto;
  margin-right: auto;
}
.pull-right {
  float: right !important;
}
.pull-left {
  float: left !important;
}
.hide {
  display: none !important;
}
.show {
  display: block !important;
}
.invisible {
  visibility: hidden;
}
.text-hide {
  font: 0/0 a;
  color: transparent;
  text-shadow: none;
  background-color: transparent;
  border: 0;
}
.hidden {
  display: none !important;
}
.affix {
  position: fixed;
}
@-ms-viewport {
  width: device-width;
}
.visible-xs,
.visible-sm,
.visible-md,
.visible-lg {
  display: none !important;
}
.visible-xs-block,
.visible-xs-inline,
.visible-xs-inline-block,
.visible-sm-block,
.visible-sm-inline,
.visible-sm-inline-block,
.visible-md-block,
.visible-md-inline,
.visible-md-inline-block,
.visible-lg-block,
.visible-lg-inline,
.visible-lg-inline-block {
  display: none !important;
}
@media (max-width: 767px) {
  .visible-xs {
    display: block !important;
  }
  table.visible-xs {
    display: table !important;
  }
  tr.visible-xs {
    display: table-row !important;
  }
  th.visible-xs,
  td.visible-xs {
    display: table-cell !important;
  }
}
@media (max-width: 767px) {
  .visible-xs-block {
    display: block !important;
  }
}
@media (max-width: 767px) {
  .visible-xs-inline {
    display: inline !important;
  }
}
@media (max-width: 767px) {
  .visible-xs-inline-block {
    display: inline-block !important;
  }
}
@media (min-width: 768px) and (max-width: 991px) {
  .visible-sm {
    display: block !important;
  }
  table.visible-sm {
    display: table !important;
  }
  tr.visible-sm {
    display: table-row !important;
  }
  th.visible-sm,
  td.visible-sm {
    display: table-cell !important;
  }
}
@media (min-width: 768px) and (max-width: 991px) {
  .visible-sm-block {
    display: block !important;
  }
}
@media (min-width: 768px) and (max-width: 991px) {
  .visible-sm-inline {
    display: inline !important;
  }
}
@media (min-width: 768px) and (max-width: 991px) {
  .visible-sm-inline-block {
    display: inline-block !important;
  }
}
@media (min-width: 992px) and (max-width: 1199px) {
  .visible-md {
    display: block !important;
  }
  table.visible-md {
    display: table !important;
  }
  tr.visible-md {
    display: table-row !important;
  }
  th.visible-md,
  td.visible-md {
    display: table-cell !important;
  }
}
@media (min-width: 992px) and (max-width: 1199px) {
  .visible-md-block {
    display: block !important;
  }
}
@media (min-width: 992px) and (max-width: 1199px) {
  .visible-md-inline {
    display: inline !important;
  }
}
@media (min-width: 992px) and (max-width: 1199px) {
  .visible-md-inline-block {
    display: inline-block !important;
  }
}
@media (min-width: 1200px) {
  .visible-lg {
    display: block !important;
  }
  table.visible-lg {
    display: table !important;
  }
  tr.visible-lg {
    display: table-row !important;
  }
  th.visible-lg,
  td.visible-lg {
    display: table-cell !important;
  }
}
@media (min-width: 1200px) {
  .visible-lg-block {
    display: block !important;
  }
}
@media (min-width: 1200px) {
  .visible-lg-inline {
    display: inline !important;
  }
}
@media (min-width: 1200px) {
  .visible-lg-inline-block {
    display: inline-block !important;
  }
}
@media (max-width: 767px) {
  .hidden-xs {
    display: none !important;
  }
}
@media (min-width: 768px) and (max-width: 991px) {
  .hidden-sm {
    display: none !important;
  }
}
@media (min-width: 992px) and (max-width: 1199px) {
  .hidden-md {
    display: none !important;
  }
}
@media (min-width: 1200px) {
  .hidden-lg {
    display: none !important;
  }
}
.visible-print {
  display: none !important;
}
@media print {
  .visible-print {
    display: block !important;
  }
  table.visible-print {
    display: table !important;
  }
  tr.visible-print {
    display: table-row !important;
  }
  th.visible-print,
  td.visible-print {
    display: table-cell !important;
  }
}
.visible-print-block {
  display: none !important;
}
@media print {
  .visible-print-block {
    display: block !important;
  }
}
.visible-print-inline {
  display: none !important;
}
@media print {
  .visible-print-inline {
    display: inline !important;
  }
}
.visible-print-inline-block {
  display: none !important;
}
@media print {
  .visible-print-inline-block {
    display: inline-block !important;
  }
}
@media print {
  .hidden-print {
    display: none !important;
  }
}
/*!
*
* Font Awesome
*
*/
/*!
 *  Font Awesome 4.2.0 by @davegandy - http://fontawesome.io - @fontawesome
 *  License - http://fontawesome.io/license (Font: SIL OFL 1.1, CSS: MIT License)
 */
/* FONT PATH
 * -------------------------- */
@font-face {
  font-family: 'FontAwesome';
  src: url('../components/font-awesome/fonts/fontawesome-webfont.eot?v=4.2.0');
  src: url('../components/font-awesome/fonts/fontawesome-webfont.eot?#iefix&v=4.2.0') format('embedded-opentype'), url('../components/font-awesome/fonts/fontawesome-webfont.woff?v=4.2.0') format('woff'), url('../components/font-awesome/fonts/fontawesome-webfont.ttf?v=4.2.0') format('truetype'), url('../components/font-awesome/fonts/fontawesome-webfont.svg?v=4.2.0#fontawesomeregular') format('svg');
  font-weight: normal;
  font-style: normal;
}
.fa {
  display: inline-block;
  font: normal normal normal 14px/1 FontAwesome;
  font-size: inherit;
  text-rendering: auto;
  -webkit-font-smoothing: antialiased;
  -moz-osx-font-smoothing: grayscale;
}
/* makes the font 33% larger relative to the icon container */
.fa-lg {
  font-size: 1.33333333em;
  line-height: 0.75em;
  vertical-align: -15%;
}
.fa-2x {
  font-size: 2em;
}
.fa-3x {
  font-size: 3em;
}
.fa-4x {
  font-size: 4em;
}
.fa-5x {
  font-size: 5em;
}
.fa-fw {
  width: 1.28571429em;
  text-align: center;
}
.fa-ul {
  padding-left: 0;
  margin-left: 2.14285714em;
  list-style-type: none;
}
.fa-ul > li {
  position: relative;
}
.fa-li {
  position: absolute;
  left: -2.14285714em;
  width: 2.14285714em;
  top: 0.14285714em;
  text-align: center;
}
.fa-li.fa-lg {
  left: -1.85714286em;
}
.fa-border {
  padding: .2em .25em .15em;
  border: solid 0.08em #eee;
  border-radius: .1em;
}
.pull-right {
  float: right;
}
.pull-left {
  float: left;
}
.fa.pull-left {
  margin-right: .3em;
}
.fa.pull-right {
  margin-left: .3em;
}
.fa-spin {
  -webkit-animation: fa-spin 2s infinite linear;
  animation: fa-spin 2s infinite linear;
}
@-webkit-keyframes fa-spin {
  0% {
    -webkit-transform: rotate(0deg);
    transform: rotate(0deg);
  }
  100% {
    -webkit-transform: rotate(359deg);
    transform: rotate(359deg);
  }
}
@keyframes fa-spin {
  0% {
    -webkit-transform: rotate(0deg);
    transform: rotate(0deg);
  }
  100% {
    -webkit-transform: rotate(359deg);
    transform: rotate(359deg);
  }
}
.fa-rotate-90 {
  filter: progid:DXImageTransform.Microsoft.BasicImage(rotation=1);
  -webkit-transform: rotate(90deg);
  -ms-transform: rotate(90deg);
  transform: rotate(90deg);
}
.fa-rotate-180 {
  filter: progid:DXImageTransform.Microsoft.BasicImage(rotation=2);
  -webkit-transform: rotate(180deg);
  -ms-transform: rotate(180deg);
  transform: rotate(180deg);
}
.fa-rotate-270 {
  filter: progid:DXImageTransform.Microsoft.BasicImage(rotation=3);
  -webkit-transform: rotate(270deg);
  -ms-transform: rotate(270deg);
  transform: rotate(270deg);
}
.fa-flip-horizontal {
  filter: progid:DXImageTransform.Microsoft.BasicImage(rotation=0, mirror=1);
  -webkit-transform: scale(-1, 1);
  -ms-transform: scale(-1, 1);
  transform: scale(-1, 1);
}
.fa-flip-vertical {
  filter: progid:DXImageTransform.Microsoft.BasicImage(rotation=2, mirror=1);
  -webkit-transform: scale(1, -1);
  -ms-transform: scale(1, -1);
  transform: scale(1, -1);
}
:root .fa-rotate-90,
:root .fa-rotate-180,
:root .fa-rotate-270,
:root .fa-flip-horizontal,
:root .fa-flip-vertical {
  filter: none;
}
.fa-stack {
  position: relative;
  display: inline-block;
  width: 2em;
  height: 2em;
  line-height: 2em;
  vertical-align: middle;
}
.fa-stack-1x,
.fa-stack-2x {
  position: absolute;
  left: 0;
  width: 100%;
  text-align: center;
}
.fa-stack-1x {
  line-height: inherit;
}
.fa-stack-2x {
  font-size: 2em;
}
.fa-inverse {
  color: #fff;
}
/* Font Awesome uses the Unicode Private Use Area (PUA) to ensure screen
   readers do not read off random characters that represent icons */
.fa-glass:before {
  content: "\f000";
}
.fa-music:before {
  content: "\f001";
}
.fa-search:before {
  content: "\f002";
}
.fa-envelope-o:before {
  content: "\f003";
}
.fa-heart:before {
  content: "\f004";
}
.fa-star:before {
  content: "\f005";
}
.fa-star-o:before {
  content: "\f006";
}
.fa-user:before {
  content: "\f007";
}
.fa-film:before {
  content: "\f008";
}
.fa-th-large:before {
  content: "\f009";
}
.fa-th:before {
  content: "\f00a";
}
.fa-th-list:before {
  content: "\f00b";
}
.fa-check:before {
  content: "\f00c";
}
.fa-remove:before,
.fa-close:before,
.fa-times:before {
  content: "\f00d";
}
.fa-search-plus:before {
  content: "\f00e";
}
.fa-search-minus:before {
  content: "\f010";
}
.fa-power-off:before {
  content: "\f011";
}
.fa-signal:before {
  content: "\f012";
}
.fa-gear:before,
.fa-cog:before {
  content: "\f013";
}
.fa-trash-o:before {
  content: "\f014";
}
.fa-home:before {
  content: "\f015";
}
.fa-file-o:before {
  content: "\f016";
}
.fa-clock-o:before {
  content: "\f017";
}
.fa-road:before {
  content: "\f018";
}
.fa-download:before {
  content: "\f019";
}
.fa-arrow-circle-o-down:before {
  content: "\f01a";
}
.fa-arrow-circle-o-up:before {
  content: "\f01b";
}
.fa-inbox:before {
  content: "\f01c";
}
.fa-play-circle-o:before {
  content: "\f01d";
}
.fa-rotate-right:before,
.fa-repeat:before {
  content: "\f01e";
}
.fa-refresh:before {
  content: "\f021";
}
.fa-list-alt:before {
  content: "\f022";
}
.fa-lock:before {
  content: "\f023";
}
.fa-flag:before {
  content: "\f024";
}
.fa-headphones:before {
  content: "\f025";
}
.fa-volume-off:before {
  content: "\f026";
}
.fa-volume-down:before {
  content: "\f027";
}
.fa-volume-up:before {
  content: "\f028";
}
.fa-qrcode:before {
  content: "\f029";
}
.fa-barcode:before {
  content: "\f02a";
}
.fa-tag:before {
  content: "\f02b";
}
.fa-tags:before {
  content: "\f02c";
}
.fa-book:before {
  content: "\f02d";
}
.fa-bookmark:before {
  content: "\f02e";
}
.fa-print:before {
  content: "\f02f";
}
.fa-camera:before {
  content: "\f030";
}
.fa-font:before {
  content: "\f031";
}
.fa-bold:before {
  content: "\f032";
}
.fa-italic:before {
  content: "\f033";
}
.fa-text-height:before {
  content: "\f034";
}
.fa-text-width:before {
  content: "\f035";
}
.fa-align-left:before {
  content: "\f036";
}
.fa-align-center:before {
  content: "\f037";
}
.fa-align-right:before {
  content: "\f038";
}
.fa-align-justify:before {
  content: "\f039";
}
.fa-list:before {
  content: "\f03a";
}
.fa-dedent:before,
.fa-outdent:before {
  content: "\f03b";
}
.fa-indent:before {
  content: "\f03c";
}
.fa-video-camera:before {
  content: "\f03d";
}
.fa-photo:before,
.fa-image:before,
.fa-picture-o:before {
  content: "\f03e";
}
.fa-pencil:before {
  content: "\f040";
}
.fa-map-marker:before {
  content: "\f041";
}
.fa-adjust:before {
  content: "\f042";
}
.fa-tint:before {
  content: "\f043";
}
.fa-edit:before,
.fa-pencil-square-o:before {
  content: "\f044";
}
.fa-share-square-o:before {
  content: "\f045";
}
.fa-check-square-o:before {
  content: "\f046";
}
.fa-arrows:before {
  content: "\f047";
}
.fa-step-backward:before {
  content: "\f048";
}
.fa-fast-backward:before {
  content: "\f049";
}
.fa-backward:before {
  content: "\f04a";
}
.fa-play:before {
  content: "\f04b";
}
.fa-pause:before {
  content: "\f04c";
}
.fa-stop:before {
  content: "\f04d";
}
.fa-forward:before {
  content: "\f04e";
}
.fa-fast-forward:before {
  content: "\f050";
}
.fa-step-forward:before {
  content: "\f051";
}
.fa-eject:before {
  content: "\f052";
}
.fa-chevron-left:before {
  content: "\f053";
}
.fa-chevron-right:before {
  content: "\f054";
}
.fa-plus-circle:before {
  content: "\f055";
}
.fa-minus-circle:before {
  content: "\f056";
}
.fa-times-circle:before {
  content: "\f057";
}
.fa-check-circle:before {
  content: "\f058";
}
.fa-question-circle:before {
  content: "\f059";
}
.fa-info-circle:before {
  content: "\f05a";
}
.fa-crosshairs:before {
  content: "\f05b";
}
.fa-times-circle-o:before {
  content: "\f05c";
}
.fa-check-circle-o:before {
  content: "\f05d";
}
.fa-ban:before {
  content: "\f05e";
}
.fa-arrow-left:before {
  content: "\f060";
}
.fa-arrow-right:before {
  content: "\f061";
}
.fa-arrow-up:before {
  content: "\f062";
}
.fa-arrow-down:before {
  content: "\f063";
}
.fa-mail-forward:before,
.fa-share:before {
  content: "\f064";
}
.fa-expand:before {
  content: "\f065";
}
.fa-compress:before {
  content: "\f066";
}
.fa-plus:before {
  content: "\f067";
}
.fa-minus:before {
  content: "\f068";
}
.fa-asterisk:before {
  content: "\f069";
}
.fa-exclamation-circle:before {
  content: "\f06a";
}
.fa-gift:before {
  content: "\f06b";
}
.fa-leaf:before {
  content: "\f06c";
}
.fa-fire:before {
  content: "\f06d";
}
.fa-eye:before {
  content: "\f06e";
}
.fa-eye-slash:before {
  content: "\f070";
}
.fa-warning:before,
.fa-exclamation-triangle:before {
  content: "\f071";
}
.fa-plane:before {
  content: "\f072";
}
.fa-calendar:before {
  content: "\f073";
}
.fa-random:before {
  content: "\f074";
}
.fa-comment:before {
  content: "\f075";
}
.fa-magnet:before {
  content: "\f076";
}
.fa-chevron-up:before {
  content: "\f077";
}
.fa-chevron-down:before {
  content: "\f078";
}
.fa-retweet:before {
  content: "\f079";
}
.fa-shopping-cart:before {
  content: "\f07a";
}
.fa-folder:before {
  content: "\f07b";
}
.fa-folder-open:before {
  content: "\f07c";
}
.fa-arrows-v:before {
  content: "\f07d";
}
.fa-arrows-h:before {
  content: "\f07e";
}
.fa-bar-chart-o:before,
.fa-bar-chart:before {
  content: "\f080";
}
.fa-twitter-square:before {
  content: "\f081";
}
.fa-facebook-square:before {
  content: "\f082";
}
.fa-camera-retro:before {
  content: "\f083";
}
.fa-key:before {
  content: "\f084";
}
.fa-gears:before,
.fa-cogs:before {
  content: "\f085";
}
.fa-comments:before {
  content: "\f086";
}
.fa-thumbs-o-up:before {
  content: "\f087";
}
.fa-thumbs-o-down:before {
  content: "\f088";
}
.fa-star-half:before {
  content: "\f089";
}
.fa-heart-o:before {
  content: "\f08a";
}
.fa-sign-out:before {
  content: "\f08b";
}
.fa-linkedin-square:before {
  content: "\f08c";
}
.fa-thumb-tack:before {
  content: "\f08d";
}
.fa-external-link:before {
  content: "\f08e";
}
.fa-sign-in:before {
  content: "\f090";
}
.fa-trophy:before {
  content: "\f091";
}
.fa-github-square:before {
  content: "\f092";
}
.fa-upload:before {
  content: "\f093";
}
.fa-lemon-o:before {
  content: "\f094";
}
.fa-phone:before {
  content: "\f095";
}
.fa-square-o:before {
  content: "\f096";
}
.fa-bookmark-o:before {
  content: "\f097";
}
.fa-phone-square:before {
  content: "\f098";
}
.fa-twitter:before {
  content: "\f099";
}
.fa-facebook:before {
  content: "\f09a";
}
.fa-github:before {
  content: "\f09b";
}
.fa-unlock:before {
  content: "\f09c";
}
.fa-credit-card:before {
  content: "\f09d";
}
.fa-rss:before {
  content: "\f09e";
}
.fa-hdd-o:before {
  content: "\f0a0";
}
.fa-bullhorn:before {
  content: "\f0a1";
}
.fa-bell:before {
  content: "\f0f3";
}
.fa-certificate:before {
  content: "\f0a3";
}
.fa-hand-o-right:before {
  content: "\f0a4";
}
.fa-hand-o-left:before {
  content: "\f0a5";
}
.fa-hand-o-up:before {
  content: "\f0a6";
}
.fa-hand-o-down:before {
  content: "\f0a7";
}
.fa-arrow-circle-left:before {
  content: "\f0a8";
}
.fa-arrow-circle-right:before {
  content: "\f0a9";
}
.fa-arrow-circle-up:before {
  content: "\f0aa";
}
.fa-arrow-circle-down:before {
  content: "\f0ab";
}
.fa-globe:before {
  content: "\f0ac";
}
.fa-wrench:before {
  content: "\f0ad";
}
.fa-tasks:before {
  content: "\f0ae";
}
.fa-filter:before {
  content: "\f0b0";
}
.fa-briefcase:before {
  content: "\f0b1";
}
.fa-arrows-alt:before {
  content: "\f0b2";
}
.fa-group:before,
.fa-users:before {
  content: "\f0c0";
}
.fa-chain:before,
.fa-link:before {
  content: "\f0c1";
}
.fa-cloud:before {
  content: "\f0c2";
}
.fa-flask:before {
  content: "\f0c3";
}
.fa-cut:before,
.fa-scissors:before {
  content: "\f0c4";
}
.fa-copy:before,
.fa-files-o:before {
  content: "\f0c5";
}
.fa-paperclip:before {
  content: "\f0c6";
}
.fa-save:before,
.fa-floppy-o:before {
  content: "\f0c7";
}
.fa-square:before {
  content: "\f0c8";
}
.fa-navicon:before,
.fa-reorder:before,
.fa-bars:before {
  content: "\f0c9";
}
.fa-list-ul:before {
  content: "\f0ca";
}
.fa-list-ol:before {
  content: "\f0cb";
}
.fa-strikethrough:before {
  content: "\f0cc";
}
.fa-underline:before {
  content: "\f0cd";
}
.fa-table:before {
  content: "\f0ce";
}
.fa-magic:before {
  content: "\f0d0";
}
.fa-truck:before {
  content: "\f0d1";
}
.fa-pinterest:before {
  content: "\f0d2";
}
.fa-pinterest-square:before {
  content: "\f0d3";
}
.fa-google-plus-square:before {
  content: "\f0d4";
}
.fa-google-plus:before {
  content: "\f0d5";
}
.fa-money:before {
  content: "\f0d6";
}
.fa-caret-down:before {
  content: "\f0d7";
}
.fa-caret-up:before {
  content: "\f0d8";
}
.fa-caret-left:before {
  content: "\f0d9";
}
.fa-caret-right:before {
  content: "\f0da";
}
.fa-columns:before {
  content: "\f0db";
}
.fa-unsorted:before,
.fa-sort:before {
  content: "\f0dc";
}
.fa-sort-down:before,
.fa-sort-desc:before {
  content: "\f0dd";
}
.fa-sort-up:before,
.fa-sort-asc:before {
  content: "\f0de";
}
.fa-envelope:before {
  content: "\f0e0";
}
.fa-linkedin:before {
  content: "\f0e1";
}
.fa-rotate-left:before,
.fa-undo:before {
  content: "\f0e2";
}
.fa-legal:before,
.fa-gavel:before {
  content: "\f0e3";
}
.fa-dashboard:before,
.fa-tachometer:before {
  content: "\f0e4";
}
.fa-comment-o:before {
  content: "\f0e5";
}
.fa-comments-o:before {
  content: "\f0e6";
}
.fa-flash:before,
.fa-bolt:before {
  content: "\f0e7";
}
.fa-sitemap:before {
  content: "\f0e8";
}
.fa-umbrella:before {
  content: "\f0e9";
}
.fa-paste:before,
.fa-clipboard:before {
  content: "\f0ea";
}
.fa-lightbulb-o:before {
  content: "\f0eb";
}
.fa-exchange:before {
  content: "\f0ec";
}
.fa-cloud-download:before {
  content: "\f0ed";
}
.fa-cloud-upload:before {
  content: "\f0ee";
}
.fa-user-md:before {
  content: "\f0f0";
}
.fa-stethoscope:before {
  content: "\f0f1";
}
.fa-suitcase:before {
  content: "\f0f2";
}
.fa-bell-o:before {
  content: "\f0a2";
}
.fa-coffee:before {
  content: "\f0f4";
}
.fa-cutlery:before {
  content: "\f0f5";
}
.fa-file-text-o:before {
  content: "\f0f6";
}
.fa-building-o:before {
  content: "\f0f7";
}
.fa-hospital-o:before {
  content: "\f0f8";
}
.fa-ambulance:before {
  content: "\f0f9";
}
.fa-medkit:before {
  content: "\f0fa";
}
.fa-fighter-jet:before {
  content: "\f0fb";
}
.fa-beer:before {
  content: "\f0fc";
}
.fa-h-square:before {
  content: "\f0fd";
}
.fa-plus-square:before {
  content: "\f0fe";
}
.fa-angle-double-left:before {
  content: "\f100";
}
.fa-angle-double-right:before {
  content: "\f101";
}
.fa-angle-double-up:before {
  content: "\f102";
}
.fa-angle-double-down:before {
  content: "\f103";
}
.fa-angle-left:before {
  content: "\f104";
}
.fa-angle-right:before {
  content: "\f105";
}
.fa-angle-up:before {
  content: "\f106";
}
.fa-angle-down:before {
  content: "\f107";
}
.fa-desktop:before {
  content: "\f108";
}
.fa-laptop:before {
  content: "\f109";
}
.fa-tablet:before {
  content: "\f10a";
}
.fa-mobile-phone:before,
.fa-mobile:before {
  content: "\f10b";
}
.fa-circle-o:before {
  content: "\f10c";
}
.fa-quote-left:before {
  content: "\f10d";
}
.fa-quote-right:before {
  content: "\f10e";
}
.fa-spinner:before {
  content: "\f110";
}
.fa-circle:before {
  content: "\f111";
}
.fa-mail-reply:before,
.fa-reply:before {
  content: "\f112";
}
.fa-github-alt:before {
  content: "\f113";
}
.fa-folder-o:before {
  content: "\f114";
}
.fa-folder-open-o:before {
  content: "\f115";
}
.fa-smile-o:before {
  content: "\f118";
}
.fa-frown-o:before {
  content: "\f119";
}
.fa-meh-o:before {
  content: "\f11a";
}
.fa-gamepad:before {
  content: "\f11b";
}
.fa-keyboard-o:before {
  content: "\f11c";
}
.fa-flag-o:before {
  content: "\f11d";
}
.fa-flag-checkered:before {
  content: "\f11e";
}
.fa-terminal:before {
  content: "\f120";
}
.fa-code:before {
  content: "\f121";
}
.fa-mail-reply-all:before,
.fa-reply-all:before {
  content: "\f122";
}
.fa-star-half-empty:before,
.fa-star-half-full:before,
.fa-star-half-o:before {
  content: "\f123";
}
.fa-location-arrow:before {
  content: "\f124";
}
.fa-crop:before {
  content: "\f125";
}
.fa-code-fork:before {
  content: "\f126";
}
.fa-unlink:before,
.fa-chain-broken:before {
  content: "\f127";
}
.fa-question:before {
  content: "\f128";
}
.fa-info:before {
  content: "\f129";
}
.fa-exclamation:before {
  content: "\f12a";
}
.fa-superscript:before {
  content: "\f12b";
}
.fa-subscript:before {
  content: "\f12c";
}
.fa-eraser:before {
  content: "\f12d";
}
.fa-puzzle-piece:before {
  content: "\f12e";
}
.fa-microphone:before {
  content: "\f130";
}
.fa-microphone-slash:before {
  content: "\f131";
}
.fa-shield:before {
  content: "\f132";
}
.fa-calendar-o:before {
  content: "\f133";
}
.fa-fire-extinguisher:before {
  content: "\f134";
}
.fa-rocket:before {
  content: "\f135";
}
.fa-maxcdn:before {
  content: "\f136";
}
.fa-chevron-circle-left:before {
  content: "\f137";
}
.fa-chevron-circle-right:before {
  content: "\f138";
}
.fa-chevron-circle-up:before {
  content: "\f139";
}
.fa-chevron-circle-down:before {
  content: "\f13a";
}
.fa-html5:before {
  content: "\f13b";
}
.fa-css3:before {
  content: "\f13c";
}
.fa-anchor:before {
  content: "\f13d";
}
.fa-unlock-alt:before {
  content: "\f13e";
}
.fa-bullseye:before {
  content: "\f140";
}
.fa-ellipsis-h:before {
  content: "\f141";
}
.fa-ellipsis-v:before {
  content: "\f142";
}
.fa-rss-square:before {
  content: "\f143";
}
.fa-play-circle:before {
  content: "\f144";
}
.fa-ticket:before {
  content: "\f145";
}
.fa-minus-square:before {
  content: "\f146";
}
.fa-minus-square-o:before {
  content: "\f147";
}
.fa-level-up:before {
  content: "\f148";
}
.fa-level-down:before {
  content: "\f149";
}
.fa-check-square:before {
  content: "\f14a";
}
.fa-pencil-square:before {
  content: "\f14b";
}
.fa-external-link-square:before {
  content: "\f14c";
}
.fa-share-square:before {
  content: "\f14d";
}
.fa-compass:before {
  content: "\f14e";
}
.fa-toggle-down:before,
.fa-caret-square-o-down:before {
  content: "\f150";
}
.fa-toggle-up:before,
.fa-caret-square-o-up:before {
  content: "\f151";
}
.fa-toggle-right:before,
.fa-caret-square-o-right:before {
  content: "\f152";
}
.fa-euro:before,
.fa-eur:before {
  content: "\f153";
}
.fa-gbp:before {
  content: "\f154";
}
.fa-dollar:before,
.fa-usd:before {
  content: "\f155";
}
.fa-rupee:before,
.fa-inr:before {
  content: "\f156";
}
.fa-cny:before,
.fa-rmb:before,
.fa-yen:before,
.fa-jpy:before {
  content: "\f157";
}
.fa-ruble:before,
.fa-rouble:before,
.fa-rub:before {
  content: "\f158";
}
.fa-won:before,
.fa-krw:before {
  content: "\f159";
}
.fa-bitcoin:before,
.fa-btc:before {
  content: "\f15a";
}
.fa-file:before {
  content: "\f15b";
}
.fa-file-text:before {
  content: "\f15c";
}
.fa-sort-alpha-asc:before {
  content: "\f15d";
}
.fa-sort-alpha-desc:before {
  content: "\f15e";
}
.fa-sort-amount-asc:before {
  content: "\f160";
}
.fa-sort-amount-desc:before {
  content: "\f161";
}
.fa-sort-numeric-asc:before {
  content: "\f162";
}
.fa-sort-numeric-desc:before {
  content: "\f163";
}
.fa-thumbs-up:before {
  content: "\f164";
}
.fa-thumbs-down:before {
  content: "\f165";
}
.fa-youtube-square:before {
  content: "\f166";
}
.fa-youtube:before {
  content: "\f167";
}
.fa-xing:before {
  content: "\f168";
}
.fa-xing-square:before {
  content: "\f169";
}
.fa-youtube-play:before {
  content: "\f16a";
}
.fa-dropbox:before {
  content: "\f16b";
}
.fa-stack-overflow:before {
  content: "\f16c";
}
.fa-instagram:before {
  content: "\f16d";
}
.fa-flickr:before {
  content: "\f16e";
}
.fa-adn:before {
  content: "\f170";
}
.fa-bitbucket:before {
  content: "\f171";
}
.fa-bitbucket-square:before {
  content: "\f172";
}
.fa-tumblr:before {
  content: "\f173";
}
.fa-tumblr-square:before {
  content: "\f174";
}
.fa-long-arrow-down:before {
  content: "\f175";
}
.fa-long-arrow-up:before {
  content: "\f176";
}
.fa-long-arrow-left:before {
  content: "\f177";
}
.fa-long-arrow-right:before {
  content: "\f178";
}
.fa-apple:before {
  content: "\f179";
}
.fa-windows:before {
  content: "\f17a";
}
.fa-android:before {
  content: "\f17b";
}
.fa-linux:before {
  content: "\f17c";
}
.fa-dribbble:before {
  content: "\f17d";
}
.fa-skype:before {
  content: "\f17e";
}
.fa-foursquare:before {
  content: "\f180";
}
.fa-trello:before {
  content: "\f181";
}
.fa-female:before {
  content: "\f182";
}
.fa-male:before {
  content: "\f183";
}
.fa-gittip:before {
  content: "\f184";
}
.fa-sun-o:before {
  content: "\f185";
}
.fa-moon-o:before {
  content: "\f186";
}
.fa-archive:before {
  content: "\f187";
}
.fa-bug:before {
  content: "\f188";
}
.fa-vk:before {
  content: "\f189";
}
.fa-weibo:before {
  content: "\f18a";
}
.fa-renren:before {
  content: "\f18b";
}
.fa-pagelines:before {
  content: "\f18c";
}
.fa-stack-exchange:before {
  content: "\f18d";
}
.fa-arrow-circle-o-right:before {
  content: "\f18e";
}
.fa-arrow-circle-o-left:before {
  content: "\f190";
}
.fa-toggle-left:before,
.fa-caret-square-o-left:before {
  content: "\f191";
}
.fa-dot-circle-o:before {
  content: "\f192";
}
.fa-wheelchair:before {
  content: "\f193";
}
.fa-vimeo-square:before {
  content: "\f194";
}
.fa-turkish-lira:before,
.fa-try:before {
  content: "\f195";
}
.fa-plus-square-o:before {
  content: "\f196";
}
.fa-space-shuttle:before {
  content: "\f197";
}
.fa-slack:before {
  content: "\f198";
}
.fa-envelope-square:before {
  content: "\f199";
}
.fa-wordpress:before {
  content: "\f19a";
}
.fa-openid:before {
  content: "\f19b";
}
.fa-institution:before,
.fa-bank:before,
.fa-university:before {
  content: "\f19c";
}
.fa-mortar-board:before,
.fa-graduation-cap:before {
  content: "\f19d";
}
.fa-yahoo:before {
  content: "\f19e";
}
.fa-google:before {
  content: "\f1a0";
}
.fa-reddit:before {
  content: "\f1a1";
}
.fa-reddit-square:before {
  content: "\f1a2";
}
.fa-stumbleupon-circle:before {
  content: "\f1a3";
}
.fa-stumbleupon:before {
  content: "\f1a4";
}
.fa-delicious:before {
  content: "\f1a5";
}
.fa-digg:before {
  content: "\f1a6";
}
.fa-pied-piper:before {
  content: "\f1a7";
}
.fa-pied-piper-alt:before {
  content: "\f1a8";
}
.fa-drupal:before {
  content: "\f1a9";
}
.fa-joomla:before {
  content: "\f1aa";
}
.fa-language:before {
  content: "\f1ab";
}
.fa-fax:before {
  content: "\f1ac";
}
.fa-building:before {
  content: "\f1ad";
}
.fa-child:before {
  content: "\f1ae";
}
.fa-paw:before {
  content: "\f1b0";
}
.fa-spoon:before {
  content: "\f1b1";
}
.fa-cube:before {
  content: "\f1b2";
}
.fa-cubes:before {
  content: "\f1b3";
}
.fa-behance:before {
  content: "\f1b4";
}
.fa-behance-square:before {
  content: "\f1b5";
}
.fa-steam:before {
  content: "\f1b6";
}
.fa-steam-square:before {
  content: "\f1b7";
}
.fa-recycle:before {
  content: "\f1b8";
}
.fa-automobile:before,
.fa-car:before {
  content: "\f1b9";
}
.fa-cab:before,
.fa-taxi:before {
  content: "\f1ba";
}
.fa-tree:before {
  content: "\f1bb";
}
.fa-spotify:before {
  content: "\f1bc";
}
.fa-deviantart:before {
  content: "\f1bd";
}
.fa-soundcloud:before {
  content: "\f1be";
}
.fa-database:before {
  content: "\f1c0";
}
.fa-file-pdf-o:before {
  content: "\f1c1";
}
.fa-file-word-o:before {
  content: "\f1c2";
}
.fa-file-excel-o:before {
  content: "\f1c3";
}
.fa-file-powerpoint-o:before {
  content: "\f1c4";
}
.fa-file-photo-o:before,
.fa-file-picture-o:before,
.fa-file-image-o:before {
  content: "\f1c5";
}
.fa-file-zip-o:before,
.fa-file-archive-o:before {
  content: "\f1c6";
}
.fa-file-sound-o:before,
.fa-file-audio-o:before {
  content: "\f1c7";
}
.fa-file-movie-o:before,
.fa-file-video-o:before {
  content: "\f1c8";
}
.fa-file-code-o:before {
  content: "\f1c9";
}
.fa-vine:before {
  content: "\f1ca";
}
.fa-codepen:before {
  content: "\f1cb";
}
.fa-jsfiddle:before {
  content: "\f1cc";
}
.fa-life-bouy:before,
.fa-life-buoy:before,
.fa-life-saver:before,
.fa-support:before,
.fa-life-ring:before {
  content: "\f1cd";
}
.fa-circle-o-notch:before {
  content: "\f1ce";
}
.fa-ra:before,
.fa-rebel:before {
  content: "\f1d0";
}
.fa-ge:before,
.fa-empire:before {
  content: "\f1d1";
}
.fa-git-square:before {
  content: "\f1d2";
}
.fa-git:before {
  content: "\f1d3";
}
.fa-hacker-news:before {
  content: "\f1d4";
}
.fa-tencent-weibo:before {
  content: "\f1d5";
}
.fa-qq:before {
  content: "\f1d6";
}
.fa-wechat:before,
.fa-weixin:before {
  content: "\f1d7";
}
.fa-send:before,
.fa-paper-plane:before {
  content: "\f1d8";
}
.fa-send-o:before,
.fa-paper-plane-o:before {
  content: "\f1d9";
}
.fa-history:before {
  content: "\f1da";
}
.fa-circle-thin:before {
  content: "\f1db";
}
.fa-header:before {
  content: "\f1dc";
}
.fa-paragraph:before {
  content: "\f1dd";
}
.fa-sliders:before {
  content: "\f1de";
}
.fa-share-alt:before {
  content: "\f1e0";
}
.fa-share-alt-square:before {
  content: "\f1e1";
}
.fa-bomb:before {
  content: "\f1e2";
}
.fa-soccer-ball-o:before,
.fa-futbol-o:before {
  content: "\f1e3";
}
.fa-tty:before {
  content: "\f1e4";
}
.fa-binoculars:before {
  content: "\f1e5";
}
.fa-plug:before {
  content: "\f1e6";
}
.fa-slideshare:before {
  content: "\f1e7";
}
.fa-twitch:before {
  content: "\f1e8";
}
.fa-yelp:before {
  content: "\f1e9";
}
.fa-newspaper-o:before {
  content: "\f1ea";
}
.fa-wifi:before {
  content: "\f1eb";
}
.fa-calculator:before {
  content: "\f1ec";
}
.fa-paypal:before {
  content: "\f1ed";
}
.fa-google-wallet:before {
  content: "\f1ee";
}
.fa-cc-visa:before {
  content: "\f1f0";
}
.fa-cc-mastercard:before {
  content: "\f1f1";
}
.fa-cc-discover:before {
  content: "\f1f2";
}
.fa-cc-amex:before {
  content: "\f1f3";
}
.fa-cc-paypal:before {
  content: "\f1f4";
}
.fa-cc-stripe:before {
  content: "\f1f5";
}
.fa-bell-slash:before {
  content: "\f1f6";
}
.fa-bell-slash-o:before {
  content: "\f1f7";
}
.fa-trash:before {
  content: "\f1f8";
}
.fa-copyright:before {
  content: "\f1f9";
}
.fa-at:before {
  content: "\f1fa";
}
.fa-eyedropper:before {
  content: "\f1fb";
}
.fa-paint-brush:before {
  content: "\f1fc";
}
.fa-birthday-cake:before {
  content: "\f1fd";
}
.fa-area-chart:before {
  content: "\f1fe";
}
.fa-pie-chart:before {
  content: "\f200";
}
.fa-line-chart:before {
  content: "\f201";
}
.fa-lastfm:before {
  content: "\f202";
}
.fa-lastfm-square:before {
  content: "\f203";
}
.fa-toggle-off:before {
  content: "\f204";
}
.fa-toggle-on:before {
  content: "\f205";
}
.fa-bicycle:before {
  content: "\f206";
}
.fa-bus:before {
  content: "\f207";
}
.fa-ioxhost:before {
  content: "\f208";
}
.fa-angellist:before {
  content: "\f209";
}
.fa-cc:before {
  content: "\f20a";
}
.fa-shekel:before,
.fa-sheqel:before,
.fa-ils:before {
  content: "\f20b";
}
.fa-meanpath:before {
  content: "\f20c";
}
/*!
*
* IPython base
*
*/
.modal.fade .modal-dialog {
  -webkit-transform: translate(0, 0);
  -ms-transform: translate(0, 0);
  -o-transform: translate(0, 0);
  transform: translate(0, 0);
}
code {
  color: #000;
}
pre {
  font-size: inherit;
  line-height: inherit;
}
label {
  font-weight: normal;
}
/* Make the page background atleast 100% the height of the view port */
/* Make the page itself atleast 70% the height of the view port */
.border-box-sizing {
  box-sizing: border-box;
  -moz-box-sizing: border-box;
  -webkit-box-sizing: border-box;
}
.corner-all {
  border-radius: 2px;
}
.no-padding {
  padding: 0px;
}
/* Flexible box model classes */
/* Taken from Alex Russell http://infrequently.org/2009/08/css-3-progress/ */
/* This file is a compatability layer.  It allows the usage of flexible box 
model layouts accross multiple browsers, including older browsers.  The newest,
universal implementation of the flexible box model is used when available (see
`Modern browsers` comments below).  Browsers that are known to implement this 
new spec completely include:

    Firefox 28.0+
    Chrome 29.0+
    Internet Explorer 11+ 
    Opera 17.0+

Browsers not listed, including Safari, are supported via the styling under the
`Old browsers` comments below.
*/
.hbox {
  /* Old browsers */
  display: -webkit-box;
  -webkit-box-orient: horizontal;
  -webkit-box-align: stretch;
  display: -moz-box;
  -moz-box-orient: horizontal;
  -moz-box-align: stretch;
  display: box;
  box-orient: horizontal;
  box-align: stretch;
  /* Modern browsers */
  display: flex;
  flex-direction: row;
  align-items: stretch;
}
.hbox > * {
  /* Old browsers */
  -webkit-box-flex: 0;
  -moz-box-flex: 0;
  box-flex: 0;
  /* Modern browsers */
  flex: none;
}
.vbox {
  /* Old browsers */
  display: -webkit-box;
  -webkit-box-orient: vertical;
  -webkit-box-align: stretch;
  display: -moz-box;
  -moz-box-orient: vertical;
  -moz-box-align: stretch;
  display: box;
  box-orient: vertical;
  box-align: stretch;
  /* Modern browsers */
  display: flex;
  flex-direction: column;
  align-items: stretch;
}
.vbox > * {
  /* Old browsers */
  -webkit-box-flex: 0;
  -moz-box-flex: 0;
  box-flex: 0;
  /* Modern browsers */
  flex: none;
}
.hbox.reverse,
.vbox.reverse,
.reverse {
  /* Old browsers */
  -webkit-box-direction: reverse;
  -moz-box-direction: reverse;
  box-direction: reverse;
  /* Modern browsers */
  flex-direction: row-reverse;
}
.hbox.box-flex0,
.vbox.box-flex0,
.box-flex0 {
  /* Old browsers */
  -webkit-box-flex: 0;
  -moz-box-flex: 0;
  box-flex: 0;
  /* Modern browsers */
  flex: none;
  width: auto;
}
.hbox.box-flex1,
.vbox.box-flex1,
.box-flex1 {
  /* Old browsers */
  -webkit-box-flex: 1;
  -moz-box-flex: 1;
  box-flex: 1;
  /* Modern browsers */
  flex: 1;
}
.hbox.box-flex,
.vbox.box-flex,
.box-flex {
  /* Old browsers */
  /* Old browsers */
  -webkit-box-flex: 1;
  -moz-box-flex: 1;
  box-flex: 1;
  /* Modern browsers */
  flex: 1;
}
.hbox.box-flex2,
.vbox.box-flex2,
.box-flex2 {
  /* Old browsers */
  -webkit-box-flex: 2;
  -moz-box-flex: 2;
  box-flex: 2;
  /* Modern browsers */
  flex: 2;
}
.box-group1 {
  /*  Deprecated */
  -webkit-box-flex-group: 1;
  -moz-box-flex-group: 1;
  box-flex-group: 1;
}
.box-group2 {
  /* Deprecated */
  -webkit-box-flex-group: 2;
  -moz-box-flex-group: 2;
  box-flex-group: 2;
}
.hbox.start,
.vbox.start,
.start {
  /* Old browsers */
  -webkit-box-pack: start;
  -moz-box-pack: start;
  box-pack: start;
  /* Modern browsers */
  justify-content: flex-start;
}
.hbox.end,
.vbox.end,
.end {
  /* Old browsers */
  -webkit-box-pack: end;
  -moz-box-pack: end;
  box-pack: end;
  /* Modern browsers */
  justify-content: flex-end;
}
.hbox.center,
.vbox.center,
.center {
  /* Old browsers */
  -webkit-box-pack: center;
  -moz-box-pack: center;
  box-pack: center;
  /* Modern browsers */
  justify-content: center;
}
.hbox.baseline,
.vbox.baseline,
.baseline {
  /* Old browsers */
  -webkit-box-pack: baseline;
  -moz-box-pack: baseline;
  box-pack: baseline;
  /* Modern browsers */
  justify-content: baseline;
}
.hbox.stretch,
.vbox.stretch,
.stretch {
  /* Old browsers */
  -webkit-box-pack: stretch;
  -moz-box-pack: stretch;
  box-pack: stretch;
  /* Modern browsers */
  justify-content: stretch;
}
.hbox.align-start,
.vbox.align-start,
.align-start {
  /* Old browsers */
  -webkit-box-align: start;
  -moz-box-align: start;
  box-align: start;
  /* Modern browsers */
  align-items: flex-start;
}
.hbox.align-end,
.vbox.align-end,
.align-end {
  /* Old browsers */
  -webkit-box-align: end;
  -moz-box-align: end;
  box-align: end;
  /* Modern browsers */
  align-items: flex-end;
}
.hbox.align-center,
.vbox.align-center,
.align-center {
  /* Old browsers */
  -webkit-box-align: center;
  -moz-box-align: center;
  box-align: center;
  /* Modern browsers */
  align-items: center;
}
.hbox.align-baseline,
.vbox.align-baseline,
.align-baseline {
  /* Old browsers */
  -webkit-box-align: baseline;
  -moz-box-align: baseline;
  box-align: baseline;
  /* Modern browsers */
  align-items: baseline;
}
.hbox.align-stretch,
.vbox.align-stretch,
.align-stretch {
  /* Old browsers */
  -webkit-box-align: stretch;
  -moz-box-align: stretch;
  box-align: stretch;
  /* Modern browsers */
  align-items: stretch;
}
div.error {
  margin: 2em;
  text-align: center;
}
div.error > h1 {
  font-size: 500%;
  line-height: normal;
}
div.error > p {
  font-size: 200%;
  line-height: normal;
}
div.traceback-wrapper {
  text-align: left;
  max-width: 800px;
  margin: auto;
}
/**
 * Primary styles
 *
 * Author: Jupyter Development Team
 */
body {
  background-color: #fff;
  /* This makes sure that the body covers the entire window and needs to
       be in a different element than the display: box in wrapper below */
  position: absolute;
  left: 0px;
  right: 0px;
  top: 0px;
  bottom: 0px;
  overflow: visible;
}
body > #header {
  /* Initially hidden to prevent FLOUC */
  display: none;
  background-color: #fff;
  /* Display over codemirror */
  position: relative;
  z-index: 100;
}
body > #header #header-container {
  padding-bottom: 5px;
  padding-top: 5px;
  box-sizing: border-box;
  -moz-box-sizing: border-box;
  -webkit-box-sizing: border-box;
}
body > #header .header-bar {
  width: 100%;
  height: 1px;
  background: #e7e7e7;
  margin-bottom: -1px;
}
@media print {
  body > #header {
    display: none !important;
  }
}
#header-spacer {
  width: 100%;
  visibility: hidden;
}
@media print {
  #header-spacer {
    display: none;
  }
}
#ipython_notebook {
  padding-left: 0px;
  padding-top: 1px;
  padding-bottom: 1px;
}
@media (max-width: 991px) {
  #ipython_notebook {
    margin-left: 10px;
  }
}
[dir="rtl"] #ipython_notebook {
  float: right !important;
}
#noscript {
  width: auto;
  padding-top: 16px;
  padding-bottom: 16px;
  text-align: center;
  font-size: 22px;
  color: red;
  font-weight: bold;
}
#ipython_notebook img {
  height: 28px;
}
#site {
  width: 100%;
  display: none;
  box-sizing: border-box;
  -moz-box-sizing: border-box;
  -webkit-box-sizing: border-box;
  overflow: auto;
}
@media print {
  #site {
    height: auto !important;
  }
}
/* Smaller buttons */
.ui-button .ui-button-text {
  padding: 0.2em 0.8em;
  font-size: 77%;
}
input.ui-button {
  padding: 0.3em 0.9em;
}
span#login_widget {
  float: right;
}
span#login_widget > .button,
#logout {
  color: #333;
  background-color: #fff;
  border-color: #ccc;
}
span#login_widget > .button:focus,
#logout:focus,
span#login_widget > .button.focus,
#logout.focus {
  color: #333;
  background-color: #e6e6e6;
  border-color: #8c8c8c;
}
span#login_widget > .button:hover,
#logout:hover {
  color: #333;
  background-color: #e6e6e6;
  border-color: #adadad;
}
span#login_widget > .button:active,
#logout:active,
span#login_widget > .button.active,
#logout.active,
.open > .dropdown-togglespan#login_widget > .button,
.open > .dropdown-toggle#logout {
  color: #333;
  background-color: #e6e6e6;
  border-color: #adadad;
}
span#login_widget > .button:active:hover,
#logout:active:hover,
span#login_widget > .button.active:hover,
#logout.active:hover,
.open > .dropdown-togglespan#login_widget > .button:hover,
.open > .dropdown-toggle#logout:hover,
span#login_widget > .button:active:focus,
#logout:active:focus,
span#login_widget > .button.active:focus,
#logout.active:focus,
.open > .dropdown-togglespan#login_widget > .button:focus,
.open > .dropdown-toggle#logout:focus,
span#login_widget > .button:active.focus,
#logout:active.focus,
span#login_widget > .button.active.focus,
#logout.active.focus,
.open > .dropdown-togglespan#login_widget > .button.focus,
.open > .dropdown-toggle#logout.focus {
  color: #333;
  background-color: #d4d4d4;
  border-color: #8c8c8c;
}
span#login_widget > .button:active,
#logout:active,
span#login_widget > .button.active,
#logout.active,
.open > .dropdown-togglespan#login_widget > .button,
.open > .dropdown-toggle#logout {
  background-image: none;
}
span#login_widget > .button.disabled:hover,
#logout.disabled:hover,
span#login_widget > .button[disabled]:hover,
#logout[disabled]:hover,
fieldset[disabled] span#login_widget > .button:hover,
fieldset[disabled] #logout:hover,
span#login_widget > .button.disabled:focus,
#logout.disabled:focus,
span#login_widget > .button[disabled]:focus,
#logout[disabled]:focus,
fieldset[disabled] span#login_widget > .button:focus,
fieldset[disabled] #logout:focus,
span#login_widget > .button.disabled.focus,
#logout.disabled.focus,
span#login_widget > .button[disabled].focus,
#logout[disabled].focus,
fieldset[disabled] span#login_widget > .button.focus,
fieldset[disabled] #logout.focus {
  background-color: #fff;
  border-color: #ccc;
}
span#login_widget > .button .badge,
#logout .badge {
  color: #fff;
  background-color: #333;
}
.nav-header {
  text-transform: none;
}
#header > span {
  margin-top: 10px;
}
.modal_stretch .modal-dialog {
  /* Old browsers */
  display: -webkit-box;
  -webkit-box-orient: vertical;
  -webkit-box-align: stretch;
  display: -moz-box;
  -moz-box-orient: vertical;
  -moz-box-align: stretch;
  display: box;
  box-orient: vertical;
  box-align: stretch;
  /* Modern browsers */
  display: flex;
  flex-direction: column;
  align-items: stretch;
  min-height: 80vh;
}
.modal_stretch .modal-dialog .modal-body {
  max-height: calc(100vh - 200px);
  overflow: auto;
  flex: 1;
}
@media (min-width: 768px) {
  .modal .modal-dialog {
    width: 700px;
  }
}
@media (min-width: 768px) {
  select.form-control {
    margin-left: 12px;
    margin-right: 12px;
  }
}
/*!
*
* IPython auth
*
*/
.center-nav {
  display: inline-block;
  margin-bottom: -4px;
}
/*!
*
* IPython tree view
*
*/
/* We need an invisible input field on top of the sentense*/
/* "Drag file onto the list ..." */
.alternate_upload {
  background-color: none;
  display: inline;
}
.alternate_upload.form {
  padding: 0;
  margin: 0;
}
.alternate_upload input.fileinput {
  text-align: center;
  vertical-align: middle;
  display: inline;
  opacity: 0;
  z-index: 2;
  width: 12ex;
  margin-right: -12ex;
}
.alternate_upload .btn-upload {
  height: 22px;
}
/**
 * Primary styles
 *
 * Author: Jupyter Development Team
 */
[dir="rtl"] #tabs li {
  float: right;
}
ul#tabs {
  margin-bottom: 4px;
}
[dir="rtl"] ul#tabs {
  margin-right: 0px;
}
ul#tabs a {
  padding-top: 6px;
  padding-bottom: 4px;
}
ul.breadcrumb a:focus,
ul.breadcrumb a:hover {
  text-decoration: none;
}
ul.breadcrumb i.icon-home {
  font-size: 16px;
  margin-right: 4px;
}
ul.breadcrumb span {
  color: #5e5e5e;
}
.list_toolbar {
  padding: 4px 0 4px 0;
  vertical-align: middle;
}
.list_toolbar .tree-buttons {
  padding-top: 1px;
}
[dir="rtl"] .list_toolbar .tree-buttons {
  float: left !important;
}
[dir="rtl"] .list_toolbar .pull-right {
  padding-top: 1px;
  float: left !important;
}
[dir="rtl"] .list_toolbar .pull-left {
  float: right !important;
}
.dynamic-buttons {
  padding-top: 3px;
  display: inline-block;
}
.list_toolbar [class*="span"] {
  min-height: 24px;
}
.list_header {
  font-weight: bold;
  background-color: #EEE;
}
.list_placeholder {
  font-weight: bold;
  padding-top: 4px;
  padding-bottom: 4px;
  padding-left: 7px;
  padding-right: 7px;
}
.list_container {
  margin-top: 4px;
  margin-bottom: 20px;
  border: 1px solid #ddd;
  border-radius: 2px;
}
.list_container > div {
  border-bottom: 1px solid #ddd;
}
.list_container > div:hover .list-item {
  background-color: red;
}
.list_container > div:last-child {
  border: none;
}
.list_item:hover .list_item {
  background-color: #ddd;
}
.list_item a {
  text-decoration: none;
}
.list_item:hover {
  background-color: #fafafa;
}
.list_header > div,
.list_item > div {
  padding-top: 4px;
  padding-bottom: 4px;
  padding-left: 7px;
  padding-right: 7px;
  line-height: 22px;
}
.list_header > div input,
.list_item > div input {
  margin-right: 7px;
  margin-left: 14px;
  vertical-align: baseline;
  line-height: 22px;
  position: relative;
  top: -1px;
}
.list_header > div .item_link,
.list_item > div .item_link {
  margin-left: -1px;
  vertical-align: baseline;
  line-height: 22px;
}
.new-file input[type=checkbox] {
  visibility: hidden;
}
.item_name {
  line-height: 22px;
  height: 24px;
}
.item_icon {
  font-size: 14px;
  color: #5e5e5e;
  margin-right: 7px;
  margin-left: 7px;
  line-height: 22px;
  vertical-align: baseline;
}
.item_buttons {
  line-height: 1em;
  margin-left: -5px;
}
.item_buttons .btn,
.item_buttons .btn-group,
.item_buttons .input-group {
  float: left;
}
.item_buttons > .btn,
.item_buttons > .btn-group,
.item_buttons > .input-group {
  margin-left: 5px;
}
.item_buttons .btn {
  min-width: 13ex;
}
.item_buttons .running-indicator {
  padding-top: 4px;
  color: #5cb85c;
}
.item_buttons .kernel-name {
  padding-top: 4px;
  color: #5bc0de;
  margin-right: 7px;
  float: left;
}
.toolbar_info {
  height: 24px;
  line-height: 24px;
}
.list_item input:not([type=checkbox]) {
  padding-top: 3px;
  padding-bottom: 3px;
  height: 22px;
  line-height: 14px;
  margin: 0px;
}
.highlight_text {
  color: blue;
}
#project_name {
  display: inline-block;
  padding-left: 7px;
  margin-left: -2px;
}
#project_name > .breadcrumb {
  padding: 0px;
  margin-bottom: 0px;
  background-color: transparent;
  font-weight: bold;
}
#tree-selector {
  padding-right: 0px;
}
[dir="rtl"] #tree-selector a {
  float: right;
}
#button-select-all {
  min-width: 50px;
}
#select-all {
  margin-left: 7px;
  margin-right: 2px;
}
.menu_icon {
  margin-right: 2px;
}
.tab-content .row {
  margin-left: 0px;
  margin-right: 0px;
}
.folder_icon:before {
  display: inline-block;
  font: normal normal normal 14px/1 FontAwesome;
  font-size: inherit;
  text-rendering: auto;
  -webkit-font-smoothing: antialiased;
  -moz-osx-font-smoothing: grayscale;
  content: "\f114";
}
.folder_icon:before.pull-left {
  margin-right: .3em;
}
.folder_icon:before.pull-right {
  margin-left: .3em;
}
.notebook_icon:before {
  display: inline-block;
  font: normal normal normal 14px/1 FontAwesome;
  font-size: inherit;
  text-rendering: auto;
  -webkit-font-smoothing: antialiased;
  -moz-osx-font-smoothing: grayscale;
  content: "\f02d";
  position: relative;
  top: -1px;
}
.notebook_icon:before.pull-left {
  margin-right: .3em;
}
.notebook_icon:before.pull-right {
  margin-left: .3em;
}
.running_notebook_icon:before {
  display: inline-block;
  font: normal normal normal 14px/1 FontAwesome;
  font-size: inherit;
  text-rendering: auto;
  -webkit-font-smoothing: antialiased;
  -moz-osx-font-smoothing: grayscale;
  content: "\f02d";
  position: relative;
  top: -1px;
  color: #5cb85c;
}
.running_notebook_icon:before.pull-left {
  margin-right: .3em;
}
.running_notebook_icon:before.pull-right {
  margin-left: .3em;
}
.file_icon:before {
  display: inline-block;
  font: normal normal normal 14px/1 FontAwesome;
  font-size: inherit;
  text-rendering: auto;
  -webkit-font-smoothing: antialiased;
  -moz-osx-font-smoothing: grayscale;
  content: "\f016";
  position: relative;
  top: -2px;
}
.file_icon:before.pull-left {
  margin-right: .3em;
}
.file_icon:before.pull-right {
  margin-left: .3em;
}
#notebook_toolbar .pull-right {
  padding-top: 0px;
  margin-right: -1px;
}
ul#new-menu {
  left: auto;
  right: 0;
}
[dir="rtl"] #new-menu {
  text-align: right;
}
.kernel-menu-icon {
  padding-right: 12px;
  width: 24px;
  content: "\f096";
}
.kernel-menu-icon:before {
  content: "\f096";
}
.kernel-menu-icon-current:before {
  content: "\f00c";
}
#tab_content {
  padding-top: 20px;
}
#running .panel-group .panel {
  margin-top: 3px;
  margin-bottom: 1em;
}
#running .panel-group .panel .panel-heading {
  background-color: #EEE;
  padding-top: 4px;
  padding-bottom: 4px;
  padding-left: 7px;
  padding-right: 7px;
  line-height: 22px;
}
#running .panel-group .panel .panel-heading a:focus,
#running .panel-group .panel .panel-heading a:hover {
  text-decoration: none;
}
#running .panel-group .panel .panel-body {
  padding: 0px;
}
#running .panel-group .panel .panel-body .list_container {
  margin-top: 0px;
  margin-bottom: 0px;
  border: 0px;
  border-radius: 0px;
}
#running .panel-group .panel .panel-body .list_container .list_item {
  border-bottom: 1px solid #ddd;
}
#running .panel-group .panel .panel-body .list_container .list_item:last-child {
  border-bottom: 0px;
}
[dir="rtl"] #running .col-sm-8 {
  float: right !important;
}
.delete-button {
  display: none;
}
.duplicate-button {
  display: none;
}
.rename-button {
  display: none;
}
.shutdown-button {
  display: none;
}
.dynamic-instructions {
  display: inline-block;
  padding-top: 4px;
}
/*!
*
* IPython text editor webapp
*
*/
.selected-keymap i.fa {
  padding: 0px 5px;
}
.selected-keymap i.fa:before {
  content: "\f00c";
}
#mode-menu {
  overflow: auto;
  max-height: 20em;
}
.edit_app #header {
  -webkit-box-shadow: 0px 0px 12px 1px rgba(87, 87, 87, 0.2);
  box-shadow: 0px 0px 12px 1px rgba(87, 87, 87, 0.2);
}
.edit_app #menubar .navbar {
  /* Use a negative 1 bottom margin, so the border overlaps the border of the
    header */
  margin-bottom: -1px;
}
.dirty-indicator {
  display: inline-block;
  font: normal normal normal 14px/1 FontAwesome;
  font-size: inherit;
  text-rendering: auto;
  -webkit-font-smoothing: antialiased;
  -moz-osx-font-smoothing: grayscale;
  width: 20px;
}
.dirty-indicator.pull-left {
  margin-right: .3em;
}
.dirty-indicator.pull-right {
  margin-left: .3em;
}
.dirty-indicator-dirty {
  display: inline-block;
  font: normal normal normal 14px/1 FontAwesome;
  font-size: inherit;
  text-rendering: auto;
  -webkit-font-smoothing: antialiased;
  -moz-osx-font-smoothing: grayscale;
  width: 20px;
}
.dirty-indicator-dirty.pull-left {
  margin-right: .3em;
}
.dirty-indicator-dirty.pull-right {
  margin-left: .3em;
}
.dirty-indicator-clean {
  display: inline-block;
  font: normal normal normal 14px/1 FontAwesome;
  font-size: inherit;
  text-rendering: auto;
  -webkit-font-smoothing: antialiased;
  -moz-osx-font-smoothing: grayscale;
  width: 20px;
}
.dirty-indicator-clean.pull-left {
  margin-right: .3em;
}
.dirty-indicator-clean.pull-right {
  margin-left: .3em;
}
.dirty-indicator-clean:before {
  display: inline-block;
  font: normal normal normal 14px/1 FontAwesome;
  font-size: inherit;
  text-rendering: auto;
  -webkit-font-smoothing: antialiased;
  -moz-osx-font-smoothing: grayscale;
  content: "\f00c";
}
.dirty-indicator-clean:before.pull-left {
  margin-right: .3em;
}
.dirty-indicator-clean:before.pull-right {
  margin-left: .3em;
}
#filename {
  font-size: 16pt;
  display: table;
  padding: 0px 5px;
}
#current-mode {
  padding-left: 5px;
  padding-right: 5px;
}
#texteditor-backdrop {
  padding-top: 20px;
  padding-bottom: 20px;
}
@media not print {
  #texteditor-backdrop {
    background-color: #EEE;
  }
}
@media print {
  #texteditor-backdrop #texteditor-container .CodeMirror-gutter,
  #texteditor-backdrop #texteditor-container .CodeMirror-gutters {
    background-color: #fff;
  }
}
@media not print {
  #texteditor-backdrop #texteditor-container .CodeMirror-gutter,
  #texteditor-backdrop #texteditor-container .CodeMirror-gutters {
    background-color: #fff;
  }
}
@media not print {
  #texteditor-backdrop #texteditor-container {
    padding: 0px;
    background-color: #fff;
    -webkit-box-shadow: 0px 0px 12px 1px rgba(87, 87, 87, 0.2);
    box-shadow: 0px 0px 12px 1px rgba(87, 87, 87, 0.2);
  }
}
/*!
*
* IPython notebook
*
*/
/* CSS font colors for translated ANSI colors. */
.ansibold {
  font-weight: bold;
}
/* use dark versions for foreground, to improve visibility */
.ansiblack {
  color: black;
}
.ansired {
  color: darkred;
}
.ansigreen {
  color: darkgreen;
}
.ansiyellow {
  color: #c4a000;
}
.ansiblue {
  color: darkblue;
}
.ansipurple {
  color: darkviolet;
}
.ansicyan {
  color: steelblue;
}
.ansigray {
  color: gray;
}
/* and light for background, for the same reason */
.ansibgblack {
  background-color: black;
}
.ansibgred {
  background-color: red;
}
.ansibggreen {
  background-color: green;
}
.ansibgyellow {
  background-color: yellow;
}
.ansibgblue {
  background-color: blue;
}
.ansibgpurple {
  background-color: magenta;
}
.ansibgcyan {
  background-color: cyan;
}
.ansibggray {
  background-color: gray;
}
div.cell {
  /* Old browsers */
  display: -webkit-box;
  -webkit-box-orient: vertical;
  -webkit-box-align: stretch;
  display: -moz-box;
  -moz-box-orient: vertical;
  -moz-box-align: stretch;
  display: box;
  box-orient: vertical;
  box-align: stretch;
  /* Modern browsers */
  display: flex;
  flex-direction: column;
  align-items: stretch;
  border-radius: 2px;
  box-sizing: border-box;
  -moz-box-sizing: border-box;
  -webkit-box-sizing: border-box;
  border-width: 1px;
  border-style: solid;
  border-color: transparent;
  width: 100%;
  padding: 5px;
  /* This acts as a spacer between cells, that is outside the border */
  margin: 0px;
  outline: none;
  border-left-width: 1px;
  padding-left: 5px;
  background: linear-gradient(to right, transparent -40px, transparent 1px, transparent 1px, transparent 100%);
}
div.cell.jupyter-soft-selected {
  border-left-color: #90CAF9;
  border-left-color: #E3F2FD;
  border-left-width: 1px;
  padding-left: 5px;
  border-right-color: #E3F2FD;
  border-right-width: 1px;
  background: #E3F2FD;
}
@media print {
  div.cell.jupyter-soft-selected {
    border-color: transparent;
  }
}
div.cell.selected {
  border-color: #ababab;
  border-left-width: 0px;
  padding-left: 6px;
  background: linear-gradient(to right, #42A5F5 -40px, #42A5F5 5px, transparent 5px, transparent 100%);
}
@media print {
  div.cell.selected {
    border-color: transparent;
  }
}
div.cell.selected.jupyter-soft-selected {
  border-left-width: 0;
  padding-left: 6px;
  background: linear-gradient(to right, #42A5F5 -40px, #42A5F5 7px, #E3F2FD 7px, #E3F2FD 100%);
}
.edit_mode div.cell.selected {
  border-color: #66BB6A;
  border-left-width: 0px;
  padding-left: 6px;
  background: linear-gradient(to right, #66BB6A -40px, #66BB6A 5px, transparent 5px, transparent 100%);
}
@media print {
  .edit_mode div.cell.selected {
    border-color: transparent;
  }
}
.prompt {
  /* This needs to be wide enough for 3 digit prompt numbers: In[100]: */
  min-width: 14ex;
  /* This padding is tuned to match the padding on the CodeMirror editor. */
  padding: 0.4em;
  margin: 0px;
  font-family: monospace;
  text-align: right;
  /* This has to match that of the the CodeMirror class line-height below */
  line-height: 1.21429em;
  /* Don't highlight prompt number selection */
  -webkit-touch-callout: none;
  -webkit-user-select: none;
  -khtml-user-select: none;
  -moz-user-select: none;
  -ms-user-select: none;
  user-select: none;
  /* Use default cursor */
  cursor: default;
}
@media (max-width: 540px) {
  .prompt {
    text-align: left;
  }
}
div.inner_cell {
  min-width: 0;
  /* Old browsers */
  display: -webkit-box;
  -webkit-box-orient: vertical;
  -webkit-box-align: stretch;
  display: -moz-box;
  -moz-box-orient: vertical;
  -moz-box-align: stretch;
  display: box;
  box-orient: vertical;
  box-align: stretch;
  /* Modern browsers */
  display: flex;
  flex-direction: column;
  align-items: stretch;
  /* Old browsers */
  -webkit-box-flex: 1;
  -moz-box-flex: 1;
  box-flex: 1;
  /* Modern browsers */
  flex: 1;
}
/* input_area and input_prompt must match in top border and margin for alignment */
div.input_area {
  border: 1px solid #cfcfcf;
  border-radius: 2px;
  background: #f7f7f7;
  line-height: 1.21429em;
}
/* This is needed so that empty prompt areas can collapse to zero height when there
   is no content in the output_subarea and the prompt. The main purpose of this is
   to make sure that empty JavaScript output_subareas have no height. */
div.prompt:empty {
  padding-top: 0;
  padding-bottom: 0;
}
div.unrecognized_cell {
  padding: 5px 5px 5px 0px;
  /* Old browsers */
  display: -webkit-box;
  -webkit-box-orient: horizontal;
  -webkit-box-align: stretch;
  display: -moz-box;
  -moz-box-orient: horizontal;
  -moz-box-align: stretch;
  display: box;
  box-orient: horizontal;
  box-align: stretch;
  /* Modern browsers */
  display: flex;
  flex-direction: row;
  align-items: stretch;
}
div.unrecognized_cell .inner_cell {
  border-radius: 2px;
  padding: 5px;
  font-weight: bold;
  color: red;
  border: 1px solid #cfcfcf;
  background: #eaeaea;
}
div.unrecognized_cell .inner_cell a {
  color: inherit;
  text-decoration: none;
}
div.unrecognized_cell .inner_cell a:hover {
  color: inherit;
  text-decoration: none;
}
@media (max-width: 540px) {
  div.unrecognized_cell > div.prompt {
    display: none;
  }
}
div.code_cell {
  /* avoid page breaking on code cells when printing */
}
@media print {
  div.code_cell {
    page-break-inside: avoid;
  }
}
/* any special styling for code cells that are currently running goes here */
div.input {
  page-break-inside: avoid;
  /* Old browsers */
  display: -webkit-box;
  -webkit-box-orient: horizontal;
  -webkit-box-align: stretch;
  display: -moz-box;
  -moz-box-orient: horizontal;
  -moz-box-align: stretch;
  display: box;
  box-orient: horizontal;
  box-align: stretch;
  /* Modern browsers */
  display: flex;
  flex-direction: row;
  align-items: stretch;
}
@media (max-width: 540px) {
  div.input {
    /* Old browsers */
    display: -webkit-box;
    -webkit-box-orient: vertical;
    -webkit-box-align: stretch;
    display: -moz-box;
    -moz-box-orient: vertical;
    -moz-box-align: stretch;
    display: box;
    box-orient: vertical;
    box-align: stretch;
    /* Modern browsers */
    display: flex;
    flex-direction: column;
    align-items: stretch;
  }
}
/* input_area and input_prompt must match in top border and margin for alignment */
div.input_prompt {
  color: #303F9F;
  border-top: 1px solid transparent;
}
div.input_area > div.highlight {
  margin: 0.4em;
  border: none;
  padding: 0px;
  background-color: transparent;
}
div.input_area > div.highlight > pre {
  margin: 0px;
  border: none;
  padding: 0px;
  background-color: transparent;
}
/* The following gets added to the <head> if it is detected that the user has a
 * monospace font with inconsistent normal/bold/italic height.  See
 * notebookmain.js.  Such fonts will have keywords vertically offset with
 * respect to the rest of the text.  The user should select a better font.
 * See: https://github.com/ipython/ipython/issues/1503
 *
 * .CodeMirror span {
 *      vertical-align: bottom;
 * }
 */
.CodeMirror {
  line-height: 1.21429em;
  /* Changed from 1em to our global default */
  font-size: 14px;
  height: auto;
  /* Changed to auto to autogrow */
  background: none;
  /* Changed from white to allow our bg to show through */
}
.CodeMirror-scroll {
  /*  The CodeMirror docs are a bit fuzzy on if overflow-y should be hidden or visible.*/
  /*  We have found that if it is visible, vertical scrollbars appear with font size changes.*/
  overflow-y: hidden;
  overflow-x: auto;
}
.CodeMirror-lines {
  /* In CM2, this used to be 0.4em, but in CM3 it went to 4px. We need the em value because */
  /* we have set a different line-height and want this to scale with that. */
  padding: 0.4em;
}
.CodeMirror-linenumber {
  padding: 0 8px 0 4px;
}
.CodeMirror-gutters {
  border-bottom-left-radius: 2px;
  border-top-left-radius: 2px;
}
.CodeMirror pre {
  /* In CM3 this went to 4px from 0 in CM2. We need the 0 value because of how we size */
  /* .CodeMirror-lines */
  padding: 0;
  border: 0;
  border-radius: 0;
}
/*

Original style from softwaremaniacs.org (c) Ivan Sagalaev <Maniac@SoftwareManiacs.Org>
Adapted from GitHub theme

*/
.highlight-base {
  color: #000;
}
.highlight-variable {
  color: #000;
}
.highlight-variable-2 {
  color: #1a1a1a;
}
.highlight-variable-3 {
  color: #333333;
}
.highlight-string {
  color: #BA2121;
}
.highlight-comment {
  color: #408080;
  font-style: italic;
}
.highlight-number {
  color: #080;
}
.highlight-atom {
  color: #88F;
}
.highlight-keyword {
  color: #008000;
  font-weight: bold;
}
.highlight-builtin {
  color: #008000;
}
.highlight-error {
  color: #f00;
}
.highlight-operator {
  color: #AA22FF;
  font-weight: bold;
}
.highlight-meta {
  color: #AA22FF;
}
/* previously not defined, copying from default codemirror */
.highlight-def {
  color: #00f;
}
.highlight-string-2 {
  color: #f50;
}
.highlight-qualifier {
  color: #555;
}
.highlight-bracket {
  color: #997;
}
.highlight-tag {
  color: #170;
}
.highlight-attribute {
  color: #00c;
}
.highlight-header {
  color: blue;
}
.highlight-quote {
  color: #090;
}
.highlight-link {
  color: #00c;
}
/* apply the same style to codemirror */
.cm-s-ipython span.cm-keyword {
  color: #008000;
  font-weight: bold;
}
.cm-s-ipython span.cm-atom {
  color: #88F;
}
.cm-s-ipython span.cm-number {
  color: #080;
}
.cm-s-ipython span.cm-def {
  color: #00f;
}
.cm-s-ipython span.cm-variable {
  color: #000;
}
.cm-s-ipython span.cm-operator {
  color: #AA22FF;
  font-weight: bold;
}
.cm-s-ipython span.cm-variable-2 {
  color: #1a1a1a;
}
.cm-s-ipython span.cm-variable-3 {
  color: #333333;
}
.cm-s-ipython span.cm-comment {
  color: #408080;
  font-style: italic;
}
.cm-s-ipython span.cm-string {
  color: #BA2121;
}
.cm-s-ipython span.cm-string-2 {
  color: #f50;
}
.cm-s-ipython span.cm-meta {
  color: #AA22FF;
}
.cm-s-ipython span.cm-qualifier {
  color: #555;
}
.cm-s-ipython span.cm-builtin {
  color: #008000;
}
.cm-s-ipython span.cm-bracket {
  color: #997;
}
.cm-s-ipython span.cm-tag {
  color: #170;
}
.cm-s-ipython span.cm-attribute {
  color: #00c;
}
.cm-s-ipython span.cm-header {
  color: blue;
}
.cm-s-ipython span.cm-quote {
  color: #090;
}
.cm-s-ipython span.cm-link {
  color: #00c;
}
.cm-s-ipython span.cm-error {
  color: #f00;
}
.cm-s-ipython span.cm-tab {
  background: url(data:image/png;base64,iVBORw0KGgoAAAANSUhEUgAAADAAAAAMCAYAAAAkuj5RAAAAAXNSR0IArs4c6QAAAGFJREFUSMft1LsRQFAQheHPowAKoACx3IgEKtaEHujDjORSgWTH/ZOdnZOcM/sgk/kFFWY0qV8foQwS4MKBCS3qR6ixBJvElOobYAtivseIE120FaowJPN75GMu8j/LfMwNjh4HUpwg4LUAAAAASUVORK5CYII=);
  background-position: right;
  background-repeat: no-repeat;
}
div.output_wrapper {
  /* this position must be relative to enable descendents to be absolute within it */
  position: relative;
  /* Old browsers */
  display: -webkit-box;
  -webkit-box-orient: vertical;
  -webkit-box-align: stretch;
  display: -moz-box;
  -moz-box-orient: vertical;
  -moz-box-align: stretch;
  display: box;
  box-orient: vertical;
  box-align: stretch;
  /* Modern browsers */
  display: flex;
  flex-direction: column;
  align-items: stretch;
  z-index: 1;
}
/* class for the output area when it should be height-limited */
div.output_scroll {
  /* ideally, this would be max-height, but FF barfs all over that */
  height: 24em;
  /* FF needs this *and the wrapper* to specify full width, or it will shrinkwrap */
  width: 100%;
  overflow: auto;
  border-radius: 2px;
  -webkit-box-shadow: inset 0 2px 8px rgba(0, 0, 0, 0.8);
  box-shadow: inset 0 2px 8px rgba(0, 0, 0, 0.8);
  display: block;
}
/* output div while it is collapsed */
div.output_collapsed {
  margin: 0px;
  padding: 0px;
  /* Old browsers */
  display: -webkit-box;
  -webkit-box-orient: vertical;
  -webkit-box-align: stretch;
  display: -moz-box;
  -moz-box-orient: vertical;
  -moz-box-align: stretch;
  display: box;
  box-orient: vertical;
  box-align: stretch;
  /* Modern browsers */
  display: flex;
  flex-direction: column;
  align-items: stretch;
}
div.out_prompt_overlay {
  height: 100%;
  padding: 0px 0.4em;
  position: absolute;
  border-radius: 2px;
}
div.out_prompt_overlay:hover {
  /* use inner shadow to get border that is computed the same on WebKit/FF */
  -webkit-box-shadow: inset 0 0 1px #000;
  box-shadow: inset 0 0 1px #000;
  background: rgba(240, 240, 240, 0.5);
}
div.output_prompt {
  color: #D84315;
}
/* This class is the outer container of all output sections. */
div.output_area {
  padding: 0px;
  page-break-inside: avoid;
  /* Old browsers */
  display: -webkit-box;
  -webkit-box-orient: horizontal;
  -webkit-box-align: stretch;
  display: -moz-box;
  -moz-box-orient: horizontal;
  -moz-box-align: stretch;
  display: box;
  box-orient: horizontal;
  box-align: stretch;
  /* Modern browsers */
  display: flex;
  flex-direction: row;
  align-items: stretch;
}
div.output_area .MathJax_Display {
  text-align: left !important;
}
div.output_area .rendered_html table {
  margin-left: 0;
  margin-right: 0;
}
div.output_area .rendered_html img {
  margin-left: 0;
  margin-right: 0;
}
div.output_area img,
div.output_area svg {
  max-width: 100%;
  height: auto;
}
div.output_area img.unconfined,
div.output_area svg.unconfined {
  max-width: none;
}
/* This is needed to protect the pre formating from global settings such
   as that of bootstrap */
.output {
  /* Old browsers */
  display: -webkit-box;
  -webkit-box-orient: vertical;
  -webkit-box-align: stretch;
  display: -moz-box;
  -moz-box-orient: vertical;
  -moz-box-align: stretch;
  display: box;
  box-orient: vertical;
  box-align: stretch;
  /* Modern browsers */
  display: flex;
  flex-direction: column;
  align-items: stretch;
}
@media (max-width: 540px) {
  div.output_area {
    /* Old browsers */
    display: -webkit-box;
    -webkit-box-orient: vertical;
    -webkit-box-align: stretch;
    display: -moz-box;
    -moz-box-orient: vertical;
    -moz-box-align: stretch;
    display: box;
    box-orient: vertical;
    box-align: stretch;
    /* Modern browsers */
    display: flex;
    flex-direction: column;
    align-items: stretch;
  }
}
div.output_area pre {
  margin: 0;
  padding: 0;
  border: 0;
  vertical-align: baseline;
  color: black;
  background-color: transparent;
  border-radius: 0;
}
/* This class is for the output subarea inside the output_area and after
   the prompt div. */
div.output_subarea {
  overflow-x: auto;
  padding: 0.4em;
  /* Old browsers */
  -webkit-box-flex: 1;
  -moz-box-flex: 1;
  box-flex: 1;
  /* Modern browsers */
  flex: 1;
  max-width: calc(100% - 14ex);
}
div.output_scroll div.output_subarea {
  overflow-x: visible;
}
/* The rest of the output_* classes are for special styling of the different
   output types */
/* all text output has this class: */
div.output_text {
  text-align: left;
  color: #000;
  /* This has to match that of the the CodeMirror class line-height below */
  line-height: 1.21429em;
}
/* stdout/stderr are 'text' as well as 'stream', but execute_result/error are *not* streams */
div.output_stderr {
  background: #fdd;
  /* very light red background for stderr */
}
div.output_latex {
  text-align: left;
}
/* Empty output_javascript divs should have no height */
div.output_javascript:empty {
  padding: 0;
}
.js-error {
  color: darkred;
}
/* raw_input styles */
div.raw_input_container {
  line-height: 1.21429em;
  padding-top: 5px;
}
pre.raw_input_prompt {
  /* nothing needed here. */
}
input.raw_input {
  font-family: monospace;
  font-size: inherit;
  color: inherit;
  width: auto;
  /* make sure input baseline aligns with prompt */
  vertical-align: baseline;
  /* padding + margin = 0.5em between prompt and cursor */
  padding: 0em 0.25em;
  margin: 0em 0.25em;
}
input.raw_input:focus {
  box-shadow: none;
}
p.p-space {
  margin-bottom: 10px;
}
div.output_unrecognized {
  padding: 5px;
  font-weight: bold;
  color: red;
}
div.output_unrecognized a {
  color: inherit;
  text-decoration: none;
}
div.output_unrecognized a:hover {
  color: inherit;
  text-decoration: none;
}
.rendered_html {
  color: #000;
  /* any extras will just be numbers: */
}
.rendered_html em {
  font-style: italic;
}
.rendered_html strong {
  font-weight: bold;
}
.rendered_html u {
  text-decoration: underline;
}
.rendered_html :link {
  text-decoration: underline;
}
.rendered_html :visited {
  text-decoration: underline;
}
.rendered_html h1 {
  font-size: 185.7%;
  margin: 1.08em 0 0 0;
  font-weight: bold;
  line-height: 1.0;
}
.rendered_html h2 {
  font-size: 157.1%;
  margin: 1.27em 0 0 0;
  font-weight: bold;
  line-height: 1.0;
}
.rendered_html h3 {
  font-size: 128.6%;
  margin: 1.55em 0 0 0;
  font-weight: bold;
  line-height: 1.0;
}
.rendered_html h4 {
  font-size: 100%;
  margin: 2em 0 0 0;
  font-weight: bold;
  line-height: 1.0;
}
.rendered_html h5 {
  font-size: 100%;
  margin: 2em 0 0 0;
  font-weight: bold;
  line-height: 1.0;
  font-style: italic;
}
.rendered_html h6 {
  font-size: 100%;
  margin: 2em 0 0 0;
  font-weight: bold;
  line-height: 1.0;
  font-style: italic;
}
.rendered_html h1:first-child {
  margin-top: 0.538em;
}
.rendered_html h2:first-child {
  margin-top: 0.636em;
}
.rendered_html h3:first-child {
  margin-top: 0.777em;
}
.rendered_html h4:first-child {
  margin-top: 1em;
}
.rendered_html h5:first-child {
  margin-top: 1em;
}
.rendered_html h6:first-child {
  margin-top: 1em;
}
.rendered_html ul {
  list-style: disc;
  margin: 0em 2em;
  padding-left: 0px;
}
.rendered_html ul ul {
  list-style: square;
  margin: 0em 2em;
}
.rendered_html ul ul ul {
  list-style: circle;
  margin: 0em 2em;
}
.rendered_html ol {
  list-style: decimal;
  margin: 0em 2em;
  padding-left: 0px;
}
.rendered_html ol ol {
  list-style: upper-alpha;
  margin: 0em 2em;
}
.rendered_html ol ol ol {
  list-style: lower-alpha;
  margin: 0em 2em;
}
.rendered_html ol ol ol ol {
  list-style: lower-roman;
  margin: 0em 2em;
}
.rendered_html ol ol ol ol ol {
  list-style: decimal;
  margin: 0em 2em;
}
.rendered_html * + ul {
  margin-top: 1em;
}
.rendered_html * + ol {
  margin-top: 1em;
}
.rendered_html hr {
  color: black;
  background-color: black;
}
.rendered_html pre {
  margin: 1em 2em;
}
.rendered_html pre,
.rendered_html code {
  border: 0;
  background-color: #fff;
  color: #000;
  font-size: 100%;
  padding: 0px;
}
.rendered_html blockquote {
  margin: 1em 2em;
}
.rendered_html table {
  margin-left: auto;
  margin-right: auto;
  border: 1px solid black;
  border-collapse: collapse;
}
.rendered_html tr,
.rendered_html th,
.rendered_html td {
  border: 1px solid black;
  border-collapse: collapse;
  margin: 1em 2em;
}
.rendered_html td,
.rendered_html th {
  text-align: left;
  vertical-align: middle;
  padding: 4px;
}
.rendered_html th {
  font-weight: bold;
}
.rendered_html * + table {
  margin-top: 1em;
}
.rendered_html p {
  text-align: left;
}
.rendered_html * + p {
  margin-top: 1em;
}
.rendered_html img {
  display: block;
  margin-left: auto;
  margin-right: auto;
}
.rendered_html * + img {
  margin-top: 1em;
}
.rendered_html img,
.rendered_html svg {
  max-width: 100%;
  height: auto;
}
.rendered_html img.unconfined,
.rendered_html svg.unconfined {
  max-width: none;
}
div.text_cell {
  /* Old browsers */
  display: -webkit-box;
  -webkit-box-orient: horizontal;
  -webkit-box-align: stretch;
  display: -moz-box;
  -moz-box-orient: horizontal;
  -moz-box-align: stretch;
  display: box;
  box-orient: horizontal;
  box-align: stretch;
  /* Modern browsers */
  display: flex;
  flex-direction: row;
  align-items: stretch;
}
@media (max-width: 540px) {
  div.text_cell > div.prompt {
    display: none;
  }
}
div.text_cell_render {
  /*font-family: "Helvetica Neue", Arial, Helvetica, Geneva, sans-serif;*/
  outline: none;
  resize: none;
  width: inherit;
  border-style: none;
  padding: 0.5em 0.5em 0.5em 0.4em;
  color: #000;
  box-sizing: border-box;
  -moz-box-sizing: border-box;
  -webkit-box-sizing: border-box;
}
a.anchor-link:link {
  text-decoration: none;
  padding: 0px 20px;
  visibility: hidden;
}
h1:hover .anchor-link,
h2:hover .anchor-link,
h3:hover .anchor-link,
h4:hover .anchor-link,
h5:hover .anchor-link,
h6:hover .anchor-link {
  visibility: visible;
}
.text_cell.rendered .input_area {
  display: none;
}
.text_cell.rendered .rendered_html {
  overflow-x: auto;
  overflow-y: hidden;
}
.text_cell.unrendered .text_cell_render {
  display: none;
}
.cm-header-1,
.cm-header-2,
.cm-header-3,
.cm-header-4,
.cm-header-5,
.cm-header-6 {
  font-weight: bold;
  font-family: "Helvetica Neue", Helvetica, Arial, sans-serif;
}
.cm-header-1 {
  font-size: 185.7%;
}
.cm-header-2 {
  font-size: 157.1%;
}
.cm-header-3 {
  font-size: 128.6%;
}
.cm-header-4 {
  font-size: 110%;
}
.cm-header-5 {
  font-size: 100%;
  font-style: italic;
}
.cm-header-6 {
  font-size: 100%;
  font-style: italic;
}
/*!
*
* IPython notebook webapp
*
*/
@media (max-width: 767px) {
  .notebook_app {
    padding-left: 0px;
    padding-right: 0px;
  }
}
#ipython-main-app {
  box-sizing: border-box;
  -moz-box-sizing: border-box;
  -webkit-box-sizing: border-box;
  height: 100%;
}
div#notebook_panel {
  margin: 0px;
  padding: 0px;
  box-sizing: border-box;
  -moz-box-sizing: border-box;
  -webkit-box-sizing: border-box;
  height: 100%;
}
div#notebook {
  font-size: 14px;
  line-height: 20px;
  overflow-y: hidden;
  overflow-x: auto;
  width: 100%;
  /* This spaces the page away from the edge of the notebook area */
  padding-top: 20px;
  margin: 0px;
  outline: none;
  box-sizing: border-box;
  -moz-box-sizing: border-box;
  -webkit-box-sizing: border-box;
  min-height: 100%;
}
@media not print {
  #notebook-container {
    padding: 15px;
    background-color: #fff;
    min-height: 0;
    -webkit-box-shadow: 0px 0px 12px 1px rgba(87, 87, 87, 0.2);
    box-shadow: 0px 0px 12px 1px rgba(87, 87, 87, 0.2);
  }
}
@media print {
  #notebook-container {
    width: 100%;
  }
}
div.ui-widget-content {
  border: 1px solid #ababab;
  outline: none;
}
pre.dialog {
  background-color: #f7f7f7;
  border: 1px solid #ddd;
  border-radius: 2px;
  padding: 0.4em;
  padding-left: 2em;
}
p.dialog {
  padding: 0.2em;
}
/* Word-wrap output correctly.  This is the CSS3 spelling, though Firefox seems
   to not honor it correctly.  Webkit browsers (Chrome, rekonq, Safari) do.
 */
pre,
code,
kbd,
samp {
  white-space: pre-wrap;
}
#fonttest {
  font-family: monospace;
}
p {
  margin-bottom: 0;
}
.end_space {
  min-height: 100px;
  transition: height .2s ease;
}
.notebook_app > #header {
  -webkit-box-shadow: 0px 0px 12px 1px rgba(87, 87, 87, 0.2);
  box-shadow: 0px 0px 12px 1px rgba(87, 87, 87, 0.2);
}
@media not print {
  .notebook_app {
    background-color: #EEE;
  }
}
kbd {
  border-style: solid;
  border-width: 1px;
  box-shadow: none;
  margin: 2px;
  padding-left: 2px;
  padding-right: 2px;
  padding-top: 1px;
  padding-bottom: 1px;
}
/* CSS for the cell toolbar */
.celltoolbar {
  border: thin solid #CFCFCF;
  border-bottom: none;
  background: #EEE;
  border-radius: 2px 2px 0px 0px;
  width: 100%;
  height: 29px;
  padding-right: 4px;
  /* Old browsers */
  display: -webkit-box;
  -webkit-box-orient: horizontal;
  -webkit-box-align: stretch;
  display: -moz-box;
  -moz-box-orient: horizontal;
  -moz-box-align: stretch;
  display: box;
  box-orient: horizontal;
  box-align: stretch;
  /* Modern browsers */
  display: flex;
  flex-direction: row;
  align-items: stretch;
  /* Old browsers */
  -webkit-box-pack: end;
  -moz-box-pack: end;
  box-pack: end;
  /* Modern browsers */
  justify-content: flex-end;
  display: -webkit-flex;
}
@media print {
  .celltoolbar {
    display: none;
  }
}
.ctb_hideshow {
  display: none;
  vertical-align: bottom;
}
/* ctb_show is added to the ctb_hideshow div to show the cell toolbar.
   Cell toolbars are only shown when the ctb_global_show class is also set.
*/
.ctb_global_show .ctb_show.ctb_hideshow {
  display: block;
}
.ctb_global_show .ctb_show + .input_area,
.ctb_global_show .ctb_show + div.text_cell_input,
.ctb_global_show .ctb_show ~ div.text_cell_render {
  border-top-right-radius: 0px;
  border-top-left-radius: 0px;
}
.ctb_global_show .ctb_show ~ div.text_cell_render {
  border: 1px solid #cfcfcf;
}
.celltoolbar {
  font-size: 87%;
  padding-top: 3px;
}
.celltoolbar select {
  display: block;
  width: 100%;
  height: 32px;
  padding: 6px 12px;
  font-size: 13px;
  line-height: 1.42857143;
  color: #555555;
  background-color: #fff;
  background-image: none;
  border: 1px solid #ccc;
  border-radius: 2px;
  -webkit-box-shadow: inset 0 1px 1px rgba(0, 0, 0, 0.075);
  box-shadow: inset 0 1px 1px rgba(0, 0, 0, 0.075);
  -webkit-transition: border-color ease-in-out .15s, box-shadow ease-in-out .15s;
  -o-transition: border-color ease-in-out .15s, box-shadow ease-in-out .15s;
  transition: border-color ease-in-out .15s, box-shadow ease-in-out .15s;
  height: 30px;
  padding: 5px 10px;
  font-size: 12px;
  line-height: 1.5;
  border-radius: 1px;
  width: inherit;
  font-size: inherit;
  height: 22px;
  padding: 0px;
  display: inline-block;
}
.celltoolbar select:focus {
  border-color: #66afe9;
  outline: 0;
  -webkit-box-shadow: inset 0 1px 1px rgba(0,0,0,.075), 0 0 8px rgba(102, 175, 233, 0.6);
  box-shadow: inset 0 1px 1px rgba(0,0,0,.075), 0 0 8px rgba(102, 175, 233, 0.6);
}
.celltoolbar select::-moz-placeholder {
  color: #999;
  opacity: 1;
}
.celltoolbar select:-ms-input-placeholder {
  color: #999;
}
.celltoolbar select::-webkit-input-placeholder {
  color: #999;
}
.celltoolbar select::-ms-expand {
  border: 0;
  background-color: transparent;
}
.celltoolbar select[disabled],
.celltoolbar select[readonly],
fieldset[disabled] .celltoolbar select {
  background-color: #eeeeee;
  opacity: 1;
}
.celltoolbar select[disabled],
fieldset[disabled] .celltoolbar select {
  cursor: not-allowed;
}
textarea.celltoolbar select {
  height: auto;
}
select.celltoolbar select {
  height: 30px;
  line-height: 30px;
}
textarea.celltoolbar select,
select[multiple].celltoolbar select {
  height: auto;
}
.celltoolbar label {
  margin-left: 5px;
  margin-right: 5px;
}
.completions {
  position: absolute;
  z-index: 110;
  overflow: hidden;
  border: 1px solid #ababab;
  border-radius: 2px;
  -webkit-box-shadow: 0px 6px 10px -1px #adadad;
  box-shadow: 0px 6px 10px -1px #adadad;
  line-height: 1;
}
.completions select {
  background: white;
  outline: none;
  border: none;
  padding: 0px;
  margin: 0px;
  overflow: auto;
  font-family: monospace;
  font-size: 110%;
  color: #000;
  width: auto;
}
.completions select option.context {
  color: #286090;
}
#kernel_logo_widget {
  float: right !important;
  float: right;
}
#kernel_logo_widget .current_kernel_logo {
  display: none;
  margin-top: -1px;
  margin-bottom: -1px;
  width: 32px;
  height: 32px;
}
#menubar {
  box-sizing: border-box;
  -moz-box-sizing: border-box;
  -webkit-box-sizing: border-box;
  margin-top: 1px;
}
#menubar .navbar {
  border-top: 1px;
  border-radius: 0px 0px 2px 2px;
  margin-bottom: 0px;
}
#menubar .navbar-toggle {
  float: left;
  padding-top: 7px;
  padding-bottom: 7px;
  border: none;
}
#menubar .navbar-collapse {
  clear: left;
}
.nav-wrapper {
  border-bottom: 1px solid #e7e7e7;
}
i.menu-icon {
  padding-top: 4px;
}
ul#help_menu li a {
  overflow: hidden;
  padding-right: 2.2em;
}
ul#help_menu li a i {
  margin-right: -1.2em;
}
.dropdown-submenu {
  position: relative;
}
.dropdown-submenu > .dropdown-menu {
  top: 0;
  left: 100%;
  margin-top: -6px;
  margin-left: -1px;
}
.dropdown-submenu:hover > .dropdown-menu {
  display: block;
}
.dropdown-submenu > a:after {
  display: inline-block;
  font: normal normal normal 14px/1 FontAwesome;
  font-size: inherit;
  text-rendering: auto;
  -webkit-font-smoothing: antialiased;
  -moz-osx-font-smoothing: grayscale;
  display: block;
  content: "\f0da";
  float: right;
  color: #333333;
  margin-top: 2px;
  margin-right: -10px;
}
.dropdown-submenu > a:after.pull-left {
  margin-right: .3em;
}
.dropdown-submenu > a:after.pull-right {
  margin-left: .3em;
}
.dropdown-submenu:hover > a:after {
  color: #262626;
}
.dropdown-submenu.pull-left {
  float: none;
}
.dropdown-submenu.pull-left > .dropdown-menu {
  left: -100%;
  margin-left: 10px;
}
#notification_area {
  float: right !important;
  float: right;
  z-index: 10;
}
.indicator_area {
  float: right !important;
  float: right;
  color: #777;
  margin-left: 5px;
  margin-right: 5px;
  width: 11px;
  z-index: 10;
  text-align: center;
  width: auto;
}
#kernel_indicator {
  float: right !important;
  float: right;
  color: #777;
  margin-left: 5px;
  margin-right: 5px;
  width: 11px;
  z-index: 10;
  text-align: center;
  width: auto;
  border-left: 1px solid;
}
#kernel_indicator .kernel_indicator_name {
  padding-left: 5px;
  padding-right: 5px;
}
#modal_indicator {
  float: right !important;
  float: right;
  color: #777;
  margin-left: 5px;
  margin-right: 5px;
  width: 11px;
  z-index: 10;
  text-align: center;
  width: auto;
}
#readonly-indicator {
  float: right !important;
  float: right;
  color: #777;
  margin-left: 5px;
  margin-right: 5px;
  width: 11px;
  z-index: 10;
  text-align: center;
  width: auto;
  margin-top: 2px;
  margin-bottom: 0px;
  margin-left: 0px;
  margin-right: 0px;
  display: none;
}
.modal_indicator:before {
  width: 1.28571429em;
  text-align: center;
}
.edit_mode .modal_indicator:before {
  display: inline-block;
  font: normal normal normal 14px/1 FontAwesome;
  font-size: inherit;
  text-rendering: auto;
  -webkit-font-smoothing: antialiased;
  -moz-osx-font-smoothing: grayscale;
  content: "\f040";
}
.edit_mode .modal_indicator:before.pull-left {
  margin-right: .3em;
}
.edit_mode .modal_indicator:before.pull-right {
  margin-left: .3em;
}
.command_mode .modal_indicator:before {
  display: inline-block;
  font: normal normal normal 14px/1 FontAwesome;
  font-size: inherit;
  text-rendering: auto;
  -webkit-font-smoothing: antialiased;
  -moz-osx-font-smoothing: grayscale;
  content: ' ';
}
.command_mode .modal_indicator:before.pull-left {
  margin-right: .3em;
}
.command_mode .modal_indicator:before.pull-right {
  margin-left: .3em;
}
.kernel_idle_icon:before {
  display: inline-block;
  font: normal normal normal 14px/1 FontAwesome;
  font-size: inherit;
  text-rendering: auto;
  -webkit-font-smoothing: antialiased;
  -moz-osx-font-smoothing: grayscale;
  content: "\f10c";
}
.kernel_idle_icon:before.pull-left {
  margin-right: .3em;
}
.kernel_idle_icon:before.pull-right {
  margin-left: .3em;
}
.kernel_busy_icon:before {
  display: inline-block;
  font: normal normal normal 14px/1 FontAwesome;
  font-size: inherit;
  text-rendering: auto;
  -webkit-font-smoothing: antialiased;
  -moz-osx-font-smoothing: grayscale;
  content: "\f111";
}
.kernel_busy_icon:before.pull-left {
  margin-right: .3em;
}
.kernel_busy_icon:before.pull-right {
  margin-left: .3em;
}
.kernel_dead_icon:before {
  display: inline-block;
  font: normal normal normal 14px/1 FontAwesome;
  font-size: inherit;
  text-rendering: auto;
  -webkit-font-smoothing: antialiased;
  -moz-osx-font-smoothing: grayscale;
  content: "\f1e2";
}
.kernel_dead_icon:before.pull-left {
  margin-right: .3em;
}
.kernel_dead_icon:before.pull-right {
  margin-left: .3em;
}
.kernel_disconnected_icon:before {
  display: inline-block;
  font: normal normal normal 14px/1 FontAwesome;
  font-size: inherit;
  text-rendering: auto;
  -webkit-font-smoothing: antialiased;
  -moz-osx-font-smoothing: grayscale;
  content: "\f127";
}
.kernel_disconnected_icon:before.pull-left {
  margin-right: .3em;
}
.kernel_disconnected_icon:before.pull-right {
  margin-left: .3em;
}
.notification_widget {
  color: #777;
  z-index: 10;
  background: rgba(240, 240, 240, 0.5);
  margin-right: 4px;
  color: #333;
  background-color: #fff;
  border-color: #ccc;
}
.notification_widget:focus,
.notification_widget.focus {
  color: #333;
  background-color: #e6e6e6;
  border-color: #8c8c8c;
}
.notification_widget:hover {
  color: #333;
  background-color: #e6e6e6;
  border-color: #adadad;
}
.notification_widget:active,
.notification_widget.active,
.open > .dropdown-toggle.notification_widget {
  color: #333;
  background-color: #e6e6e6;
  border-color: #adadad;
}
.notification_widget:active:hover,
.notification_widget.active:hover,
.open > .dropdown-toggle.notification_widget:hover,
.notification_widget:active:focus,
.notification_widget.active:focus,
.open > .dropdown-toggle.notification_widget:focus,
.notification_widget:active.focus,
.notification_widget.active.focus,
.open > .dropdown-toggle.notification_widget.focus {
  color: #333;
  background-color: #d4d4d4;
  border-color: #8c8c8c;
}
.notification_widget:active,
.notification_widget.active,
.open > .dropdown-toggle.notification_widget {
  background-image: none;
}
.notification_widget.disabled:hover,
.notification_widget[disabled]:hover,
fieldset[disabled] .notification_widget:hover,
.notification_widget.disabled:focus,
.notification_widget[disabled]:focus,
fieldset[disabled] .notification_widget:focus,
.notification_widget.disabled.focus,
.notification_widget[disabled].focus,
fieldset[disabled] .notification_widget.focus {
  background-color: #fff;
  border-color: #ccc;
}
.notification_widget .badge {
  color: #fff;
  background-color: #333;
}
.notification_widget.warning {
  color: #fff;
  background-color: #f0ad4e;
  border-color: #eea236;
}
.notification_widget.warning:focus,
.notification_widget.warning.focus {
  color: #fff;
  background-color: #ec971f;
  border-color: #985f0d;
}
.notification_widget.warning:hover {
  color: #fff;
  background-color: #ec971f;
  border-color: #d58512;
}
.notification_widget.warning:active,
.notification_widget.warning.active,
.open > .dropdown-toggle.notification_widget.warning {
  color: #fff;
  background-color: #ec971f;
  border-color: #d58512;
}
.notification_widget.warning:active:hover,
.notification_widget.warning.active:hover,
.open > .dropdown-toggle.notification_widget.warning:hover,
.notification_widget.warning:active:focus,
.notification_widget.warning.active:focus,
.open > .dropdown-toggle.notification_widget.warning:focus,
.notification_widget.warning:active.focus,
.notification_widget.warning.active.focus,
.open > .dropdown-toggle.notification_widget.warning.focus {
  color: #fff;
  background-color: #d58512;
  border-color: #985f0d;
}
.notification_widget.warning:active,
.notification_widget.warning.active,
.open > .dropdown-toggle.notification_widget.warning {
  background-image: none;
}
.notification_widget.warning.disabled:hover,
.notification_widget.warning[disabled]:hover,
fieldset[disabled] .notification_widget.warning:hover,
.notification_widget.warning.disabled:focus,
.notification_widget.warning[disabled]:focus,
fieldset[disabled] .notification_widget.warning:focus,
.notification_widget.warning.disabled.focus,
.notification_widget.warning[disabled].focus,
fieldset[disabled] .notification_widget.warning.focus {
  background-color: #f0ad4e;
  border-color: #eea236;
}
.notification_widget.warning .badge {
  color: #f0ad4e;
  background-color: #fff;
}
.notification_widget.success {
  color: #fff;
  background-color: #5cb85c;
  border-color: #4cae4c;
}
.notification_widget.success:focus,
.notification_widget.success.focus {
  color: #fff;
  background-color: #449d44;
  border-color: #255625;
}
.notification_widget.success:hover {
  color: #fff;
  background-color: #449d44;
  border-color: #398439;
}
.notification_widget.success:active,
.notification_widget.success.active,
.open > .dropdown-toggle.notification_widget.success {
  color: #fff;
  background-color: #449d44;
  border-color: #398439;
}
.notification_widget.success:active:hover,
.notification_widget.success.active:hover,
.open > .dropdown-toggle.notification_widget.success:hover,
.notification_widget.success:active:focus,
.notification_widget.success.active:focus,
.open > .dropdown-toggle.notification_widget.success:focus,
.notification_widget.success:active.focus,
.notification_widget.success.active.focus,
.open > .dropdown-toggle.notification_widget.success.focus {
  color: #fff;
  background-color: #398439;
  border-color: #255625;
}
.notification_widget.success:active,
.notification_widget.success.active,
.open > .dropdown-toggle.notification_widget.success {
  background-image: none;
}
.notification_widget.success.disabled:hover,
.notification_widget.success[disabled]:hover,
fieldset[disabled] .notification_widget.success:hover,
.notification_widget.success.disabled:focus,
.notification_widget.success[disabled]:focus,
fieldset[disabled] .notification_widget.success:focus,
.notification_widget.success.disabled.focus,
.notification_widget.success[disabled].focus,
fieldset[disabled] .notification_widget.success.focus {
  background-color: #5cb85c;
  border-color: #4cae4c;
}
.notification_widget.success .badge {
  color: #5cb85c;
  background-color: #fff;
}
.notification_widget.info {
  color: #fff;
  background-color: #5bc0de;
  border-color: #46b8da;
}
.notification_widget.info:focus,
.notification_widget.info.focus {
  color: #fff;
  background-color: #31b0d5;
  border-color: #1b6d85;
}
.notification_widget.info:hover {
  color: #fff;
  background-color: #31b0d5;
  border-color: #269abc;
}
.notification_widget.info:active,
.notification_widget.info.active,
.open > .dropdown-toggle.notification_widget.info {
  color: #fff;
  background-color: #31b0d5;
  border-color: #269abc;
}
.notification_widget.info:active:hover,
.notification_widget.info.active:hover,
.open > .dropdown-toggle.notification_widget.info:hover,
.notification_widget.info:active:focus,
.notification_widget.info.active:focus,
.open > .dropdown-toggle.notification_widget.info:focus,
.notification_widget.info:active.focus,
.notification_widget.info.active.focus,
.open > .dropdown-toggle.notification_widget.info.focus {
  color: #fff;
  background-color: #269abc;
  border-color: #1b6d85;
}
.notification_widget.info:active,
.notification_widget.info.active,
.open > .dropdown-toggle.notification_widget.info {
  background-image: none;
}
.notification_widget.info.disabled:hover,
.notification_widget.info[disabled]:hover,
fieldset[disabled] .notification_widget.info:hover,
.notification_widget.info.disabled:focus,
.notification_widget.info[disabled]:focus,
fieldset[disabled] .notification_widget.info:focus,
.notification_widget.info.disabled.focus,
.notification_widget.info[disabled].focus,
fieldset[disabled] .notification_widget.info.focus {
  background-color: #5bc0de;
  border-color: #46b8da;
}
.notification_widget.info .badge {
  color: #5bc0de;
  background-color: #fff;
}
.notification_widget.danger {
  color: #fff;
  background-color: #d9534f;
  border-color: #d43f3a;
}
.notification_widget.danger:focus,
.notification_widget.danger.focus {
  color: #fff;
  background-color: #c9302c;
  border-color: #761c19;
}
.notification_widget.danger:hover {
  color: #fff;
  background-color: #c9302c;
  border-color: #ac2925;
}
.notification_widget.danger:active,
.notification_widget.danger.active,
.open > .dropdown-toggle.notification_widget.danger {
  color: #fff;
  background-color: #c9302c;
  border-color: #ac2925;
}
.notification_widget.danger:active:hover,
.notification_widget.danger.active:hover,
.open > .dropdown-toggle.notification_widget.danger:hover,
.notification_widget.danger:active:focus,
.notification_widget.danger.active:focus,
.open > .dropdown-toggle.notification_widget.danger:focus,
.notification_widget.danger:active.focus,
.notification_widget.danger.active.focus,
.open > .dropdown-toggle.notification_widget.danger.focus {
  color: #fff;
  background-color: #ac2925;
  border-color: #761c19;
}
.notification_widget.danger:active,
.notification_widget.danger.active,
.open > .dropdown-toggle.notification_widget.danger {
  background-image: none;
}
.notification_widget.danger.disabled:hover,
.notification_widget.danger[disabled]:hover,
fieldset[disabled] .notification_widget.danger:hover,
.notification_widget.danger.disabled:focus,
.notification_widget.danger[disabled]:focus,
fieldset[disabled] .notification_widget.danger:focus,
.notification_widget.danger.disabled.focus,
.notification_widget.danger[disabled].focus,
fieldset[disabled] .notification_widget.danger.focus {
  background-color: #d9534f;
  border-color: #d43f3a;
}
.notification_widget.danger .badge {
  color: #d9534f;
  background-color: #fff;
}
div#pager {
  background-color: #fff;
  font-size: 14px;
  line-height: 20px;
  overflow: hidden;
  display: none;
  position: fixed;
  bottom: 0px;
  width: 100%;
  max-height: 50%;
  padding-top: 8px;
  -webkit-box-shadow: 0px 0px 12px 1px rgba(87, 87, 87, 0.2);
  box-shadow: 0px 0px 12px 1px rgba(87, 87, 87, 0.2);
  /* Display over codemirror */
  z-index: 100;
  /* Hack which prevents jquery ui resizable from changing top. */
  top: auto !important;
}
div#pager pre {
  line-height: 1.21429em;
  color: #000;
  background-color: #f7f7f7;
  padding: 0.4em;
}
div#pager #pager-button-area {
  position: absolute;
  top: 8px;
  right: 20px;
}
div#pager #pager-contents {
  position: relative;
  overflow: auto;
  width: 100%;
  height: 100%;
}
div#pager #pager-contents #pager-container {
  position: relative;
  padding: 15px 0px;
  box-sizing: border-box;
  -moz-box-sizing: border-box;
  -webkit-box-sizing: border-box;
}
div#pager .ui-resizable-handle {
  top: 0px;
  height: 8px;
  background: #f7f7f7;
  border-top: 1px solid #cfcfcf;
  border-bottom: 1px solid #cfcfcf;
  /* This injects handle bars (a short, wide = symbol) for 
        the resize handle. */
}
div#pager .ui-resizable-handle::after {
  content: '';
  top: 2px;
  left: 50%;
  height: 3px;
  width: 30px;
  margin-left: -15px;
  position: absolute;
  border-top: 1px solid #cfcfcf;
}
.quickhelp {
  /* Old browsers */
  display: -webkit-box;
  -webkit-box-orient: horizontal;
  -webkit-box-align: stretch;
  display: -moz-box;
  -moz-box-orient: horizontal;
  -moz-box-align: stretch;
  display: box;
  box-orient: horizontal;
  box-align: stretch;
  /* Modern browsers */
  display: flex;
  flex-direction: row;
  align-items: stretch;
  line-height: 1.8em;
}
.shortcut_key {
  display: inline-block;
  width: 21ex;
  text-align: right;
  font-family: monospace;
}
.shortcut_descr {
  display: inline-block;
  /* Old browsers */
  -webkit-box-flex: 1;
  -moz-box-flex: 1;
  box-flex: 1;
  /* Modern browsers */
  flex: 1;
}
span.save_widget {
  margin-top: 6px;
}
span.save_widget span.filename {
  height: 1em;
  line-height: 1em;
  padding: 3px;
  margin-left: 16px;
  border: none;
  font-size: 146.5%;
  border-radius: 2px;
}
span.save_widget span.filename:hover {
  background-color: #e6e6e6;
}
span.checkpoint_status,
span.autosave_status {
  font-size: small;
}
@media (max-width: 767px) {
  span.save_widget {
    font-size: small;
  }
  span.checkpoint_status,
  span.autosave_status {
    display: none;
  }
}
@media (min-width: 768px) and (max-width: 991px) {
  span.checkpoint_status {
    display: none;
  }
  span.autosave_status {
    font-size: x-small;
  }
}
.toolbar {
  padding: 0px;
  margin-left: -5px;
  margin-top: 2px;
  margin-bottom: 5px;
  box-sizing: border-box;
  -moz-box-sizing: border-box;
  -webkit-box-sizing: border-box;
}
.toolbar select,
.toolbar label {
  width: auto;
  vertical-align: middle;
  margin-right: 2px;
  margin-bottom: 0px;
  display: inline;
  font-size: 92%;
  margin-left: 0.3em;
  margin-right: 0.3em;
  padding: 0px;
  padding-top: 3px;
}
.toolbar .btn {
  padding: 2px 8px;
}
.toolbar .btn-group {
  margin-top: 0px;
  margin-left: 5px;
}
#maintoolbar {
  margin-bottom: -3px;
  margin-top: -8px;
  border: 0px;
  min-height: 27px;
  margin-left: 0px;
  padding-top: 11px;
  padding-bottom: 3px;
}
#maintoolbar .navbar-text {
  float: none;
  vertical-align: middle;
  text-align: right;
  margin-left: 5px;
  margin-right: 0px;
  margin-top: 0px;
}
.select-xs {
  height: 24px;
}
.pulse,
.dropdown-menu > li > a.pulse,
li.pulse > a.dropdown-toggle,
li.pulse.open > a.dropdown-toggle {
  background-color: #F37626;
  color: white;
}
/**
 * Primary styles
 *
 * Author: Jupyter Development Team
 */
/** WARNING IF YOU ARE EDITTING THIS FILE, if this is a .css file, It has a lot
 * of chance of beeing generated from the ../less/[samename].less file, you can
 * try to get back the less file by reverting somme commit in history
 **/
/*
 * We'll try to get something pretty, so we
 * have some strange css to have the scroll bar on
 * the left with fix button on the top right of the tooltip
 */
@-moz-keyframes fadeOut {
  from {
    opacity: 1;
  }
  to {
    opacity: 0;
  }
}
@-webkit-keyframes fadeOut {
  from {
    opacity: 1;
  }
  to {
    opacity: 0;
  }
}
@-moz-keyframes fadeIn {
  from {
    opacity: 0;
  }
  to {
    opacity: 1;
  }
}
@-webkit-keyframes fadeIn {
  from {
    opacity: 0;
  }
  to {
    opacity: 1;
  }
}
/*properties of tooltip after "expand"*/
.bigtooltip {
  overflow: auto;
  height: 200px;
  -webkit-transition-property: height;
  -webkit-transition-duration: 500ms;
  -moz-transition-property: height;
  -moz-transition-duration: 500ms;
  transition-property: height;
  transition-duration: 500ms;
}
/*properties of tooltip before "expand"*/
.smalltooltip {
  -webkit-transition-property: height;
  -webkit-transition-duration: 500ms;
  -moz-transition-property: height;
  -moz-transition-duration: 500ms;
  transition-property: height;
  transition-duration: 500ms;
  text-overflow: ellipsis;
  overflow: hidden;
  height: 80px;
}
.tooltipbuttons {
  position: absolute;
  padding-right: 15px;
  top: 0px;
  right: 0px;
}
.tooltiptext {
  /*avoid the button to overlap on some docstring*/
  padding-right: 30px;
}
.ipython_tooltip {
  max-width: 700px;
  /*fade-in animation when inserted*/
  -webkit-animation: fadeOut 400ms;
  -moz-animation: fadeOut 400ms;
  animation: fadeOut 400ms;
  -webkit-animation: fadeIn 400ms;
  -moz-animation: fadeIn 400ms;
  animation: fadeIn 400ms;
  vertical-align: middle;
  background-color: #f7f7f7;
  overflow: visible;
  border: #ababab 1px solid;
  outline: none;
  padding: 3px;
  margin: 0px;
  padding-left: 7px;
  font-family: monospace;
  min-height: 50px;
  -moz-box-shadow: 0px 6px 10px -1px #adadad;
  -webkit-box-shadow: 0px 6px 10px -1px #adadad;
  box-shadow: 0px 6px 10px -1px #adadad;
  border-radius: 2px;
  position: absolute;
  z-index: 1000;
}
.ipython_tooltip a {
  float: right;
}
.ipython_tooltip .tooltiptext pre {
  border: 0;
  border-radius: 0;
  font-size: 100%;
  background-color: #f7f7f7;
}
.pretooltiparrow {
  left: 0px;
  margin: 0px;
  top: -16px;
  width: 40px;
  height: 16px;
  overflow: hidden;
  position: absolute;
}
.pretooltiparrow:before {
  background-color: #f7f7f7;
  border: 1px #ababab solid;
  z-index: 11;
  content: "";
  position: absolute;
  left: 15px;
  top: 10px;
  width: 25px;
  height: 25px;
  -webkit-transform: rotate(45deg);
  -moz-transform: rotate(45deg);
  -ms-transform: rotate(45deg);
  -o-transform: rotate(45deg);
}
ul.typeahead-list i {
  margin-left: -10px;
  width: 18px;
}
ul.typeahead-list {
  max-height: 80vh;
  overflow: auto;
}
ul.typeahead-list > li > a {
  /** Firefox bug **/
  /* see https://github.com/jupyter/notebook/issues/559 */
  white-space: normal;
}
.cmd-palette .modal-body {
  padding: 7px;
}
.cmd-palette form {
  background: white;
}
.cmd-palette input {
  outline: none;
}
.no-shortcut {
  display: none;
}
.command-shortcut:before {
  content: "(command)";
  padding-right: 3px;
  color: #777777;
}
.edit-shortcut:before {
  content: "(edit)";
  padding-right: 3px;
  color: #777777;
}
#find-and-replace #replace-preview .match,
#find-and-replace #replace-preview .insert {
  background-color: #BBDEFB;
  border-color: #90CAF9;
  border-style: solid;
  border-width: 1px;
  border-radius: 0px;
}
#find-and-replace #replace-preview .replace .match {
  background-color: #FFCDD2;
  border-color: #EF9A9A;
  border-radius: 0px;
}
#find-and-replace #replace-preview .replace .insert {
  background-color: #C8E6C9;
  border-color: #A5D6A7;
  border-radius: 0px;
}
#find-and-replace #replace-preview {
  max-height: 60vh;
  overflow: auto;
}
#find-and-replace #replace-preview pre {
  padding: 5px 10px;
}
.terminal-app {
  background: #EEE;
}
.terminal-app #header {
  background: #fff;
  -webkit-box-shadow: 0px 0px 12px 1px rgba(87, 87, 87, 0.2);
  box-shadow: 0px 0px 12px 1px rgba(87, 87, 87, 0.2);
}
.terminal-app .terminal {
  width: 100%;
  float: left;
  font-family: monospace;
  color: white;
  background: black;
  padding: 0.4em;
  border-radius: 2px;
  -webkit-box-shadow: 0px 0px 12px 1px rgba(87, 87, 87, 0.4);
  box-shadow: 0px 0px 12px 1px rgba(87, 87, 87, 0.4);
}
.terminal-app .terminal,
.terminal-app .terminal dummy-screen {
  line-height: 1em;
  font-size: 14px;
}
.terminal-app .terminal .xterm-rows {
  padding: 10px;
}
.terminal-app .terminal-cursor {
  color: black;
  background: white;
}
.terminal-app #terminado-container {
  margin-top: 20px;
}
/*# sourceMappingURL=style.min.css.map */
    </style>
<style type="text/css">
    .highlight .hll { background-color: #ffffcc }
.highlight  { background: #f8f8f8; }
.highlight .c { color: #408080; font-style: italic } /* Comment */
.highlight .err { border: 1px solid #FF0000 } /* Error */
.highlight .k { color: #008000; font-weight: bold } /* Keyword */
.highlight .o { color: #666666 } /* Operator */
.highlight .ch { color: #408080; font-style: italic } /* Comment.Hashbang */
.highlight .cm { color: #408080; font-style: italic } /* Comment.Multiline */
.highlight .cp { color: #BC7A00 } /* Comment.Preproc */
.highlight .cpf { color: #408080; font-style: italic } /* Comment.PreprocFile */
.highlight .c1 { color: #408080; font-style: italic } /* Comment.Single */
.highlight .cs { color: #408080; font-style: italic } /* Comment.Special */
.highlight .gd { color: #A00000 } /* Generic.Deleted */
.highlight .ge { font-style: italic } /* Generic.Emph */
.highlight .gr { color: #FF0000 } /* Generic.Error */
.highlight .gh { color: #000080; font-weight: bold } /* Generic.Heading */
.highlight .gi { color: #00A000 } /* Generic.Inserted */
.highlight .go { color: #888888 } /* Generic.Output */
.highlight .gp { color: #000080; font-weight: bold } /* Generic.Prompt */
.highlight .gs { font-weight: bold } /* Generic.Strong */
.highlight .gu { color: #800080; font-weight: bold } /* Generic.Subheading */
.highlight .gt { color: #0044DD } /* Generic.Traceback */
.highlight .kc { color: #008000; font-weight: bold } /* Keyword.Constant */
.highlight .kd { color: #008000; font-weight: bold } /* Keyword.Declaration */
.highlight .kn { color: #008000; font-weight: bold } /* Keyword.Namespace */
.highlight .kp { color: #008000 } /* Keyword.Pseudo */
.highlight .kr { color: #008000; font-weight: bold } /* Keyword.Reserved */
.highlight .kt { color: #B00040 } /* Keyword.Type */
.highlight .m { color: #666666 } /* Literal.Number */
.highlight .s { color: #BA2121 } /* Literal.String */
.highlight .na { color: #7D9029 } /* Name.Attribute */
.highlight .nb { color: #008000 } /* Name.Builtin */
.highlight .nc { color: #0000FF; font-weight: bold } /* Name.Class */
.highlight .no { color: #880000 } /* Name.Constant */
.highlight .nd { color: #AA22FF } /* Name.Decorator */
.highlight .ni { color: #999999; font-weight: bold } /* Name.Entity */
.highlight .ne { color: #D2413A; font-weight: bold } /* Name.Exception */
.highlight .nf { color: #0000FF } /* Name.Function */
.highlight .nl { color: #A0A000 } /* Name.Label */
.highlight .nn { color: #0000FF; font-weight: bold } /* Name.Namespace */
.highlight .nt { color: #008000; font-weight: bold } /* Name.Tag */
.highlight .nv { color: #19177C } /* Name.Variable */
.highlight .ow { color: #AA22FF; font-weight: bold } /* Operator.Word */
.highlight .w { color: #bbbbbb } /* Text.Whitespace */
.highlight .mb { color: #666666 } /* Literal.Number.Bin */
.highlight .mf { color: #666666 } /* Literal.Number.Float */
.highlight .mh { color: #666666 } /* Literal.Number.Hex */
.highlight .mi { color: #666666 } /* Literal.Number.Integer */
.highlight .mo { color: #666666 } /* Literal.Number.Oct */
.highlight .sa { color: #BA2121 } /* Literal.String.Affix */
.highlight .sb { color: #BA2121 } /* Literal.String.Backtick */
.highlight .sc { color: #BA2121 } /* Literal.String.Char */
.highlight .dl { color: #BA2121 } /* Literal.String.Delimiter */
.highlight .sd { color: #BA2121; font-style: italic } /* Literal.String.Doc */
.highlight .s2 { color: #BA2121 } /* Literal.String.Double */
.highlight .se { color: #BB6622; font-weight: bold } /* Literal.String.Escape */
.highlight .sh { color: #BA2121 } /* Literal.String.Heredoc */
.highlight .si { color: #BB6688; font-weight: bold } /* Literal.String.Interpol */
.highlight .sx { color: #008000 } /* Literal.String.Other */
.highlight .sr { color: #BB6688 } /* Literal.String.Regex */
.highlight .s1 { color: #BA2121 } /* Literal.String.Single */
.highlight .ss { color: #19177C } /* Literal.String.Symbol */
.highlight .bp { color: #008000 } /* Name.Builtin.Pseudo */
.highlight .fm { color: #0000FF } /* Name.Function.Magic */
.highlight .vc { color: #19177C } /* Name.Variable.Class */
.highlight .vg { color: #19177C } /* Name.Variable.Global */
.highlight .vi { color: #19177C } /* Name.Variable.Instance */
.highlight .vm { color: #19177C } /* Name.Variable.Magic */
.highlight .il { color: #666666 } /* Literal.Number.Integer.Long */
    </style>
<style type="text/css">
    
/* Temporary definitions which will become obsolete with Notebook release 5.0 */
.ansi-black-fg { color: #3E424D; }
.ansi-black-bg { background-color: #3E424D; }
.ansi-black-intense-fg { color: #282C36; }
.ansi-black-intense-bg { background-color: #282C36; }
.ansi-red-fg { color: #E75C58; }
.ansi-red-bg { background-color: #E75C58; }
.ansi-red-intense-fg { color: #B22B31; }
.ansi-red-intense-bg { background-color: #B22B31; }
.ansi-green-fg { color: #00A250; }
.ansi-green-bg { background-color: #00A250; }
.ansi-green-intense-fg { color: #007427; }
.ansi-green-intense-bg { background-color: #007427; }
.ansi-yellow-fg { color: #DDB62B; }
.ansi-yellow-bg { background-color: #DDB62B; }
.ansi-yellow-intense-fg { color: #B27D12; }
.ansi-yellow-intense-bg { background-color: #B27D12; }
.ansi-blue-fg { color: #208FFB; }
.ansi-blue-bg { background-color: #208FFB; }
.ansi-blue-intense-fg { color: #0065CA; }
.ansi-blue-intense-bg { background-color: #0065CA; }
.ansi-magenta-fg { color: #D160C4; }
.ansi-magenta-bg { background-color: #D160C4; }
.ansi-magenta-intense-fg { color: #A03196; }
.ansi-magenta-intense-bg { background-color: #A03196; }
.ansi-cyan-fg { color: #60C6C8; }
.ansi-cyan-bg { background-color: #60C6C8; }
.ansi-cyan-intense-fg { color: #258F8F; }
.ansi-cyan-intense-bg { background-color: #258F8F; }
.ansi-white-fg { color: #C5C1B4; }
.ansi-white-bg { background-color: #C5C1B4; }
.ansi-white-intense-fg { color: #A1A6B2; }
.ansi-white-intense-bg { background-color: #A1A6B2; }

.ansi-bold { font-weight: bold; }

    </style>


<style type="text/css">
/* Overrides of notebook CSS for static HTML export */
body {
  overflow: visible;
  padding: 8px;
}

div#notebook {
  overflow: visible;
  border-top: none;
}@media print {
  div.cell {
    display: block;
    page-break-inside: avoid;
  } 
  div.output_wrapper { 
    display: block;
    page-break-inside: avoid; 
  }
  div.output { 
    display: block;
    page-break-inside: avoid; 
  }
}
</style>

<!-- Custom stylesheet, it must be in the same directory as the html file -->
<link rel="stylesheet" href="custom.css">

<!-- Loading mathjax macro -->
<!-- Load mathjax -->
    <script src="https://cdnjs.cloudflare.com/ajax/libs/mathjax/2.7.1/MathJax.js?config=TeX-AMS_HTML"></script>
    <!-- MathJax configuration -->
    <script type="text/x-mathjax-config">
    MathJax.Hub.Config({
        tex2jax: {
            inlineMath: [ ['$','$'], ["\\(","\\)"] ],
            displayMath: [ ['$$','$$'], ["\\[","\\]"] ],
            processEscapes: true,
            processEnvironments: true
        },
        // Center justify equations in code and markdown cells. Elsewhere
        // we use CSS to left justify single line equations in code cells.
        displayAlign: 'center',
        "HTML-CSS": {
            styles: {'.MathJax_Display': {"margin": 0}},
            linebreaks: { automatic: true }
        }
    });
    </script>
    <!-- End of mathjax configuration --></head>
<body>
  <div tabindex="-1" id="notebook" class="border-box-sizing">
    <div class="container" id="notebook-container">

<div class="cell border-box-sizing text_cell rendered"><div class="prompt input_prompt">
</div>
<div class="inner_cell">
<div class="text_cell_render border-box-sizing rendered_html">
<hr>
<p><a href='http://www.pieriandata.com'> <img src='../Pierian_Data_Logo.png' /></a></p>
<hr>

</div>
</div>
</div>
<div class="cell border-box-sizing text_cell rendered"><div class="prompt input_prompt">
</div>
<div class="inner_cell">
<div class="text_cell_render border-box-sizing rendered_html">
<h1 id="Categorical-Data-Plots">Categorical Data Plots<a class="anchor-link" href="#Categorical-Data-Plots">&#182;</a></h1><p>Now let's discuss using seaborn to plot categorical data! There are a few main plot types for this:</p>
<ul>
<li>factorplot</li>
<li>boxplot</li>
<li>violinplot</li>
<li>stripplot</li>
<li>swarmplot</li>
<li>barplot</li>
<li>countplot</li>
</ul>
<p>Let's go through examples of each!</p>

</div>
</div>
</div>
<div class="cell border-box-sizing code_cell rendered">
<div class="input">
<div class="prompt input_prompt">In&nbsp;[5]:</div>
<div class="inner_cell">
    <div class="input_area">
<div class=" highlight hl-ipython3"><pre><span></span><span class="kn">import</span> <span class="nn">seaborn</span> <span class="k">as</span> <span class="nn">sns</span>
<span class="o">%</span><span class="k">matplotlib</span> inline
</pre></div>

</div>
</div>
</div>

</div>
<div class="cell border-box-sizing code_cell rendered">
<div class="input">
<div class="prompt input_prompt">In&nbsp;[6]:</div>
<div class="inner_cell">
    <div class="input_area">
<div class=" highlight hl-ipython3"><pre><span></span><span class="n">tips</span> <span class="o">=</span> <span class="n">sns</span><span class="o">.</span><span class="n">load_dataset</span><span class="p">(</span><span class="s1">&#39;tips&#39;</span><span class="p">)</span>
<span class="n">tips</span><span class="o">.</span><span class="n">head</span><span class="p">()</span>
</pre></div>

</div>
</div>
</div>

<div class="output_wrapper">
<div class="output">


<div class="output_area">

<div class="prompt output_prompt">Out[6]:</div>



<div class="output_html rendered_html output_subarea output_execute_result">
<div>
<table border="1" class="dataframe">
  <thead>
    <tr style="text-align: right;">
      <th></th>
      <th>total_bill</th>
      <th>tip</th>
      <th>sex</th>
      <th>smoker</th>
      <th>day</th>
      <th>time</th>
      <th>size</th>
    </tr>
  </thead>
  <tbody>
    <tr>
      <th>0</th>
      <td>16.99</td>
      <td>1.01</td>
      <td>Female</td>
      <td>No</td>
      <td>Sun</td>
      <td>Dinner</td>
      <td>2</td>
    </tr>
    <tr>
      <th>1</th>
      <td>10.34</td>
      <td>1.66</td>
      <td>Male</td>
      <td>No</td>
      <td>Sun</td>
      <td>Dinner</td>
      <td>3</td>
    </tr>
    <tr>
      <th>2</th>
      <td>21.01</td>
      <td>3.50</td>
      <td>Male</td>
      <td>No</td>
      <td>Sun</td>
      <td>Dinner</td>
      <td>3</td>
    </tr>
    <tr>
      <th>3</th>
      <td>23.68</td>
      <td>3.31</td>
      <td>Male</td>
      <td>No</td>
      <td>Sun</td>
      <td>Dinner</td>
      <td>2</td>
    </tr>
    <tr>
      <th>4</th>
      <td>24.59</td>
      <td>3.61</td>
      <td>Female</td>
      <td>No</td>
      <td>Sun</td>
      <td>Dinner</td>
      <td>4</td>
    </tr>
  </tbody>
</table>
</div>
</div>

</div>

</div>
</div>

</div>
<div class="cell border-box-sizing text_cell rendered"><div class="prompt input_prompt">
</div>
<div class="inner_cell">
<div class="text_cell_render border-box-sizing rendered_html">
<h2 id="barplot-and-countplot">barplot and countplot<a class="anchor-link" href="#barplot-and-countplot">&#182;</a></h2><p>These very similar plots allow you to get aggregate data off a categorical feature in your data. <strong>barplot</strong> is a general plot that allows you to aggregate the categorical data based off some function, by default the mean:</p>

</div>
</div>
</div>
<div class="cell border-box-sizing code_cell rendered">
<div class="input">
<div class="prompt input_prompt">In&nbsp;[8]:</div>
<div class="inner_cell">
    <div class="input_area">
<div class=" highlight hl-ipython3"><pre><span></span><span class="n">sns</span><span class="o">.</span><span class="n">barplot</span><span class="p">(</span><span class="n">x</span><span class="o">=</span><span class="s1">&#39;sex&#39;</span><span class="p">,</span><span class="n">y</span><span class="o">=</span><span class="s1">&#39;total_bill&#39;</span><span class="p">,</span><span class="n">data</span><span class="o">=</span><span class="n">tips</span><span class="p">)</span>
</pre></div>

</div>
</div>
</div>

<div class="output_wrapper">
<div class="output">


<div class="output_area">

<div class="prompt output_prompt">Out[8]:</div>




<div class="output_text output_subarea output_execute_result">
<pre>&lt;matplotlib.axes._subplots.AxesSubplot at 0x11c99b8d0&gt;</pre>
</div>

</div>

<div class="output_area">

<div class="prompt"></div>




<div class="output_png output_subarea ">
<img src="data:image/png;base64,iVBORw0KGgoAAAANSUhEUgAAAX4AAAERCAYAAAB8eMxzAAAABHNCSVQICAgIfAhkiAAAAAlwSFlz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"
>
</div>

</div>

</div>
</div>

</div>
<div class="cell border-box-sizing code_cell rendered">
<div class="input">
<div class="prompt input_prompt">In&nbsp;[10]:</div>
<div class="inner_cell">
    <div class="input_area">
<div class=" highlight hl-ipython3"><pre><span></span><span class="kn">import</span> <span class="nn">numpy</span> <span class="k">as</span> <span class="nn">np</span>
</pre></div>

</div>
</div>
</div>

</div>
<div class="cell border-box-sizing text_cell rendered"><div class="prompt input_prompt">
</div>
<div class="inner_cell">
<div class="text_cell_render border-box-sizing rendered_html">
<p>You can change the estimator object to your own function, that converts a vector to a scalar:</p>

</div>
</div>
</div>
<div class="cell border-box-sizing code_cell rendered">
<div class="input">
<div class="prompt input_prompt">In&nbsp;[11]:</div>
<div class="inner_cell">
    <div class="input_area">
<div class=" highlight hl-ipython3"><pre><span></span><span class="n">sns</span><span class="o">.</span><span class="n">barplot</span><span class="p">(</span><span class="n">x</span><span class="o">=</span><span class="s1">&#39;sex&#39;</span><span class="p">,</span><span class="n">y</span><span class="o">=</span><span class="s1">&#39;total_bill&#39;</span><span class="p">,</span><span class="n">data</span><span class="o">=</span><span class="n">tips</span><span class="p">,</span><span class="n">estimator</span><span class="o">=</span><span class="n">np</span><span class="o">.</span><span class="n">std</span><span class="p">)</span>
</pre></div>

</div>
</div>
</div>

<div class="output_wrapper">
<div class="output">


<div class="output_area">

<div class="prompt output_prompt">Out[11]:</div>




<div class="output_text output_subarea output_execute_result">
<pre>&lt;matplotlib.axes._subplots.AxesSubplot at 0x11c9b00b8&gt;</pre>
</div>

</div>

<div class="output_area">

<div class="prompt"></div>




<div class="output_png output_subarea ">
<img src="data:image/png;base64,iVBORw0KGgoAAAANSUhEUgAAAX4AAAERCAYAAAB8eMxzAAAABHNCSVQICAgIfAhkiAAAAAlwSFlz
AAALEgAACxIB0t1+/AAAEkRJREFUeJzt3X+QXWV9x/H3ZjcgSTZxF7YqVn4Y4YsO/qgoCjpA4k+U
EcG2QWWwgBUrqFhKFam0YIs/poClFkWQ+qPVglK0YKFDTUZQR6uWEWnhiwSCVaYS2AWyCYFssv3j
3JRNyO69bvbck+zzfs0we8+955znu8zJ5z77nHOe0zM+Po4kqRxzmi5AktRdBr8kFcbgl6TCGPyS
VBiDX5IKY/BLUmH66m4gIl4GfDwzl0TEi4CLgTHgMeCEzFxddw2SpCfU2uOPiDOBy4BdW299Cjg1
M5cC1wAfqrN9SdKT1T3UcxdwzITlZZn5s9brPuDRmtuXJG2l1uDPzGuohnU2L/8aICIOBU4FLqqz
fUnSk3X95G5ELAMuAd6QmQ92u31JKl3tJ3cniojjgXcBR2TmQ51sMza2cbyvr7fewiRp9umZ9IO6
J2mLiL2BrwKvBFYD9wIPA+PAdzLz3Km2X716jbPISdJvaGiov7ng314GvyT95qYKfm/gkqTCGPyS
VBiDX5IKY/BLUmEMfkkqjMEvSYUx+CWpMAa/JBXG4Jekwhj8klQYg1+SCmPwS1JhDH5JKozBL0mF
MfglqTAGvyQVxuCXpMIY/JJUGINfkgpj8EtSYQx+SSqMwS9JhTH4JakwBr8kFcbgl6TCGPwFueKK
z3HccW/miis+13Qpkhpk8Bdi/fpHufHG6wG48cYbWL/+0YYrktQUg78QGzZsYHx8HIDx8U1s2LCh
4YokNcXgl6TC9NXdQES8DPh4Zi6JiMXAF4BNwG2ZeWrd7UuStlRrjz8izgQuA3ZtvXUh8OHMPByY
ExFH19m+JOnJ6h7quQs4ZsLyQZl5c+v19cCra25fkrSVWoM/M68Bxia81TPh9RpgUZ3tS5KerNsn
dzdNeN0PPNTl9iWpeLWf3N3Kf0bEYZl5E3AksLzdBgMD8+jr662/sllul102bbG8++4LWLSov6Fq
JDWp28H/J8BlETEXuB34ersNRkbW1V5UCdasGd1i+cEHR3n8ca/mlWaroaHJO3a1B39m3gsc2nr9
c+CIutuUJE3OLp8kFcbgl6TCGPySVBiDX5IKY/BLUmEMfkkqjMEvaYfgE+K6x+CX1DifENddBr+k
xvmEuO4y+CWpMN2eq6frNm7cyKpVdzddRuPWrVu7xfKqVXczb978hqrZMeyzz7Pp7XUCQJVn1gf/
qlV3c9YFVzJ/0VDTpTRqfOPjWyxf8OWb6endpaFqmrf24dV87IxlLF68X9OlSF0364MfYP6iIRYO
PqPpMhq1aWw963/xxHL/wNOY0/eU5gqS1BjH+CWpMAa/JBXG4Jekwhj8klQYg1+SCmPwS1JhDH5J
KozBL0mFMfglqTAGvyQVxuCXpMIY/JJUGINfkgpj8EtSYQx+SSqMwS9JhTH4JakwXX8CV0T0AV8E
9gHGgD/MzDu7XYcklaqJHv8bgN7MfAXwUeD8BmqQpGI1Efx3An0R0QMsAh5vs74kaQY18bD1UWBf
4A5gd+CoBmqQpGI1EfwfAG7IzLMj4pnAiog4MDO32fMfGJhHX1/vtBsbGVkw7W01uw0OLmBoqL/R
GjZu3MjKlSsbrWFHMDo6usXyQw/9mrGxtQ1Vs2NYvHgxvb3Tz76pNBH8w8CG1uuHWjVM+tuNjKzb
vsaGR9uvpCIND4+yevWaRmtYufLnfORr57Fgj4WN1tG0TY9v3GL53GsvYM4u9YTezmD0gUf46O+d
w+LF+017H1N1apoI/k8BV0TETcBc4KzMfLSBOqQdwoI9FrLo6QNNl9GojY+NMcr//v/ywqc9ld5d
m4inMnT9/2xmrgWWdbvd4vVM7D31bLUsqSTewFWIOb1z2W3ouQDsNnQAc3rnNlyRpKb4t1RBFu51
CAv3OqTpMiQ1zB6/JBXG4JekwnQ81BMRzwf2AzYBd2XmbbVVJUmqzZTB35pW4d3A6cAa4BdU1+Dv
GxELgb8BLs3MTXUXKkmaGe16/F8HbgRenpkjEz+IiEXAO4BrgKPrKU+SNNPaBf8JrevunyQzHwYu
jojPz3xZkqS6tAv+t0TEpB9m5pcm+2KQJO2Y2gX/kik+Gwe+NIO1SJK6YMrgz8wTu1WIJKk72l3V
cw9Vz36bMvPZM16RJKlW7YZ6juhGEZKk7mkX/M/PzOsi4oRJPneMX5J2Mu2C/6XAdWz7JK8ndyVp
J9Tu5O6ft36eCNC6W/fxzFzfhdokSTXoaK6eiDiQqne/V2v5Dqqbu+6usTZJUg06nZ3zUuDszNwj
M/cALgD+vr6yJEl16TT4d8vM6zcvZOY1QNlPh5aknVS76/j3ar38aUR8CPg8MAa8Hbi55tokSTVo
N8b/Haqrd3qoruk/ZcJn48D76ilLklSXdlf17NtuBxHxrsz83MyVJEmq00w8evHdM7APSVKXzETw
98zAPiRJXTITwT/pJG6SpB3PTAS/JGknYvBLalzPnAkjxj1bLWvGzUTwPzQD+5BUsDlze1mw/yAA
C/YbZM7c3oYrmt3a3cB1zlSfZ+Z5mbl0ZkuSVKKBg/dk4OA9my6jCO1u4Krl763WXcBvAuYCl2Sm
8/5IUpe0u4Hr3G29HxE9QNubuybZ9nDgkMw8NCLmA2dMZz+SpOnpdFrm04DzgfkT3r4HeM402nwd
cFtEfAPoB86cxj4kSdPU6cndM4AXAlcCi4GTgR9Os809gIOA3wX+CPjKNPcjSZqGjnr8wP2ZeU9E
3Er1HN4vtP4KmI4Hgdszcwy4MyLWR8QemfnAtlYeGJhHX9/0z/CPjCyY9raa3QYHFzA01N9oDR6f
mkydx2enwb82IpYAtwJvjogfAQPTbPO7VLN6XhQRewLzqL4MtmlkZN00m6kMD49u1/aavYaHR1m9
ek3jNUjbsr3H51RfGp0O9byX6iqcG4DdgTuAv51OMZn5LeCWiPgP4JvAezLTaR8kqUs67fHvmZkf
aL1+C0BEHDvdRjPzQ9PdVpK0fdrdwLUM2BU4b6ubufqADwP/XGNtkqQatOvxLwQOpbrscsmE98eA
s+sqSpJUn3Y3cF0GXBYRr8rMb0dEP9Cbmc7PI0k7qU5P7q5qnYxdBdwdEbdExP71lSVJqkunwf9Z
4JOZuXtmDgIfA3zOriTthDoN/j0y8+ubFzLzKmCwnpIkSXXqNPgfi4gXb16IiIOA7buzSpLUiE6v
4z8duDoihqmmah4EltVWlSSpNp0GfwL7t/6b01p+Rl1FSZLq0+4GrmdR9fD/FTgS2DxxxG+33jug
1uokSTOuXY//XKobt/YEbprw/hhwXV1FSZLq0+4GrpMAIuKDmfmJ7pQkSarTlFf1RMTHImLRZKEf
EYMR4ReCJO1E2g31XAV8MyLuoxrq+SXVMM/ewFKqIaDTa61QkjSj2g313AIc0XoIy5uAo4BNwErg
0sxcXn+JkqSZ1NHlnJm5AlhRcy2SpC5odznnPcCkT8fKzGfPeEWSpFq16/EfQXUd/znA3cAXqMb4
3w7sW2dhkqR6tBvjvxcgIl6w+dLOlgsi4ie1ViZJqkWnk7T1tE7wAhARR1L1/CVJO5lO5+o5GfhS
RDyDaujnXuD42qqSJNWm0x7/hsx8AdXcPPtn5kHAovrKkiTVpd1VPa8AeoHLI+Jkqt4+EdFH9VQu
H78oSTuZdkM9rwEOp5qC+Vyq4B+nGt+/tN7SJEl1mHKoJzP/IjOXAJ+kmo3z9VSh/2KqcX5J0k6m
0zH+NwI/Bo6leuTi7wAfrKsoSVJ9Og3+OZl5E9VcPVdn5v/Q+RVBkqQdSKfBvy4izqCakfO6iHg/
TzyNS5K0E+k0+N8OzAfekpkjVNMxv622qiRJtel0ds5fAedNWN7u8f2I+C2q8wavzsw7t3d/kqTO
dNrjn1ET7gNY10T7klSyRoIf+GvgM8B9DbUvScXqevBHxB8A92fmjbTuBJYkdU8Tl2SeCGyKiNcA
L6Ka/O1NmXn/tlYeGJhHX1/vtBsbGVkw7W01uw0OLmBoqL/RGjw+NZk6j8+uB39mHr75dUSsAE6Z
LPQBRka27zTA8PDodm2v2Wt4eJTVq5u9KtnjU5PZ3uNzqi+Npsb4N5v0sY6SpHo0evdtZi5tsn1J
KlHTPX5JUpcZ/JJUGINfkgpj8EtSYQx+SSqMwS9JhTH4JakwBr8kFcbgl6TCGPySVBiDX5IKY/BL
UmEMfkkqjMEvSYUx+CWpMAa/JBXG4Jekwhj8klQYg1+SCmPwS1JhDH5JKozBL0mFMfglqTAGvyQV
xuCXpMIY/JJUGINfkgpj8EtSYQx+SSpMX7cbjIg+4ApgH2AX4K8y89pu1yFJpWqix3888EBmHgYc
CXy6gRokqVhd7/EDVwFfa72eA2xooAZJKlbXgz8z1wFERD/VF8DZ3a5BkkrWyMndiHgWsBz4YmZe
2UQNklSqJk7uPg34N+DUzFzRbv2BgXn09fVOu72RkQXT3laz2+DgAoaG+hutweNTk6nz+GxijP8s
4KnARyLiHGAcODIzH9vWyiMj67arseHh0e3aXrPX8PAoq1evabwGaVu29/ic6kujiTH+04HTu92u
JKniDVySVBiDX5IKY/BLUmEMfkkqjMEvSYUx+CWpMAa/JBXG4Jekwhj8klQYg1+SCmPwS1JhDH5J
KozBL0mFMfglqTAGvyQVxuCXpMIY/JJUGINfkgpj8EtSYQx+SSqMwS9JhTH4JakwBr8kFcbgl6TC
GPySVBiDX5IKY/BLUmEMfkkqjMEvSYXp63aDEdEDXAK8EFgPvDMz7+52HZJUqiZ6/G8Gds3MQ4Gz
gAsbqEGSitVE8L8SuAEgM38IvKSBGiSpWE0E/0Lg4QnLYxHhuQZJ6pKuj/EDjwD9E5bnZOamOhtc
+/DqOnevndCOdEyMPvBI0yVoB1P3MdEzPj5eawNbi4hjgaMy86SIeDnwkcx8Y1eLkKSCNdHjvwZ4
TUR8r7V8YgM1SFKxut7jlyQ1y5OqklQYg1+SCmPwS1JhDH5JKkwTV/WoBhFxOLACOC4zr5rw/q3A
jzPzpG1s8w7ggMw8q3uVajaLiL2BW4GfAD3AOLA8M/9yBttYAZySmXfO1D5LY/DPLncAxwFXAUTE
gcC8Ntt4WZdm2n9l5tKmi9DkDP7Z5afA/hHRn5lrgOOBfwD2iohTgWOpvggeAI6ZuGFEnAa8DdgE
/FNmfrqrlWs26dn6jYg4n2qerl7gwsy8utVz/ylwIDAK3Ay8DlgEvJbqWLy8tbwn8HeZeemEfS4E
Pg8Mtt56f2beVtcvNZs4xj/7XE0V8AAHA9+n+sc2mJmvysxDgLnASzdvEBHPBZYBrwAOA46JiP26
WrVmk+dFxPKIWNH6+TZg38w8DFgK/FlELGqt+4PMfDWwK7A2M18L3A4cDjwH+Gpmvp7qC+GPt2rn
w8C/Z+argFOAz9T/q80O9vhnl3HgK8BnI+Ie4Caq3tcmYENEfBVYCzyTKvw3OxDYG/h2a/2nAvsB
P+9e6ZpFthjqiYgzgYMiYjnV8dUH7NP6+JbWz4eA/269HgGeAvwaOL01zcsatjxmAZ4PLImIZa39
Dsz8rzI72eOfZTJzFTAfeC/VMA9UM6IenZlvbb3fy5Z/jidwW2YuzcwlwBepTtBJ07H1UM8dVCd4
l1L1+K8CVrY+m+oc0xnA9zPzBOBr29jv7cBFrf3+Pk8c72rD4J+drgSelZl3tZY3AGsj4rvAjcB9
VGOmAGTmrcDyiPhuRPyI6k/sX3W5Zs0eW4R5Zl5LdfzdBPwYGM/M0a3W29brfwFOa50LOJ3qr9Zd
Jnx+PrCs9fn1gOP7HXKuHkkqjD1+SSqMwS9JhTH4JakwBr8kFcbgl6TCGPySVBiDX5IKY/BLUmGc
q0eaQkQ8E/hHqllNNwHva/28CNiNaqbTU4AHgZ8BJ2Xmioi4AfhGZn62kcKlKdjjl6Z2MnBtZh4M
/CnVrJGXA2/NzJcAFwKXt6YgOAn4TES8B9ho6GtH5ZQN0hQi4lCqqa6XA9+imj/+B1Qzl25+wlR/
Zu7XWv8S4K1AZOb9jRQtteFQjzSFzPx+RDwPOIpqBsh3Aisz88UAEdEDPH3CJgGsAw4ADH7tkBzq
kaYQEZ8ATsjML1NNaf0iYDAiXtla5Z1U5wBoPeVsDXA0cHlE7NZAyVJbDvVIU4iI36Z6uE0/MAZ8
HPglcDHVU6MeAU5orf494KWZeV9EXAzMyczTul+1NDWDX5IK41CPJBXG4Jekwhj8klQYg1+SCmPw
S1JhDH5JKozBL0mFMfglqTD/B5mOdx4wXbqnAAAAAElFTkSuQmCC
"
>
</div>

</div>

</div>
</div>

</div>
<div class="cell border-box-sizing text_cell rendered"><div class="prompt input_prompt">
</div>
<div class="inner_cell">
<div class="text_cell_render border-box-sizing rendered_html">
<h3 id="countplot">countplot<a class="anchor-link" href="#countplot">&#182;</a></h3><p>This is essentially the same as barplot except the estimator is explicitly counting the number of occurrences. Which is why we only pass the x value:</p>

</div>
</div>
</div>
<div class="cell border-box-sizing code_cell rendered">
<div class="input">
<div class="prompt input_prompt">In&nbsp;[13]:</div>
<div class="inner_cell">
    <div class="input_area">
<div class=" highlight hl-ipython3"><pre><span></span><span class="n">sns</span><span class="o">.</span><span class="n">countplot</span><span class="p">(</span><span class="n">x</span><span class="o">=</span><span class="s1">&#39;sex&#39;</span><span class="p">,</span><span class="n">data</span><span class="o">=</span><span class="n">tips</span><span class="p">)</span>
</pre></div>

</div>
</div>
</div>

<div class="output_wrapper">
<div class="output">


<div class="output_area">

<div class="prompt output_prompt">Out[13]:</div>




<div class="output_text output_subarea output_execute_result">
<pre>&lt;matplotlib.axes._subplots.AxesSubplot at 0x1153276d8&gt;</pre>
</div>

</div>

<div class="output_area">

<div class="prompt"></div>




<div class="output_png output_subarea ">
<img src="data:image/png;base64,iVBORw0KGgoAAAANSUhEUgAAAYQAAAERCAYAAAB7FtAjAAAABHNCSVQICAgIfAhkiAAAAAlwSFlz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"
>
</div>

</div>

</div>
</div>

</div>
<div class="cell border-box-sizing text_cell rendered"><div class="prompt input_prompt">
</div>
<div class="inner_cell">
<div class="text_cell_render border-box-sizing rendered_html">
<h2 id="boxplot-and-violinplot">boxplot and violinplot<a class="anchor-link" href="#boxplot-and-violinplot">&#182;</a></h2><p>boxplots and violinplots are used to shown the distribution of categorical data. A box plot (or box-and-whisker plot) shows the distribution of quantitative data in a way that facilitates comparisons between variables or across levels of a categorical variable. The box shows the quartiles of the dataset while the whiskers extend to show the rest of the distribution, except for points that are determined to be “outliers” using a method that is a function of the inter-quartile range.</p>

</div>
</div>
</div>
<div class="cell border-box-sizing code_cell rendered">
<div class="input">
<div class="prompt input_prompt">In&nbsp;[22]:</div>
<div class="inner_cell">
    <div class="input_area">
<div class=" highlight hl-ipython3"><pre><span></span><span class="n">sns</span><span class="o">.</span><span class="n">boxplot</span><span class="p">(</span><span class="n">x</span><span class="o">=</span><span class="s2">&quot;day&quot;</span><span class="p">,</span> <span class="n">y</span><span class="o">=</span><span class="s2">&quot;total_bill&quot;</span><span class="p">,</span> <span class="n">data</span><span class="o">=</span><span class="n">tips</span><span class="p">,</span><span class="n">palette</span><span class="o">=</span><span class="s1">&#39;rainbow&#39;</span><span class="p">)</span>
</pre></div>

</div>
</div>
</div>

<div class="output_wrapper">
<div class="output">


<div class="output_area">

<div class="prompt output_prompt">Out[22]:</div>




<div class="output_text output_subarea output_execute_result">
<pre>&lt;matplotlib.axes._subplots.AxesSubplot at 0x11db81630&gt;</pre>
</div>

</div>

<div class="output_area">

<div class="prompt"></div>




<div class="output_png output_subarea ">
<img src="data:image/png;base64,iVBORw0KGgoAAAANSUhEUgAAAX4AAAERCAYAAAB8eMxzAAAABHNCSVQICAgIfAhkiAAAAAlwSFlz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"
>
</div>

</div>

</div>
</div>

</div>
<div class="cell border-box-sizing code_cell rendered">
<div class="input">
<div class="prompt input_prompt">In&nbsp;[25]:</div>
<div class="inner_cell">
    <div class="input_area">
<div class=" highlight hl-ipython3"><pre><span></span><span class="c1"># Can do entire dataframe with orient=&#39;h&#39;</span>
<span class="n">sns</span><span class="o">.</span><span class="n">boxplot</span><span class="p">(</span><span class="n">data</span><span class="o">=</span><span class="n">tips</span><span class="p">,</span><span class="n">palette</span><span class="o">=</span><span class="s1">&#39;rainbow&#39;</span><span class="p">,</span><span class="n">orient</span><span class="o">=</span><span class="s1">&#39;h&#39;</span><span class="p">)</span>
</pre></div>

</div>
</div>
</div>

<div class="output_wrapper">
<div class="output">


<div class="output_area">

<div class="prompt output_prompt">Out[25]:</div>




<div class="output_text output_subarea output_execute_result">
<pre>&lt;matplotlib.axes._subplots.AxesSubplot at 0x11e2c0b00&gt;</pre>
</div>

</div>

<div class="output_area">

<div class="prompt"></div>




<div class="output_png output_subarea ">
<img src="data:image/png;base64,iVBORw0KGgoAAAANSUhEUgAAAY4AAAD9CAYAAACrxZCnAAAABHNCSVQICAgIfAhkiAAAAAlwSFlz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"
>
</div>

</div>

</div>
</div>

</div>
<div class="cell border-box-sizing code_cell rendered">
<div class="input">
<div class="prompt input_prompt">In&nbsp;[26]:</div>
<div class="inner_cell">
    <div class="input_area">
<div class=" highlight hl-ipython3"><pre><span></span><span class="n">sns</span><span class="o">.</span><span class="n">boxplot</span><span class="p">(</span><span class="n">x</span><span class="o">=</span><span class="s2">&quot;day&quot;</span><span class="p">,</span> <span class="n">y</span><span class="o">=</span><span class="s2">&quot;total_bill&quot;</span><span class="p">,</span> <span class="n">hue</span><span class="o">=</span><span class="s2">&quot;smoker&quot;</span><span class="p">,</span><span class="n">data</span><span class="o">=</span><span class="n">tips</span><span class="p">,</span> <span class="n">palette</span><span class="o">=</span><span class="s2">&quot;coolwarm&quot;</span><span class="p">)</span>
</pre></div>

</div>
</div>
</div>

<div class="output_wrapper">
<div class="output">


<div class="output_area">

<div class="prompt output_prompt">Out[26]:</div>




<div class="output_text output_subarea output_execute_result">
<pre>&lt;matplotlib.axes._subplots.AxesSubplot at 0x11e2c77f0&gt;</pre>
</div>

</div>

<div class="output_area">

<div class="prompt"></div>




<div class="output_png output_subarea ">
<img src="data:image/png;base64,iVBORw0KGgoAAAANSUhEUgAAAX4AAAERCAYAAAB8eMxzAAAABHNCSVQICAgIfAhkiAAAAAlwSFlz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"
>
</div>

</div>

</div>
</div>

</div>
<div class="cell border-box-sizing text_cell rendered"><div class="prompt input_prompt">
</div>
<div class="inner_cell">
<div class="text_cell_render border-box-sizing rendered_html">
<h3 id="violinplot">violinplot<a class="anchor-link" href="#violinplot">&#182;</a></h3><p>A violin plot plays a similar role as a box and whisker plot. It shows the distribution of quantitative data across several levels of one (or more) categorical variables such that those distributions can be compared. Unlike a box plot, in which all of the plot components correspond to actual datapoints, the violin plot features a kernel density estimation of the underlying distribution.</p>

</div>
</div>
</div>
<div class="cell border-box-sizing code_cell rendered">
<div class="input">
<div class="prompt input_prompt">In&nbsp;[27]:</div>
<div class="inner_cell">
    <div class="input_area">
<div class=" highlight hl-ipython3"><pre><span></span><span class="n">sns</span><span class="o">.</span><span class="n">violinplot</span><span class="p">(</span><span class="n">x</span><span class="o">=</span><span class="s2">&quot;day&quot;</span><span class="p">,</span> <span class="n">y</span><span class="o">=</span><span class="s2">&quot;total_bill&quot;</span><span class="p">,</span> <span class="n">data</span><span class="o">=</span><span class="n">tips</span><span class="p">,</span><span class="n">palette</span><span class="o">=</span><span class="s1">&#39;rainbow&#39;</span><span class="p">)</span>
</pre></div>

</div>
</div>
</div>

<div class="output_wrapper">
<div class="output">


<div class="output_area">

<div class="prompt output_prompt">Out[27]:</div>




<div class="output_text output_subarea output_execute_result">
<pre>&lt;matplotlib.axes._subplots.AxesSubplot at 0x11e682ba8&gt;</pre>
</div>

</div>

<div class="output_area">

<div class="prompt"></div>




<div class="output_png output_subarea ">
<img src="data:image/png;base64,iVBORw0KGgoAAAANSUhEUgAAAYQAAAERCAYAAAB7FtAjAAAABHNCSVQICAgIfAhkiAAAAAlwSFlz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"
>
</div>

</div>

</div>
</div>

</div>
<div class="cell border-box-sizing code_cell rendered">
<div class="input">
<div class="prompt input_prompt">In&nbsp;[37]:</div>
<div class="inner_cell">
    <div class="input_area">
<div class=" highlight hl-ipython3"><pre><span></span><span class="n">sns</span><span class="o">.</span><span class="n">violinplot</span><span class="p">(</span><span class="n">x</span><span class="o">=</span><span class="s2">&quot;day&quot;</span><span class="p">,</span> <span class="n">y</span><span class="o">=</span><span class="s2">&quot;total_bill&quot;</span><span class="p">,</span> <span class="n">data</span><span class="o">=</span><span class="n">tips</span><span class="p">,</span><span class="n">hue</span><span class="o">=</span><span class="s1">&#39;sex&#39;</span><span class="p">,</span><span class="n">palette</span><span class="o">=</span><span class="s1">&#39;Set1&#39;</span><span class="p">)</span>
</pre></div>

</div>
</div>
</div>

<div class="output_wrapper">
<div class="output">


<div class="output_area">

<div class="prompt output_prompt">Out[37]:</div>




<div class="output_text output_subarea output_execute_result">
<pre>&lt;matplotlib.axes._subplots.AxesSubplot at 0x11f739dd8&gt;</pre>
</div>

</div>

<div class="output_area">

<div class="prompt"></div>




<div class="output_png output_subarea ">
<img src="data:image/png;base64,iVBORw0KGgoAAAANSUhEUgAAAYQAAAERCAYAAAB7FtAjAAAABHNCSVQICAgIfAhkiAAAAAlwSFlz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==
"
>
</div>

</div>

</div>
</div>

</div>
<div class="cell border-box-sizing code_cell rendered">
<div class="input">
<div class="prompt input_prompt">In&nbsp;[36]:</div>
<div class="inner_cell">
    <div class="input_area">
<div class=" highlight hl-ipython3"><pre><span></span><span class="n">sns</span><span class="o">.</span><span class="n">violinplot</span><span class="p">(</span><span class="n">x</span><span class="o">=</span><span class="s2">&quot;day&quot;</span><span class="p">,</span> <span class="n">y</span><span class="o">=</span><span class="s2">&quot;total_bill&quot;</span><span class="p">,</span> <span class="n">data</span><span class="o">=</span><span class="n">tips</span><span class="p">,</span><span class="n">hue</span><span class="o">=</span><span class="s1">&#39;sex&#39;</span><span class="p">,</span><span class="n">split</span><span class="o">=</span><span class="kc">True</span><span class="p">,</span><span class="n">palette</span><span class="o">=</span><span class="s1">&#39;Set1&#39;</span><span class="p">)</span>
</pre></div>

</div>
</div>
</div>

<div class="output_wrapper">
<div class="output">


<div class="output_area">

<div class="prompt output_prompt">Out[36]:</div>




<div class="output_text output_subarea output_execute_result">
<pre>&lt;matplotlib.axes._subplots.AxesSubplot at 0x11f4d0710&gt;</pre>
</div>

</div>

<div class="output_area">

<div class="prompt"></div>




<div class="output_png output_subarea ">
<img src="data:image/png;base64,iVBORw0KGgoAAAANSUhEUgAAAYQAAAERCAYAAAB7FtAjAAAABHNCSVQICAgIfAhkiAAAAAlwSFlz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"
>
</div>

</div>

</div>
</div>

</div>
<div class="cell border-box-sizing text_cell rendered"><div class="prompt input_prompt">
</div>
<div class="inner_cell">
<div class="text_cell_render border-box-sizing rendered_html">
<h2 id="stripplot-and-swarmplot">stripplot and swarmplot<a class="anchor-link" href="#stripplot-and-swarmplot">&#182;</a></h2><p>The stripplot will draw a scatterplot where one variable is categorical. A strip plot can be drawn on its own, but it is also a good complement to a box or violin plot in cases where you want to show all observations along with some representation of the underlying distribution.</p>
<p>The swarmplot is similar to stripplot(), but the points are adjusted (only along the categorical axis) so that they don’t overlap. This gives a better representation of the distribution of values, although it does not scale as well to large numbers of observations (both in terms of the ability to show all the points and in terms of the computation needed to arrange them).</p>

</div>
</div>
</div>
<div class="cell border-box-sizing code_cell rendered">
<div class="input">
<div class="prompt input_prompt">In&nbsp;[38]:</div>
<div class="inner_cell">
    <div class="input_area">
<div class=" highlight hl-ipython3"><pre><span></span><span class="n">sns</span><span class="o">.</span><span class="n">stripplot</span><span class="p">(</span><span class="n">x</span><span class="o">=</span><span class="s2">&quot;day&quot;</span><span class="p">,</span> <span class="n">y</span><span class="o">=</span><span class="s2">&quot;total_bill&quot;</span><span class="p">,</span> <span class="n">data</span><span class="o">=</span><span class="n">tips</span><span class="p">)</span>
</pre></div>

</div>
</div>
</div>

<div class="output_wrapper">
<div class="output">


<div class="output_area">

<div class="prompt output_prompt">Out[38]:</div>




<div class="output_text output_subarea output_execute_result">
<pre>&lt;matplotlib.axes._subplots.AxesSubplot at 0x120272278&gt;</pre>
</div>

</div>

<div class="output_area">

<div class="prompt"></div>




<div class="output_png output_subarea ">
<img src="data:image/png;base64,iVBORw0KGgoAAAANSUhEUgAAAX4AAAERCAYAAAB8eMxzAAAABHNCSVQICAgIfAhkiAAAAAlwSFlz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"
>
</div>

</div>

</div>
</div>

</div>
<div class="cell border-box-sizing code_cell rendered">
<div class="input">
<div class="prompt input_prompt">In&nbsp;[39]:</div>
<div class="inner_cell">
    <div class="input_area">
<div class=" highlight hl-ipython3"><pre><span></span><span class="n">sns</span><span class="o">.</span><span class="n">stripplot</span><span class="p">(</span><span class="n">x</span><span class="o">=</span><span class="s2">&quot;day&quot;</span><span class="p">,</span> <span class="n">y</span><span class="o">=</span><span class="s2">&quot;total_bill&quot;</span><span class="p">,</span> <span class="n">data</span><span class="o">=</span><span class="n">tips</span><span class="p">,</span><span class="n">jitter</span><span class="o">=</span><span class="kc">True</span><span class="p">)</span>
</pre></div>

</div>
</div>
</div>

<div class="output_wrapper">
<div class="output">


<div class="output_area">

<div class="prompt output_prompt">Out[39]:</div>




<div class="output_text output_subarea output_execute_result">
<pre>&lt;matplotlib.axes._subplots.AxesSubplot at 0x1203a8470&gt;</pre>
</div>

</div>

<div class="output_area">

<div class="prompt"></div>




<div class="output_png output_subarea ">
<img src="data:image/png;base64,iVBORw0KGgoAAAANSUhEUgAAAX4AAAERCAYAAAB8eMxzAAAABHNCSVQICAgIfAhkiAAAAAlwSFlz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"
>
</div>

</div>

</div>
</div>

</div>
<div class="cell border-box-sizing code_cell rendered">
<div class="input">
<div class="prompt input_prompt">In&nbsp;[42]:</div>
<div class="inner_cell">
    <div class="input_area">
<div class=" highlight hl-ipython3"><pre><span></span><span class="n">sns</span><span class="o">.</span><span class="n">stripplot</span><span class="p">(</span><span class="n">x</span><span class="o">=</span><span class="s2">&quot;day&quot;</span><span class="p">,</span> <span class="n">y</span><span class="o">=</span><span class="s2">&quot;total_bill&quot;</span><span class="p">,</span> <span class="n">data</span><span class="o">=</span><span class="n">tips</span><span class="p">,</span><span class="n">jitter</span><span class="o">=</span><span class="kc">True</span><span class="p">,</span><span class="n">hue</span><span class="o">=</span><span class="s1">&#39;sex&#39;</span><span class="p">,</span><span class="n">palette</span><span class="o">=</span><span class="s1">&#39;Set1&#39;</span><span class="p">)</span>
</pre></div>

</div>
</div>
</div>

<div class="output_wrapper">
<div class="output">


<div class="output_area">

<div class="prompt output_prompt">Out[42]:</div>




<div class="output_text output_subarea output_execute_result">
<pre>&lt;matplotlib.axes._subplots.AxesSubplot at 0x12092e518&gt;</pre>
</div>

</div>

<div class="output_area">

<div class="prompt"></div>




<div class="output_png output_subarea ">
<img src="data:image/png;base64,iVBORw0KGgoAAAANSUhEUgAAAX4AAAERCAYAAAB8eMxzAAAABHNCSVQICAgIfAhkiAAAAAlwSFlz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"
>
</div>

</div>

</div>
</div>

</div>
<div class="cell border-box-sizing code_cell rendered">
<div class="input">
<div class="prompt input_prompt">In&nbsp;[43]:</div>
<div class="inner_cell">
    <div class="input_area">
<div class=" highlight hl-ipython3"><pre><span></span><span class="n">sns</span><span class="o">.</span><span class="n">stripplot</span><span class="p">(</span><span class="n">x</span><span class="o">=</span><span class="s2">&quot;day&quot;</span><span class="p">,</span> <span class="n">y</span><span class="o">=</span><span class="s2">&quot;total_bill&quot;</span><span class="p">,</span> <span class="n">data</span><span class="o">=</span><span class="n">tips</span><span class="p">,</span><span class="n">jitter</span><span class="o">=</span><span class="kc">True</span><span class="p">,</span><span class="n">hue</span><span class="o">=</span><span class="s1">&#39;sex&#39;</span><span class="p">,</span><span class="n">palette</span><span class="o">=</span><span class="s1">&#39;Set1&#39;</span><span class="p">,</span><span class="n">split</span><span class="o">=</span><span class="kc">True</span><span class="p">)</span>
</pre></div>

</div>
</div>
</div>

<div class="output_wrapper">
<div class="output">


<div class="output_area">

<div class="prompt output_prompt">Out[43]:</div>




<div class="output_text output_subarea output_execute_result">
<pre>&lt;matplotlib.axes._subplots.AxesSubplot at 0x12099db70&gt;</pre>
</div>

</div>

<div class="output_area">

<div class="prompt"></div>




<div class="output_png output_subarea ">
<img src="data:image/png;base64,iVBORw0KGgoAAAANSUhEUgAAAX4AAAERCAYAAAB8eMxzAAAABHNCSVQICAgIfAhkiAAAAAlwSFlz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"
>
</div>

</div>

</div>
</div>

</div>
<div class="cell border-box-sizing code_cell rendered">
<div class="input">
<div class="prompt input_prompt">In&nbsp;[44]:</div>
<div class="inner_cell">
    <div class="input_area">
<div class=" highlight hl-ipython3"><pre><span></span><span class="n">sns</span><span class="o">.</span><span class="n">swarmplot</span><span class="p">(</span><span class="n">x</span><span class="o">=</span><span class="s2">&quot;day&quot;</span><span class="p">,</span> <span class="n">y</span><span class="o">=</span><span class="s2">&quot;total_bill&quot;</span><span class="p">,</span> <span class="n">data</span><span class="o">=</span><span class="n">tips</span><span class="p">)</span>
</pre></div>

</div>
</div>
</div>

<div class="output_wrapper">
<div class="output">


<div class="output_area">

<div class="prompt output_prompt">Out[44]:</div>




<div class="output_text output_subarea output_execute_result">
<pre>&lt;matplotlib.axes._subplots.AxesSubplot at 0x120c463c8&gt;</pre>
</div>

</div>

<div class="output_area">

<div class="prompt"></div>




<div class="output_png output_subarea ">
<img src="data:image/png;base64,iVBORw0KGgoAAAANSUhEUgAAAX4AAAERCAYAAAB8eMxzAAAABHNCSVQICAgIfAhkiAAAAAlwSFlz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"
>
</div>

</div>

</div>
</div>

</div>
<div class="cell border-box-sizing code_cell rendered">
<div class="input">
<div class="prompt input_prompt">In&nbsp;[47]:</div>
<div class="inner_cell">
    <div class="input_area">
<div class=" highlight hl-ipython3"><pre><span></span><span class="n">sns</span><span class="o">.</span><span class="n">swarmplot</span><span class="p">(</span><span class="n">x</span><span class="o">=</span><span class="s2">&quot;day&quot;</span><span class="p">,</span> <span class="n">y</span><span class="o">=</span><span class="s2">&quot;total_bill&quot;</span><span class="p">,</span><span class="n">hue</span><span class="o">=</span><span class="s1">&#39;sex&#39;</span><span class="p">,</span><span class="n">data</span><span class="o">=</span><span class="n">tips</span><span class="p">,</span> <span class="n">palette</span><span class="o">=</span><span class="s2">&quot;Set1&quot;</span><span class="p">,</span> <span class="n">split</span><span class="o">=</span><span class="kc">True</span><span class="p">)</span>
</pre></div>

</div>
</div>
</div>

<div class="output_wrapper">
<div class="output">


<div class="output_area">

<div class="prompt output_prompt">Out[47]:</div>




<div class="output_text output_subarea output_execute_result">
<pre>&lt;matplotlib.axes._subplots.AxesSubplot at 0x1211b6da0&gt;</pre>
</div>

</div>

<div class="output_area">

<div class="prompt"></div>




<div class="output_png output_subarea ">
<img src="data:image/png;base64,iVBORw0KGgoAAAANSUhEUgAAAX4AAAERCAYAAAB8eMxzAAAABHNCSVQICAgIfAhkiAAAAAlwSFlz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"
>
</div>

</div>

</div>
</div>

</div>
<div class="cell border-box-sizing text_cell rendered"><div class="prompt input_prompt">
</div>
<div class="inner_cell">
<div class="text_cell_render border-box-sizing rendered_html">
<h3 id="Combining-Categorical-Plots">Combining Categorical Plots<a class="anchor-link" href="#Combining-Categorical-Plots">&#182;</a></h3>
</div>
</div>
</div>
<div class="cell border-box-sizing code_cell rendered">
<div class="input">
<div class="prompt input_prompt">In&nbsp;[61]:</div>
<div class="inner_cell">
    <div class="input_area">
<div class=" highlight hl-ipython3"><pre><span></span><span class="n">sns</span><span class="o">.</span><span class="n">violinplot</span><span class="p">(</span><span class="n">x</span><span class="o">=</span><span class="s2">&quot;tip&quot;</span><span class="p">,</span> <span class="n">y</span><span class="o">=</span><span class="s2">&quot;day&quot;</span><span class="p">,</span> <span class="n">data</span><span class="o">=</span><span class="n">tips</span><span class="p">,</span><span class="n">palette</span><span class="o">=</span><span class="s1">&#39;rainbow&#39;</span><span class="p">)</span>
<span class="n">sns</span><span class="o">.</span><span class="n">swarmplot</span><span class="p">(</span><span class="n">x</span><span class="o">=</span><span class="s2">&quot;tip&quot;</span><span class="p">,</span> <span class="n">y</span><span class="o">=</span><span class="s2">&quot;day&quot;</span><span class="p">,</span> <span class="n">data</span><span class="o">=</span><span class="n">tips</span><span class="p">,</span><span class="n">color</span><span class="o">=</span><span class="s1">&#39;black&#39;</span><span class="p">,</span><span class="n">size</span><span class="o">=</span><span class="mi">3</span><span class="p">)</span>
</pre></div>

</div>
</div>
</div>

<div class="output_wrapper">
<div class="output">


<div class="output_area">

<div class="prompt output_prompt">Out[61]:</div>




<div class="output_text output_subarea output_execute_result">
<pre>&lt;matplotlib.axes._subplots.AxesSubplot at 0x1228af668&gt;</pre>
</div>

</div>

<div class="output_area">

<div class="prompt"></div>




<div class="output_png output_subarea ">
<img src="data:image/png;base64,iVBORw0KGgoAAAANSUhEUgAAAY0AAAEMCAYAAAA4S+qsAAAABHNCSVQICAgIfAhkiAAAAAlwSFlz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"
>
</div>

</div>

</div>
</div>

</div>
<div class="cell border-box-sizing text_cell rendered"><div class="prompt input_prompt">
</div>
<div class="inner_cell">
<div class="text_cell_render border-box-sizing rendered_html">
<h2 id="factorplot">factorplot<a class="anchor-link" href="#factorplot">&#182;</a></h2><p>factorplot is the most general form of a categorical plot. It can take in a <strong>kind</strong> parameter to adjust the plot type:</p>

</div>
</div>
</div>
<div class="cell border-box-sizing code_cell rendered">
<div class="input">
<div class="prompt input_prompt">In&nbsp;[15]:</div>
<div class="inner_cell">
    <div class="input_area">
<div class=" highlight hl-ipython3"><pre><span></span><span class="n">sns</span><span class="o">.</span><span class="n">factorplot</span><span class="p">(</span><span class="n">x</span><span class="o">=</span><span class="s1">&#39;sex&#39;</span><span class="p">,</span><span class="n">y</span><span class="o">=</span><span class="s1">&#39;total_bill&#39;</span><span class="p">,</span><span class="n">data</span><span class="o">=</span><span class="n">tips</span><span class="p">,</span><span class="n">kind</span><span class="o">=</span><span class="s1">&#39;bar&#39;</span><span class="p">)</span>
</pre></div>

</div>
</div>
</div>

<div class="output_wrapper">
<div class="output">


<div class="output_area">

<div class="prompt output_prompt">Out[15]:</div>




<div class="output_text output_subarea output_execute_result">
<pre>&lt;seaborn.axisgrid.FacetGrid at 0x11d03a278&gt;</pre>
</div>

</div>

<div class="output_area">

<div class="prompt"></div>




<div class="output_png output_subarea ">
<img src="data:image/png;base64,iVBORw0KGgoAAAANSUhEUgAAARkAAAEZCAYAAACjEFEXAAAABHNCSVQICAgIfAhkiAAAAAlwSFlz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"
>
</div>

</div>

</div>
</div>

</div>
<div class="cell border-box-sizing text_cell rendered"><div class="prompt input_prompt">
</div>
<div class="inner_cell">
<div class="text_cell_render border-box-sizing rendered_html">
<h1 id="Great-Job!">Great Job!<a class="anchor-link" href="#Great-Job!">&#182;</a></h1>
</div>
</div>
</div>
    </div>
  </div>
</body>

 


</html>
